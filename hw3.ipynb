{
  "cells": [
    {
      "cell_type": "markdown",
      "metadata": {
        "id": "view-in-github",
        "colab_type": "text"
      },
      "source": [
        "<a href=\"https://colab.research.google.com/github/alirezakhaleghianaghizi/ml_1401/blob/main/hw3.ipynb\" target=\"_parent\"><img src=\"https://colab.research.google.com/assets/colab-badge.svg\" alt=\"Open In Colab\"/></a>"
      ]
    },
    {
      "cell_type": "markdown",
      "metadata": {
        "id": "dRoBqOu19WBF"
      },
      "source": [
        "علیرضا خالقی آناقیزی \n",
        "99101462\n",
        "\n",
        "سوال 2\n",
        "\n",
        "در قسمت زیر فایل های مورد نظر را در گوگل درایو ذخیره کردیم و سپسفایل های مورد نظر را لود کرده و دیتا های \n",
        "موجود را به ترتیب در ماتریس های \n",
        "\n",
        "SVT \n",
        "\n",
        "ذخیره کردیم."
      ]
    },
    {
      "cell_type": "code",
      "execution_count": 1,
      "metadata": {
        "colab": {
          "base_uri": "https://localhost:8080/"
        },
        "id": "1FDFa_JN2j83",
        "outputId": "60280950-6a40-4840-ead2-8d4982c2fc08"
      },
      "outputs": [
        {
          "output_type": "stream",
          "name": "stdout",
          "text": [
            "Mounted at /content/drive\n",
            "10000\n",
            "10000\n"
          ]
        }
      ],
      "source": [
        "import csv \n",
        "import numpy as np\n",
        "from google.colab import drive\n",
        "\n",
        "drive.mount('/content/drive')\n",
        "filename1='/content/drive/MyDrive/ml/fashion-mnist.csv' \n",
        "\n",
        "fields = []\n",
        "data = []\n",
        "ValidationSet=[]\n",
        "with open(filename1, 'r') as csvfile:\n",
        "    # creating a csv reader object\n",
        "    csvreader = csv.reader(csvfile)\n",
        "     \n",
        "    # extracting field names through first row\n",
        "    fields = next(csvreader)\n",
        " \n",
        "    # extracting each data row one by one \n",
        "    for row in csvreader:\n",
        "      data.append(row)  \n",
        "\n",
        "data=np.array(data,dtype=int).T\n",
        "#print(data)\n",
        "dataX=np.array(data[1:len(data)-1]).T\n",
        "dataY=data[len(data)-1]\n",
        "print(len(dataX))\n",
        "print(len(dataY))"
      ]
    },
    {
      "cell_type": "markdown",
      "metadata": {
        "id": "TVcyMTLi0cRB"
      },
      "source": [
        "در قسمت زیر با استفاده از کتابخانه \n",
        "\n",
        "sklearn \n",
        "\n",
        "با استفاده از تابع جدا سازی ابتدا ده ها ی نمرین را جدا کردیم و سپس از باقیمانده داده ها ولیدیشن و تست را جدا کردیم."
      ]
    },
    {
      "cell_type": "code",
      "execution_count": 2,
      "metadata": {
        "colab": {
          "base_uri": "https://localhost:8080/"
        },
        "id": "uDf1qOlxyDcJ",
        "outputId": "de3867ee-46fd-4180-d5f0-62da3265962b"
      },
      "outputs": [
        {
          "output_type": "stream",
          "name": "stdout",
          "text": [
            "[[0 0 0 ... 0 0 0]\n",
            " [0 0 0 ... 0 0 0]\n",
            " [0 0 0 ... 0 0 0]\n",
            " ...\n",
            " [0 0 0 ... 0 0 0]\n",
            " [0 0 0 ... 0 0 0]\n",
            " [0 0 0 ... 0 0 0]] [[0 0 0 ... 0 0 0]\n",
            " [0 0 0 ... 0 0 0]\n",
            " [0 0 0 ... 0 0 0]\n",
            " ...\n",
            " [0 0 0 ... 0 0 0]\n",
            " [0 0 0 ... 0 0 0]\n",
            " [0 0 0 ... 0 0 0]] [[0 0 0 ... 0 0 0]\n",
            " [0 0 0 ... 0 0 0]\n",
            " [0 0 0 ... 0 0 0]\n",
            " ...\n",
            " [0 0 0 ... 0 0 0]\n",
            " [0 0 0 ... 0 0 0]\n",
            " [0 0 1 ... 0 0 0]]\n"
          ]
        }
      ],
      "source": [
        "from sklearn.model_selection import train_test_split\n",
        "train_ratio = 0.50\n",
        "validation_ratio = 0.35\n",
        "test_ratio = 0.15\n",
        "\n",
        "# train is now 50% of the entire data set\n",
        "x_train, x_test, y_train, y_test = train_test_split(dataX, dataY, test_size=1 - train_ratio)\n",
        "\n",
        "# test is now 10% of the initial data set\n",
        "# validation is now 15% of the initial data set\n",
        "x_val, x_test, y_val, y_test = train_test_split(x_test, y_test, test_size=test_ratio) \n",
        "\n",
        "print(x_train, x_val, x_test)"
      ]
    },
    {
      "cell_type": "markdown",
      "metadata": {
        "id": "pv5npar0LM0K"
      },
      "source": [
        "روش اول :\n",
        "با استفاده از کتابخانه \n",
        "\n",
        "sklearn\n",
        "\n",
        "توابع اس وی ام را خارج کردیم و از تابع خطی آن یادگیری را انجام دادیم."
      ]
    },
    {
      "cell_type": "code",
      "execution_count": null,
      "metadata": {
        "id": "_t0I60FBLMac",
        "colab": {
          "base_uri": "https://localhost:8080/"
        },
        "outputId": "7ecf522b-2778-4ffc-cdb8-09df31efe7d0"
      },
      "outputs": [
        {
          "output_type": "stream",
          "name": "stderr",
          "text": [
            "/usr/local/lib/python3.8/dist-packages/sklearn/svm/_base.py:1206: ConvergenceWarning: Liblinear failed to converge, increase the number of iterations.\n",
            "  warnings.warn(\n"
          ]
        },
        {
          "output_type": "stream",
          "name": "stdout",
          "text": [
            "[[285, 4, 14, 27, 5, 0, 61, 2, 5, 0], [5, 394, 6, 11, 1, 0, 3, 3, 0, 0], [19, 3, 298, 3, 58, 0, 52, 1, 3, 0], [22, 11, 24, 314, 30, 0, 18, 0, 2, 3], [6, 1, 58, 14, 249, 0, 83, 0, 3, 0], [4, 0, 6, 3, 1, 328, 5, 45, 7, 13], [65, 2, 63, 14, 40, 0, 233, 0, 4, 0], [0, 0, 1, 1, 0, 17, 2, 394, 0, 35], [12, 1, 18, 11, 13, 12, 17, 3, 349, 0], [1, 1, 0, 0, 0, 11, 1, 20, 2, 394]]\n",
            "0.7618823529411765\n"
          ]
        }
      ],
      "source": [
        "from sklearn import svm\n",
        "lin_clf = svm.LinearSVC()\n",
        "lin_clf.fit(x_train,y_train)\n",
        "y_val_pred=lin_clf.predict(x_val)\n",
        "confusion_val_linear=get_confusion(y_pred=y_val_pred,y_true=y_val)\n",
        "print(confusion_val_linear)\n",
        "A_val_linear=np.trace(confusion_val_linear)/np.sum(confusion_val_linear)\n",
        "print(A_val_linear)"
      ]
    },
    {
      "cell_type": "markdown",
      "source": [
        "در قسمت زیر تابعی مینویسم که با گرفتن لیبل های پیش بینی شده و لیبل های اصلی ماتریس خطا را میسازیم"
      ],
      "metadata": {
        "id": "ntzgxsAcfTc8"
      }
    },
    {
      "cell_type": "code",
      "source": [
        "def get_confusion(y_pred,y_true):\n",
        "  confusion=[]\n",
        "  for j in range(10):\n",
        "    row=[]\n",
        "    for i in range(10):\n",
        "     k=0;\n",
        "     for m in range(len(y_pred)):\n",
        "       if y_pred[m]==i :\n",
        "         if y_true[m]==j:\n",
        "           k=k+1\n",
        "     row.append(k)    \n",
        "    confusion.append(row)\n",
        "  return confusion"
      ],
      "metadata": {
        "id": "IlCmpi-SfTH3"
      },
      "execution_count": 18,
      "outputs": []
    },
    {
      "cell_type": "markdown",
      "source": [
        "در این روش چون ما پارامتر انتخابی نداریم همان پیش بینی را برای داده های تست انجام میدهیم و ماتریس مورد نظر و دقت آن را مینویسیم."
      ],
      "metadata": {
        "id": "XNH1EZmowiSh"
      }
    },
    {
      "cell_type": "code",
      "source": [
        "y_test_pred=lin_clf.predict(x_test)\n",
        "confusion_test_linear=get_confusion(y_pred=y_test_pred,y_true=y_test)\n",
        "print(confusion_test_linear)\n",
        "A_test_linear=np.trace(confusion_test_linear)/np.sum(confusion_test_linear)\n",
        "print(A_test_linear)"
      ],
      "metadata": {
        "colab": {
          "base_uri": "https://localhost:8080/"
        },
        "id": "4gI_VCMlxXt6",
        "outputId": "b5dabccd-f955-4ce9-e474-980cca34dd20"
      },
      "execution_count": null,
      "outputs": [
        {
          "output_type": "stream",
          "name": "stdout",
          "text": [
            "[[49, 1, 2, 3, 2, 0, 7, 0, 1, 0], [2, 71, 2, 1, 0, 0, 1, 0, 0, 0], [4, 0, 57, 3, 8, 1, 8, 1, 0, 0], [7, 1, 6, 56, 4, 0, 4, 0, 0, 0], [1, 1, 9, 4, 50, 0, 18, 0, 1, 0], [0, 0, 0, 0, 0, 46, 0, 4, 2, 2], [8, 0, 12, 4, 9, 0, 46, 0, 3, 0], [0, 0, 0, 0, 0, 4, 0, 69, 0, 1], [3, 0, 4, 1, 1, 1, 8, 1, 71, 0], [0, 0, 0, 0, 0, 1, 0, 7, 0, 56]]\n",
            "0.7613333333333333\n"
          ]
        }
      ]
    },
    {
      "cell_type": "markdown",
      "source": [
        "دیدیم در هر دو داده های ولیدیشن وتست دقت ما در حدود 0.75 میباشد و ماتریس های خطا نیز در بالا قابل مشاهده هستند وچون داده های ولیدیشن از دو برابر تست بیشتر است ماتریس آن نیز درایه هایش بزرگتر هستند."
      ],
      "metadata": {
        "id": "mG5HQve4x4gh"
      }
    },
    {
      "cell_type": "markdown",
      "source": [
        "روش دوم :\n",
        "در اینجا ما کرنل مورد نظر را به صورت گاووسی قرار میدهیم.\n",
        "گوسی همان \n",
        "\n",
        "RBF\n",
        "\n",
        "با این تقاوت که پارامتر \n",
        "\n",
        "c\n",
        "\n",
        " آن برابر یک در نظر گرفته میشود . \n",
        " حال برای یک بازه از مقدار گاما میبینیم بهترین دقت برای کدام یکی است .\n",
        " "
      ],
      "metadata": {
        "id": "TYw9ioEby3Dj"
      }
    },
    {
      "cell_type": "code",
      "source": [
        "from sklearn.svm import SVC\n",
        "gamma_1d_range = np.logspace(-9,3,13)\n",
        "classifiers = []\n",
        "min_gamma=0;\n",
        "max_A=0;\n",
        "for mygamma in gamma_1d_range:\n",
        "  clf = SVC( kernel='rbf',C=1, gamma=mygamma)\n",
        "  clf.fit(x_train, y_train)\n",
        "  y_val_pred=clf.predict(x_val)\n",
        "  confusion_val_gaussian=get_confusion(y_pred=y_val_pred,y_true=y_val)\n",
        "  #print(confusion_val_gaussian)\n",
        "  A_val_gaussian=np.trace(confusion_val_gaussian)/np.sum(confusion_val_gaussian)\n",
        "  classifiers.append(A_val_gaussian)\n",
        "  if A_val_gaussian>max_A:\n",
        "    min_gamma=mygamma\n",
        "    max_A=A_val_gaussian\n",
        "print(min_gamma)\n",
        "print(classifiers)\n",
        "\n",
        "\n",
        "\n",
        "        "
      ],
      "metadata": {
        "colab": {
          "base_uri": "https://localhost:8080/"
        },
        "id": "5Y__O8jgyWEr",
        "outputId": "754427a6-7263-42e7-8c74-10d4d5f402db"
      },
      "execution_count": null,
      "outputs": [
        {
          "output_type": "stream",
          "name": "stdout",
          "text": [
            "1e-07\n",
            "[0.6581176470588235, 0.772235294117647, 0.8435294117647059, 0.8374117647058823, 0.18305882352941177, 0.09482352941176471, 0.09482352941176471, 0.09482352941176471, 0.09482352941176471, 0.09482352941176471, 0.09482352941176471, 0.09482352941176471, 0.09482352941176471]\n"
          ]
        }
      ]
    },
    {
      "cell_type": "markdown",
      "source": [
        "طبق محاسبات بالا برای گاما در حدود ده به توان منفی 7 مقدار دقت ما بیشینه شده است \n",
        "حال در حدود این اوردر دوباره نگاه نگاه میکنه ببینیم چه ضریبی در این اوردر مناسب است \n",
        "نکته محاسبات بالا در حدود بیست دقیقه طول کشید و یکمقدار کند بوده است دوباره بیست دقیقه لازم است تا ضریب را به دست آوریم"
      ],
      "metadata": {
        "id": "R_OkYG1Imily"
      }
    },
    {
      "cell_type": "code",
      "source": [
        "from sklearn.svm import SVC\n",
        "gamma_2d_range = (np.array(range(9))+1)*min_gamma\n",
        "classifiers = []\n",
        "conf_Matrixes=[]\n",
        "min_gamma=0;\n",
        "max_A=0;\n",
        "for mygamma in gamma_2d_range:\n",
        "  clf = SVC( kernel='rbf',C=1, gamma=mygamma)\n",
        "  clf.fit(x_train, y_train)\n",
        "  y_val_pred=clf.predict(x_val)\n",
        "  confusion_val_gaussian=get_confusion(y_pred=y_val_pred,y_true=y_val)\n",
        "  #print(confusion_val_gaussian)\n",
        "  A_val_gaussian=np.trace(confusion_val_gaussian)/np.sum(confusion_val_gaussian)\n",
        "  classifiers.append(A_val_gaussian)\n",
        "  if A_val_gaussian>max_A:\n",
        "    min_gamma=mygamma\n",
        "    max_A=A_val_gaussian\n",
        "    conf_Matrixes=confusion_val_gaussian\n",
        "print(min_gamma)\n",
        "print(classifiers)\n",
        "print(conf_Matrixes)"
      ],
      "metadata": {
        "colab": {
          "base_uri": "https://localhost:8080/"
        },
        "id": "YrrwA-55nNDU",
        "outputId": "14d3292d-b8fe-4fff-ea1f-fb5b564c53c9"
      },
      "execution_count": null,
      "outputs": [
        {
          "output_type": "stream",
          "name": "stdout",
          "text": [
            "4e-07\n",
            "[0.8435294117647059, 0.8541176470588235, 0.8569411764705882, 0.8588235294117647, 0.8564705882352941, 0.8550588235294118, 0.852, 0.8494117647058823, 0.8451764705882353]\n",
            "[[342, 1, 5, 14, 0, 0, 37, 0, 4, 0], [1, 398, 8, 13, 1, 0, 2, 0, 0, 0], [4, 0, 346, 5, 41, 0, 37, 0, 4, 0], [24, 1, 4, 374, 14, 0, 7, 0, 0, 0], [0, 0, 31, 6, 337, 0, 38, 0, 2, 0], [1, 0, 0, 0, 0, 377, 0, 18, 5, 11], [74, 0, 60, 6, 27, 0, 251, 0, 3, 0], [0, 0, 0, 0, 0, 11, 0, 415, 0, 24], [2, 0, 3, 1, 4, 5, 7, 3, 411, 0], [0, 0, 0, 0, 0, 9, 0, 21, 1, 399]]\n"
          ]
        }
      ]
    },
    {
      "cell_type": "markdown",
      "source": [
        "با توجه به نتایج بالا بهترین گاما برابر 4در ده به توان منفی 7 هستش که دقت آن برابر 0.8588 میباشد \n",
        "حال با توجه به این مقدار برای داده های تست دقت و ماتریس را تشکیل میدهیم."
      ],
      "metadata": {
        "id": "fXc4xX6qpHJJ"
      }
    },
    {
      "cell_type": "code",
      "source": [
        "from sklearn.svm import SVC\n",
        "best_gamma_gaussian=min_gamma\n",
        "clf = SVC( kernel='rbf',C=1, gamma=best_gamma_gaussian)\n",
        "clf.fit(x_train, y_train)\n",
        "y_test_pred=clf.predict(x_test)\n",
        "confusion_test_gaussian=get_confusion(y_pred=y_test_pred,y_true=y_test)\n",
        "print(confusion_test_gaussian)\n",
        "A_test_gaussian=np.trace(confusion_test_gaussian)/np.sum(confusion_test_gaussian)\n",
        "print(A_test_gaussian)"
      ],
      "metadata": {
        "colab": {
          "base_uri": "https://localhost:8080/"
        },
        "id": "DAa8cDk1q0wY",
        "outputId": "8efb1446-f5af-4cc7-dd42-d4ee4038f1cf"
      },
      "execution_count": null,
      "outputs": [
        {
          "output_type": "stream",
          "name": "stdout",
          "text": [
            "[[57, 0, 1, 1, 0, 0, 5, 0, 1, 0], [1, 71, 1, 3, 0, 0, 0, 0, 1, 0], [2, 0, 63, 1, 12, 0, 4, 0, 0, 0], [4, 0, 1, 68, 4, 0, 1, 0, 0, 0], [0, 0, 6, 1, 64, 0, 13, 0, 0, 0], [0, 0, 0, 0, 0, 50, 0, 2, 1, 1], [13, 0, 7, 0, 8, 0, 50, 0, 4, 0], [0, 0, 0, 0, 0, 1, 0, 69, 0, 4], [0, 0, 2, 0, 0, 1, 3, 2, 82, 0], [0, 0, 0, 0, 0, 0, 0, 3, 0, 61]]\n",
            "0.8466666666666667\n"
          ]
        }
      ]
    },
    {
      "cell_type": "markdown",
      "source": [
        "نتیجه نهایی در کرنل گووسی با گاما مورد نظر دقت برابر 0.846 و ماتریس مورد نظر نیز در بالا میباشد که نسبت به یادگیری خطی نتیجه بهتری به دست آوردیم ."
      ],
      "metadata": {
        "id": "aNGdVit_r3ng"
      }
    },
    {
      "cell_type": "code",
      "source": [
        "#from sklearn.gaussian_process import GaussianProcessClassifier\n",
        "#from sklearn.gaussian_process.kernels import RBF\n",
        "#classifiers = []\n",
        "#gammas=np.logspace(-9,3,13)\n",
        "#min_gamma=0;\n",
        "#max_A=0;\n",
        "#for gamma in gammas :\n",
        "#  kernel = 1.0 * RBF(gamma)\n",
        "#  gpc = GaussianProcessClassifier(kernel=kernel, random_state=0).fit(x_train, y_train)\n",
        "#  y_val_pred=gpc.predict(x_val)\n",
        "#  confusion_val_gaussian=get_confusion(y_pred=y_val_pred,y_true=y_val)\n",
        "  #print(confusion_val_gaussian)\n",
        "#  A_val_gaussian=np.trace(confusion_val_gaussian)/np.sum(confusion_val_gaussian)\n",
        "#  classifiers.append(A_val_gaussian)\n",
        "#  if A_val_gaussian>max_A:\n",
        "#    min_gamma=mygamma\n",
        "#    max_A=A_val_gaussian\n",
        "#print(min_gamma)\n",
        "#print(classifiers)"
      ],
      "metadata": {
        "id": "HUeY92RwDJgI"
      },
      "execution_count": null,
      "outputs": []
    },
    {
      "cell_type": "markdown",
      "source": [
        "روش سوم :\n",
        "در اینجا از کتابخانه \n",
        "\n",
        "sklearn .knn\n",
        "\n",
        " استفاده میکنیم که پارامتر متریک را باید اقلیدسی بگذاریم تا فاصله اقلیدسی حساب کند سپس برای \n",
        "\n",
        " k \n",
        "\n",
        " های مختلف مقدار دقت را حساب میکنیم."
      ],
      "metadata": {
        "id": "NM5AWRRatyda"
      }
    },
    {
      "cell_type": "code",
      "source": [
        "from sklearn.neighbors import KNeighborsClassifier\n",
        "k_1d=np.logspace(0,3,4)\n",
        "classifiers = []\n",
        "min_k=0;\n",
        "max_A=0;\n",
        "#x_train = x_train.astype(int)\n",
        "#print(y_train)\n",
        "#y_train = y_train.astype(int)\n",
        "#print(y_train)\n",
        "for myk in k_1d:\n",
        "  knn = KNeighborsClassifier(n_neighbors=int(myk),metric='euclidean')  \n",
        "  knn.fit(x_train,y_train) \n",
        "  y_val_pred=knn.predict(x_val)\n",
        "  confusion_val_knn=get_confusion(y_pred=y_val_pred,y_true=y_val)\n",
        "  #print(confusion_val_gaussian)\n",
        "  A_val_knn=np.trace(confusion_val_knn)/np.sum(confusion_val_knn)\n",
        "  classifiers.append(A_val_knn)\n",
        "  if A_val_knn>max_A:\n",
        "    min_k=myk\n",
        "    max_A=A_val_knn\n",
        "print(min_k)\n",
        "print(classifiers)\n",
        "\n",
        "\n"
      ],
      "metadata": {
        "colab": {
          "base_uri": "https://localhost:8080/"
        },
        "id": "jREkTPe2uIOw",
        "outputId": "c4e18425-dd03-4728-e6f3-5a0943806906"
      },
      "execution_count": 24,
      "outputs": [
        {
          "output_type": "stream",
          "name": "stdout",
          "text": [
            "10.0\n",
            "[0.7955294117647059, 0.804, 0.7569411764705882, 0.5854117647058823]\n"
          ]
        }
      ]
    },
    {
      "cell_type": "markdown",
      "source": [
        "در بالا دیدیم در بازه همسایه های 10 تایی جواب خوبی به دست آورده ایم.\n",
        "و الان در ضرایب آن میبینیم چه عددی بهتر است"
      ],
      "metadata": {
        "id": "0LYLxx7W7wGK"
      }
    },
    {
      "cell_type": "code",
      "source": [
        "from sklearn.neighbors import KNeighborsClassifier\n",
        "k_2d = [*(np.array(range(9))+1)*10/10,*(np.array(range(9))+1)*10]\n",
        "classifiers = []\n",
        "conf_Matrixes=[]\n",
        "min_k=0;\n",
        "max_A=0;\n",
        "for myk in k_2d:\n",
        "  knn = KNeighborsClassifier(n_neighbors=int(myk),metric='euclidean')  \n",
        "  knn.fit(x_train,y_train) \n",
        "  y_val_pred=knn.predict(x_val)\n",
        "  confusion_val_knn=get_confusion(y_pred=y_val_pred,y_true=y_val)\n",
        "  #print(confusion_val_gaussian)\n",
        "  A_val_knn=np.trace(confusion_val_knn)/np.sum(confusion_val_knn)\n",
        "  classifiers.append(A_val_knn)\n",
        "  if A_val_knn>max_A:\n",
        "    min_k=myk\n",
        "    max_A=A_val_knn\n",
        "    conf_Matrixes=confusion_val_knn\n",
        "print(min_k)\n",
        "print(classifiers)\n",
        "print(conf_Matrixes)"
      ],
      "metadata": {
        "colab": {
          "base_uri": "https://localhost:8080/"
        },
        "id": "RHDY3P-X75y6",
        "outputId": "642472ad-96a0-4a77-995c-c9f8e2833b30"
      },
      "execution_count": 32,
      "outputs": [
        {
          "output_type": "stream",
          "name": "stdout",
          "text": [
            "4.0\n",
            "[0.7955294117647059, 0.7983529411764706, 0.8054117647058824, 0.8105882352941176, 0.8101176470588235, 0.8068235294117647, 0.8077647058823529, 0.808, 0.8072941176470588, 0.804, 0.7858823529411765, 0.7795294117647059, 0.776235294117647, 0.7736470588235295, 0.7708235294117647, 0.7687058823529411, 0.7649411764705882, 0.76]\n",
            "[[357, 1, 10, 11, 3, 0, 30, 0, 4, 0], [6, 404, 2, 7, 3, 0, 1, 0, 1, 0], [15, 0, 314, 5, 58, 0, 43, 0, 3, 0], [32, 15, 5, 373, 11, 0, 3, 0, 0, 0], [3, 1, 68, 26, 277, 0, 48, 0, 0, 0], [4, 0, 1, 0, 3, 298, 0, 66, 2, 29], [91, 1, 67, 7, 35, 0, 205, 0, 4, 0], [0, 0, 0, 0, 2, 3, 0, 400, 0, 20], [2, 0, 5, 5, 7, 1, 5, 6, 420, 1], [0, 0, 2, 0, 0, 3, 0, 18, 0, 397]]\n"
          ]
        }
      ]
    },
    {
      "cell_type": "markdown",
      "source": [
        "حال با توجه به بهینه ترین تعداد همسایه میتوانیم برای داده های تست به دست آوریم\n",
        "در بالا نیز دقت و ماتریس خطا برای داده های ولیدیشن در بهترین نقاط همسایه نمایش داده شده است."
      ],
      "metadata": {
        "id": "GmTAv8t-SGOL"
      }
    },
    {
      "cell_type": "code",
      "source": [
        "from sklearn.neighbors import KNeighborsClassifier\n",
        "best_k=min_k\n",
        "knn = KNeighborsClassifier(n_neighbors=int(best_k),metric='euclidean')  \n",
        "knn.fit(x_train,y_train)\n",
        "y_test_pred=knn.predict(x_test)\n",
        "confusion_test_knn=get_confusion(y_pred=y_test_pred,y_true=y_test)\n",
        "print(confusion_test_knn)\n",
        "A_test_knn=np.trace(confusion_test_knn)/np.sum(confusion_test_knn)\n",
        "print(A_test_knn)"
      ],
      "metadata": {
        "colab": {
          "base_uri": "https://localhost:8080/"
        },
        "id": "l69sEsStQrnL",
        "outputId": "95a107e7-6c57-4e13-b4ec-e985dc9d81f8"
      },
      "execution_count": 34,
      "outputs": [
        {
          "output_type": "stream",
          "name": "stdout",
          "text": [
            "[[57, 0, 1, 0, 0, 0, 6, 0, 0, 0], [0, 79, 1, 2, 1, 0, 1, 0, 0, 0], [1, 0, 62, 0, 5, 0, 10, 0, 1, 0], [7, 0, 0, 56, 0, 0, 2, 0, 0, 0], [1, 0, 14, 5, 40, 0, 8, 0, 0, 0], [0, 0, 0, 1, 0, 48, 0, 8, 1, 3], [25, 0, 14, 0, 4, 0, 46, 0, 0, 0], [0, 0, 0, 0, 0, 0, 0, 87, 0, 5], [1, 0, 2, 0, 0, 0, 0, 0, 71, 0], [0, 0, 0, 0, 0, 1, 0, 4, 0, 69]]\n",
            "0.82\n"
          ]
        }
      ]
    },
    {
      "cell_type": "markdown",
      "source": [
        "در بالا مشاهده میکنیم که دقت ما برای داده های تست 0.82 میباشد که نسبت به تبدیل خطی بهتر بوده ولی نسبت به تبدیل گووسی کمتر میباشد .\n",
        "ماتریس خطا نیز در بالا قابل مشاهدهد است."
      ],
      "metadata": {
        "id": "OVtud9hrTHyJ"
      }
    },
    {
      "cell_type": "markdown",
      "source": [
        "روش چهارم:\n",
        "طبقه بندی\n",
        "\n",
        "در این روش دیگر پارامتری مورد نیاز نیست که بهترین مقدارش را پیدا کنیم."
      ],
      "metadata": {
        "id": "gwDu6LtoTbbB"
      }
    },
    {
      "cell_type": "code",
      "source": [
        "from sklearn import tree\n",
        "tree_clf = tree.DecisionTreeClassifier()\n",
        "tree_clf.fit(x_train,y_train)\n",
        "y_val_pred=tree_clf.predict(x_val)\n",
        "confusion_val_tree=get_confusion(y_pred=y_val_pred,y_true=y_val)\n",
        "print(confusion_val_tree)\n",
        "A_val_tree=np.trace(confusion_val_tree)/np.sum(confusion_val_tree)\n",
        "print(A_val_tree)"
      ],
      "metadata": {
        "colab": {
          "base_uri": "https://localhost:8080/"
        },
        "id": "MtHPQ3IzcbQp",
        "outputId": "2c4c98e2-bbbc-4ad1-c4fe-2a6b83da4f68"
      },
      "execution_count": 35,
      "outputs": [
        {
          "output_type": "stream",
          "name": "stdout",
          "text": [
            "[[302, 6, 9, 25, 12, 4, 48, 0, 9, 1], [8, 393, 0, 14, 3, 2, 3, 0, 1, 0], [8, 2, 265, 12, 66, 0, 69, 0, 14, 2], [29, 14, 10, 346, 16, 0, 20, 0, 3, 1], [8, 2, 72, 32, 225, 1, 75, 0, 7, 1], [1, 0, 1, 1, 0, 334, 3, 43, 5, 15], [48, 1, 44, 28, 60, 4, 213, 0, 12, 0], [0, 0, 0, 0, 0, 34, 1, 354, 2, 34], [6, 0, 3, 10, 6, 7, 6, 5, 405, 4], [0, 0, 2, 0, 1, 24, 2, 35, 3, 353]]\n",
            "0.7505882352941177\n"
          ]
        }
      ]
    },
    {
      "cell_type": "markdown",
      "source": [
        "خب در بالا نتیجه حاصل از یادگیری این گونه شد که دقت داده های ولیدیشن برابر 0.75 و ماتریس مورد نظر نیز قابل مشاهده است "
      ],
      "metadata": {
        "id": "mjyU7uLfdZkn"
      }
    },
    {
      "cell_type": "code",
      "source": [
        "\n",
        "y_test_pred=tree_clf.predict(x_test)\n",
        "confusion_test_tree=get_confusion(y_pred=y_test_pred,y_true=y_test)\n",
        "print(confusion_test_tree)\n",
        "A_test_tree=np.trace(confusion_test_tree)/np.sum(confusion_test_tree)\n",
        "print(A_test_tree)"
      ],
      "metadata": {
        "colab": {
          "base_uri": "https://localhost:8080/"
        },
        "id": "unWZiQYcdE8C",
        "outputId": "3f97901f-252d-4ee0-a990-578be2d6d0bf"
      },
      "execution_count": 36,
      "outputs": [
        {
          "output_type": "stream",
          "name": "stdout",
          "text": [
            "[[44, 0, 3, 2, 1, 0, 14, 0, 0, 0], [2, 72, 0, 7, 2, 1, 0, 0, 0, 0], [1, 0, 54, 3, 11, 0, 7, 0, 3, 0], [8, 1, 0, 50, 1, 0, 3, 0, 1, 1], [0, 0, 16, 4, 35, 0, 13, 0, 0, 0], [1, 0, 0, 2, 0, 48, 0, 6, 2, 2], [15, 1, 12, 5, 10, 1, 44, 0, 1, 0], [0, 0, 0, 0, 0, 5, 0, 76, 1, 10], [1, 0, 0, 1, 0, 0, 3, 0, 68, 1], [0, 1, 0, 0, 0, 4, 0, 7, 2, 60]]\n",
            "0.7346666666666667\n"
          ]
        }
      ]
    },
    {
      "cell_type": "markdown",
      "source": [
        "در بالا نیز نتیجه نهایی برای داده های تست دقت ما 0.73 شد که این نتیجه از یادگیری خطی نیز دقت پایین تری داشته است ."
      ],
      "metadata": {
        "id": "9LhRQflLd5rv"
      }
    },
    {
      "cell_type": "markdown",
      "source": [
        "روش چهارم :    شبکه های عصبی\n",
        "\n"
      ],
      "metadata": {
        "id": "0b45OVbaeMTe"
      }
    }
  ],
  "metadata": {
    "colab": {
      "provenance": [],
      "authorship_tag": "ABX9TyPRQaX6h9BJj4AGVEygoiHB",
      "include_colab_link": true
    },
    "kernelspec": {
      "display_name": "Python 3",
      "name": "python3"
    },
    "language_info": {
      "name": "python"
    }
  },
  "nbformat": 4,
  "nbformat_minor": 0
}