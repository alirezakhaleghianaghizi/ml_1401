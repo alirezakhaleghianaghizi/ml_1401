{
  "cells": [
    {
      "cell_type": "markdown",
      "metadata": {
        "id": "view-in-github",
        "colab_type": "text"
      },
      "source": [
        "<a href=\"https://colab.research.google.com/github/alirezakhaleghianaghizi/ml_1401/blob/main/A_star.ipynb\" target=\"_parent\"><img src=\"https://colab.research.google.com/assets/colab-badge.svg\" alt=\"Open In Colab\"/></a>"
      ]
    },
    {
      "cell_type": "markdown",
      "metadata": {
        "id": "Pqhv3dFmJoWF"
      },
      "source": [
        "<img src='http://www-scf.usc.edu/~ghasemig/images/sharif.png' alt=\"SUT logo\" width=300 height=300 align=left class=\"saturate\" >\n",
        "\n",
        "<br>\n",
        "<font>\n",
        "<div dir=ltr align=center>\n",
        "<font color=0F5298 size=7>\n",
        "    Artificial Intelligence <br>\n",
        "<font color=2565AE size=5>\n",
        "    Computer Engineering Department <br>\n",
        "    Spring 2023<br>\n",
        "<font color=3C99D size=5>\n",
        "    Practical Assignment 1 - Search <br>\n",
        "<font color=696880 size=4>\n",
        "    Mohammad Mahdi Abootorabi and Roozbeh Pirayadi \n",
        "\n",
        "____"
      ]
    },
    {
      "cell_type": "markdown",
      "metadata": {
        "id": "QEPBK1KoJoWI"
      },
      "source": [
        "# Personal Data"
      ]
    },
    {
      "cell_type": "code",
      "execution_count": 85,
      "metadata": {
        "id": "Z9on26lUJoWJ"
      },
      "outputs": [],
      "source": [
        "# Set your student number\n",
        "student_number = '99101462'\n",
        "Name = 'Alireza'\n",
        "Last_Name = 'Khaleghi_Anaghizi'"
      ]
    },
    {
      "cell_type": "markdown",
      "metadata": {
        "id": "EuvKOrZLJoWK"
      },
      "source": [
        "# Rules\n",
        "- Make sure that all of your cells can be run perfectly. "
      ]
    },
    {
      "cell_type": "markdown",
      "metadata": {
        "id": "-L6e-ErpJoWK"
      },
      "source": [
        "# Q1: Elevator Ride (100 Points)"
      ]
    },
    {
      "cell_type": "markdown",
      "metadata": {
        "id": "IJsat7xUJoWK"
      },
      "source": [
        "<font size=4>\n",
        "Author: Roozbeh Pirayadi\n",
        "\t\t\t<br/>\n",
        "                <font color=red>\n",
        "Please run all the cells.\n",
        "     </font>\n",
        "</font>\n",
        "                <br/>\n",
        "    </div>"
      ]
    },
    {
      "cell_type": "markdown",
      "metadata": {
        "id": "qh9U_8YfJoWK"
      },
      "source": [
        "## Problem Definition"
      ]
    },
    {
      "cell_type": "markdown",
      "metadata": {
        "id": "wDv7vE64JoWK"
      },
      "source": [
        "Computer Engineering department has two floors. There are N students and M professors on the first floor, all of whom, want to go from the first floor to the second floor. The only way to move from the first floor to the second one is by using an elevator. \n",
        "\n",
        "At most two people can fit in the elevator at the same time. Also, the elevator cannot operate by itself. This means that when the elevator moves up or down, there is either one person in the elevator or there are two people in it. \n",
        "\n",
        "But there is a problem. \n",
        "If in any of the mentioned floors, there are more students than proffesors, students will start asking questions from the professors. Professors are not willing to answer any question. So none of them wants to be in a floor where the number of students is more than the number of professors. Note that when there is no professor in the floor the number of students is not important. But when there is, the number of students must be less than or equal to the number of professors.\n",
        "\n",
        "Our goal is to find a schedule for the people to get on the elevator so that this constraint is satisfied.\n",
        "\n",
        "Below you can see a solution for 4 students and 4 professors"
      ]
    },
    {
      "cell_type": "markdown",
      "metadata": {
        "id": "3s8i_GznJoWL"
      },
      "source": [
        "![SegmentLocal](images/result_of_5_3.gif \"segment\")"
      ]
    },
    {
      "cell_type": "markdown",
      "metadata": {
        "id": "wwDWnBiuJoWL"
      },
      "source": [
        "Every state in the discussed problem could be represented as a 5-tuple (s1, p1, s2, p2, e). Where s1 is the number of students in the first floor, p1 is the number of professors in the first floor, s2 is the number of students in the second floor and p2 is the number of professors in the second floor. Finally e shows which floor the elevator is.\n",
        "\n",
        "Our goal is to find a feasible solution. we will do this by starting from the initial state and searching for the final state. Note that there may be more than one way to the final state so the solution is not unique."
      ]
    },
    {
      "cell_type": "markdown",
      "metadata": {
        "id": "FsJSbnqRJoWM"
      },
      "source": [
        "## Solution"
      ]
    },
    {
      "cell_type": "markdown",
      "metadata": {
        "id": "7Pp-UvCCJoWM"
      },
      "source": [
        "### Graph"
      ]
    },
    {
      "cell_type": "markdown",
      "metadata": {
        "id": "wpycEe8SJoWM"
      },
      "source": [
        "Below is an implementation of a directed weighted graph. You don't need to change anything in this cell. Just take a look at the code, so you could use it."
      ]
    },
    {
      "cell_type": "code",
      "execution_count": 86,
      "metadata": {
        "id": "2UgwLmymJoWM"
      },
      "outputs": [],
      "source": [
        "###########################################\n",
        "###### no need to change any thing ########\n",
        "###########################################\n",
        "class graph:\n",
        "    def __init__(self):\n",
        "        self.graph = {}\n",
        "        self.visited = {}\n",
        "\n",
        "    # add a new edge between v1 and v2 with weight w or update the weight if edge already exists\n",
        "    def append(self, v1, v2, w):\n",
        "        if v1 not in self.graph.keys():\n",
        "            self.graph[v1] = {}\n",
        "            self.visited[v1] = 0\n",
        "        if v2 not in self.graph.keys():\n",
        "            self.graph[v2] = {}\n",
        "            self.visited[v2] = 0\n",
        "        self.graph[v1][v2] = w\n",
        "\n",
        "    # return adjacency list (used for debugging)\n",
        "    def reveal(self):\n",
        "        return self.graph\n",
        "\n",
        "    # return all vertices in the graph\n",
        "    def vertex(self):\n",
        "        return list(self.graph.keys())\n",
        "\n",
        "    # return all neighbours of a vertix as a list\n",
        "\n",
        "    def neighbour(self, v):\n",
        "        return list(self.graph[v].keys())\n",
        "\n",
        "    # return the weight of a edge\n",
        "\n",
        "    def weight(self, v1, v2):\n",
        "        return (self.graph[v1][v2])\n",
        "\n",
        "    # return the number of vertices\n",
        "\n",
        "    def order(self):\n",
        "        return len(self.graph)\n",
        "\n",
        "    # visit a particular vertex\n",
        "    def visit(self, v):\n",
        "        self.visited[v] = 1\n",
        "\n",
        "    # return the visit status of a particular vertex\n",
        "    def is_visited(self, vertexid):\n",
        "        return self.visited[vertexid]\n",
        "\n",
        "    # return which vertices have been visited\n",
        "    def get_visited(self):\n",
        "        return self.visited\n",
        "\n",
        "    # return degree of a particular vertex\n",
        "    def degree(self, vertexid):\n",
        "        return len(self.graph[vertexid])\n",
        "\n",
        "    # unvisit the whole graph        if whole is True\n",
        "    # unvisit a particular vertex    if whole is False\n",
        "    def clear(self, v=None, whole=False):\n",
        "        if whole:\n",
        "            self.visited = dict(zip(self.graph.keys(), [0 for i in range(len(self.graph))]))\n",
        "        elif v is not None:\n",
        "            self.visited[v] = 0\n",
        "        else:\n",
        "            assert False, \"arguments must satisfy whole=True or v not None\"\n"
      ]
    },
    {
      "cell_type": "markdown",
      "metadata": {
        "id": "M_4GmeEXJoWN"
      },
      "source": [
        "#### Building the graph of states"
      ]
    },
    {
      "cell_type": "markdown",
      "metadata": {
        "id": "EwN2zp-HJoWN"
      },
      "source": [
        "Let's start by a little example and consider a situation where we there are 3 students and 3 professors. Note that your code should be written for the general case using the variables N and M."
      ]
    },
    {
      "cell_type": "code",
      "execution_count": 87,
      "metadata": {
        "id": "-D8dliJWJoWN"
      },
      "outputs": [],
      "source": [
        "# Number of Students\n",
        "N = 3\n",
        "# Number of Professors\n",
        "M = 3"
      ]
    },
    {
      "cell_type": "markdown",
      "metadata": {
        "id": "AplSvU_rJoWN"
      },
      "source": [
        "First let's implement a function that receives a 4-tuple (s1, p1, s2, p2) as an input and checks whether this state is a valid one or not. Note that e (position of the elevator) cannot affect the validity of a state so it is not provided as an input."
      ]
    },
    {
      "cell_type": "code",
      "execution_count": 88,
      "metadata": {
        "id": "Kzmuc0PcJoWN"
      },
      "outputs": [],
      "source": [
        "# validate a state (s1, p1, s2, p2)\n",
        "# if the constraints are satisfied return true, else return false\n",
        "def validate(input):\n",
        "\n",
        "    s1, p1, s2, p2 = input\n",
        "    if int(p1) < int(s1) and int(p1) > 0 : return 0\n",
        "    elif int(p2) < int(s2) and int(p2) > 0 : return 0\n",
        "    elif int(s1) < 0 or int(p1) < 0 or int(s2) < 0 or int(p2) < 0 : return 0\n",
        "    else : return 1\n",
        "\n",
        "# tetst code :\n",
        "#validate(input().split(\" \"))"
      ]
    },
    {
      "cell_type": "markdown",
      "metadata": {
        "id": "1zfXZvLsJoWN"
      },
      "source": [
        "The below function must build the whole graph. Each scenario is a vertex and v1 is connected to v2 with weight 1 if scenario in v1 could be changed to the scenario in v2 by only one traversal of the elevator.\n",
        "\n",
        "Hint: you can iterate over different values of s1, p1 and e and determine s2 and p2 using N and M. Then you can check all different actions and use the validate function to determine whether taking this action is possible or not."
      ]
    },
    {
      "cell_type": "code",
      "execution_count": 89,
      "metadata": {
        "id": "cfxiOehFJoWO"
      },
      "outputs": [],
      "source": [
        "# builds the complete graph\n",
        "def build_graph(N, M):\n",
        "    G = graph()\n",
        "\n",
        "\n",
        "    for i in range(M+1):\n",
        "      for j in range(N+1):\n",
        "        ve1=(j,i,N-j,M-i,1)\n",
        "        ve2=(j,i,N-j,M-i,2)\n",
        "\n",
        "        if validate(ve1[0:4]):\n",
        "          elv_size = 2\n",
        "          for k in range(elv_size+1):\n",
        "            for m in range(k+1):\n",
        "              dif = k-m\n",
        "              #elevator go up\n",
        "              v1 = (j-dif,i-m,N-j+dif,M-i+m,2)\n",
        "              w = 1\n",
        "              if validate(v1[0:4]) and m+k>0:\n",
        "                G.append( ve1, v1, w)                \n",
        "\n",
        "        if validate(ve2[0:4]):\n",
        "          elv_size = 2\n",
        "          for k in range(elv_size+1):\n",
        "            for m in range(k+1):\n",
        "              dif = k-m\n",
        "              #elevator go down\n",
        "              v2 = (j+dif,i+m,N-j-dif,M-i-m,1)\n",
        "              w = 1\n",
        "              if validate(v2[0:4]) and m+k>0:\n",
        "                G.append( ve2, v2, w)\n",
        "                \n",
        "    return G\n"
      ]
    },
    {
      "cell_type": "code",
      "execution_count": 90,
      "metadata": {
        "id": "KhVTaHBCJoWO"
      },
      "outputs": [],
      "source": [
        "G = build_graph(N, M)"
      ]
    },
    {
      "cell_type": "markdown",
      "metadata": {
        "id": "RVKmnqoDJoWO"
      },
      "source": [
        "### Depth First Search"
      ]
    },
    {
      "cell_type": "markdown",
      "metadata": {
        "id": "LIEBLg3PJoWO"
      },
      "source": [
        "The first algorithm we use to solve the problem is Depth First Search. The function below  executes DFS on G from start until it reaches end. Note that if end is not reachable from start this function returns false and otherwise it returns the found path as a list of states. DFS code is completely and it is used as a baseline to evaulute your A* implementation in the next part."
      ]
    },
    {
      "cell_type": "code",
      "execution_count": 91,
      "metadata": {
        "id": "3g51s-X5JoWP"
      },
      "outputs": [],
      "source": [
        "###########################################\n",
        "###### no need to change any thing ########\n",
        "###########################################\n",
        "# Depth First Search to find the path from start to end\n",
        "def run_dfs(G, start, end):\n",
        "    queue = []\n",
        "    queue.append(start)\n",
        "\n",
        "    # pred keeps track of how we got to the current vertex\n",
        "    pred = {}\n",
        "\n",
        "    while queue:\n",
        "        current = queue.pop(0)\n",
        "        G.visit(current)\n",
        "\n",
        "        smallq = []\n",
        "\n",
        "        # find children and add to the priority\n",
        "        for newpos in G.neighbour(current):\n",
        "            if not G.is_visited(newpos):\n",
        "                # if the child vertex has already been in queue\n",
        "                # move it to the frontline of queue\n",
        "                if newpos in queue:\n",
        "                    queue.remove(newpos)\n",
        "                smallq.append(newpos)\n",
        "                pred[newpos] = current\n",
        "\n",
        "        queue = smallq+queue\n",
        "\n",
        "        # traversal ends when the target is met\n",
        "        if current == end:\n",
        "            break\n",
        "\n",
        "    if current != end:\n",
        "        return False\n",
        "\n",
        "    # create the path by backtracking\n",
        "    # trace the predecessor vertex from end to start\n",
        "    previous = end\n",
        "    path = []\n",
        "    while pred:\n",
        "        path.insert(0, previous)\n",
        "        if previous == start:\n",
        "            break\n",
        "        previous = pred[previous]\n",
        "\n",
        "    return path\n"
      ]
    },
    {
      "cell_type": "code",
      "execution_count": 92,
      "metadata": {
        "id": "NPD1HWFKJoWP"
      },
      "outputs": [],
      "source": [
        "start_vertex = (N, M, 0, 0, 1)\n",
        "end_vertex = (0, 0, N, M, 2)"
      ]
    },
    {
      "cell_type": "code",
      "execution_count": 93,
      "metadata": {
        "id": "KAFsgbINJoWP",
        "colab": {
          "base_uri": "https://localhost:8080/"
        },
        "outputId": "d875a7c7-0a89-47f2-8149-8aa067e21cb5"
      },
      "outputs": [
        {
          "output_type": "stream",
          "name": "stdout",
          "text": [
            "length of the path DFS has found: 11\n",
            "number of vertices DFS has traveled: 14\n"
          ]
        }
      ],
      "source": [
        "###########################################\n",
        "###### no need to change any thing ########\n",
        "###########################################\n",
        "def dfs_result(G, start_vertex, end_vertex):\n",
        "\n",
        "    dfs_path = run_dfs(G, start_vertex, end_vertex)\n",
        "\n",
        "    num_of_visited_dfs = 0\n",
        "    num_of_visited_dfs = len([i for i in G.get_visited() if G.get_visited()[i] == 1])\n",
        "\n",
        "    G.clear(whole=True)\n",
        "\n",
        "    if not dfs_path:\n",
        "        print(\"end vertex not reachable\")\n",
        "    else:\n",
        "        print(f'length of the path DFS has found:', len(dfs_path) - 1)\n",
        "\n",
        "    print(f'number of vertices DFS has traveled:', num_of_visited_dfs)\n",
        "\n",
        "\n",
        "dfs_result(G, start_vertex, end_vertex)\n"
      ]
    },
    {
      "cell_type": "markdown",
      "metadata": {
        "id": "otwgdSGGJoWP"
      },
      "source": [
        "### A* Algorithm"
      ]
    },
    {
      "cell_type": "markdown",
      "metadata": {
        "id": "kZ0MhE_aJoWP"
      },
      "source": [
        "Next we use the A* algorithm. To use A* we need to propose a heuristic function. Propose a non-trivial heuristic function and argue that it is admissible. (10 Points)\n",
        "\n"
      ]
    },
    {
      "cell_type": "markdown",
      "metadata": {
        "id": "GXwJqxnXJoWP"
      },
      "source": [
        "<font color='cyan'>\n",
        "\n",
        "$$\n",
        " h((s1, p1, s2, p2, e)) = ?\n",
        "$$\n",
        "\n",
        "Your explanation.\n",
        "\n",
        "</font>\n",
        "\n"
      ]
    },
    {
      "cell_type": "markdown",
      "source": [
        "one good heuristic function is wich calculate the times evaluator must at least move up and down to transfer all .the minimum of evaluator action it bring 2 person up and one person down to have the maximum up transfer .\n",
        "so if e is 1 it act at least 2((s1+p1)-1)-1 if s1+p1 is greater than 1 and 0 if no one in first flour and 1 if one person there. \n",
        "if e is 2 so it act at least 2((s1+p1)) if s1+p1 is greater than 0 and 0 if no one in first flour.\n",
        "\n",
        "this is an admissibale function becuse ignoring the limit of professor proportion we just seek the minimum action but with that limit we have more actions."
      ],
      "metadata": {
        "id": "6EzpMq4SmhAi"
      }
    },
    {
      "cell_type": "code",
      "execution_count": 94,
      "metadata": {
        "id": "_b9D718rJoWQ"
      },
      "outputs": [],
      "source": [
        "def heuristic_func(input):\n",
        "    s1, p1, s2, p2, e = input\n",
        "    \n",
        "    h=0\n",
        "    if e == 1:\n",
        "      if (s1+p1)>1:\n",
        "        h = 2*(s1+p1-1)-1\n",
        "      elif (s1+p1)==1:\n",
        "        h=1\n",
        "    else:\n",
        "      if (s1+p1)>0:\n",
        "        h = 2*(s1+p1)\n",
        "\n",
        "    return h\n"
      ]
    },
    {
      "cell_type": "markdown",
      "metadata": {
        "id": "OfphEMhwJoWQ"
      },
      "source": [
        "Like DFS if end is not reachable from start A* must return false and otherwise it must return the found path as a list of states."
      ]
    },
    {
      "cell_type": "code",
      "execution_count": 105,
      "metadata": {
        "id": "XZCvI4xmJoWQ"
      },
      "outputs": [],
      "source": [
        "# A* to find the path from start to end\n",
        "def run_a_star(G, start, end):\n",
        "    list_state = []\n",
        "    is_there_sub = 1\n",
        "    smallq = []\n",
        "    h_functions={}\n",
        "    list_state.append(start)\n",
        "    while is_there_sub:\n",
        "      \n",
        "      G.visit(start)      \n",
        "      # find children and add to the priority\n",
        "      for newpos in G.neighbour(start):\n",
        "          if not G.is_visited(newpos):\n",
        "              smallq.append(newpos)\n",
        "              h_functions[newpos]=(heuristic_func(newpos))\n",
        "      if len(smallq)>0:          \n",
        "          best_pos = smallq[0]\n",
        "          smallest_f_val=h_functions[best_pos]\n",
        "          for pos in smallq:\n",
        "            h_new = h_functions[(pos)]\n",
        "            if h_new < smallest_f_val:\n",
        "              smallest_f_val = h_new\n",
        "              best_pos = pos\n",
        "          start = best_pos\n",
        "          #print(start)\n",
        "      if start in smallq:\n",
        "        smallq.remove(start)\n",
        "      if len(smallq)==0 or start==end:\n",
        "        is_there_sub = 0\n",
        "      list_state.append(start)\n",
        "    if end not in list_state:\n",
        "      #print(list_state)\n",
        "      return False \n",
        "    else:\n",
        "      return list_state       \n",
        "  \n"
      ]
    },
    {
      "cell_type": "code",
      "execution_count": 106,
      "metadata": {
        "id": "NIdktjh5JoWQ",
        "colab": {
          "base_uri": "https://localhost:8080/"
        },
        "outputId": "bfe701f6-3678-4305-b45b-122d15243dae"
      },
      "outputs": [
        {
          "output_type": "stream",
          "name": "stdout",
          "text": [
            "length of the path A* has found: 11\n",
            "number of vertices A* has traveled: 11\n"
          ]
        }
      ],
      "source": [
        "###########################################\n",
        "###### no need to change any thing ########\n",
        "###########################################\n",
        "def a_star_result(G, start_vertex, end_vertex):\n",
        "\n",
        "    a_star_path = run_a_star(G, start_vertex, end_vertex)\n",
        "\n",
        "    num_of_visited_a_star = 0\n",
        "    num_of_visited_a_star = len([i for i in G.get_visited() if G.get_visited()[i] == 1])\n",
        "\n",
        "    G.clear(whole=True)\n",
        "\n",
        "    if not a_star_path:\n",
        "        print(\"end vertex not reachable\")\n",
        "    else:\n",
        "        print(f'length of the path A* has found:', len(a_star_path) - 1)\n",
        "\n",
        "    print(f'number of vertices A* has traveled:', num_of_visited_a_star)\n",
        "\n",
        "\n",
        "a_star_result(G, start_vertex, end_vertex)\n"
      ]
    },
    {
      "cell_type": "markdown",
      "metadata": {
        "id": "q473mFNvJoWQ"
      },
      "source": [
        "## Visualization"
      ]
    },
    {
      "cell_type": "markdown",
      "metadata": {
        "id": "vAAOwo6dJoWQ"
      },
      "source": [
        "The below code creates a gif named \"result.gif\" which shows the result found by A* algorithm."
      ]
    },
    {
      "cell_type": "code",
      "execution_count": 107,
      "metadata": {
        "id": "qGkqTwXgJoWR",
        "colab": {
          "base_uri": "https://localhost:8080/",
          "height": 306
        },
        "outputId": "45b81ace-2e75-4083-ebcb-5381388ef24a"
      },
      "outputs": [
        {
          "output_type": "display_data",
          "data": {
            "text/plain": [
              "<Figure size 648x360 with 1 Axes>"
            ],
            "image/png": "[encoded data removed]"
          },
          "metadata": {}
        }
      ],
      "source": [
        "import drawer\n",
        "drawer.create_gif(run_a_star(G, start_vertex, end_vertex))\n",
        "G.clear(whole=True)"
      ]
    },
    {
      "cell_type": "markdown",
      "metadata": {
        "id": "2octIuOGJoWR"
      },
      "source": [
        "## Results"
      ]
    },
    {
      "cell_type": "markdown",
      "metadata": {
        "id": "dY8EkvvuJoWR"
      },
      "source": [
        "Now results of DFS and A* could be compared. Run the code below and explain the result. (10 Points)"
      ]
    },
    {
      "cell_type": "code",
      "execution_count": 108,
      "metadata": {
        "id": "R1kAFhQsJoWR",
        "colab": {
          "base_uri": "https://localhost:8080/"
        },
        "outputId": "bb530477-ff22-4178-9a8b-8476409fe14d"
      },
      "outputs": [
        {
          "output_type": "stream",
          "name": "stdout",
          "text": [
            "length of the path DFS has found: 753\n",
            "number of vertices DFS has traveled: 894\n",
            "length of the path A* has found: 671\n",
            "number of vertices A* has traveled: 671\n"
          ]
        }
      ],
      "source": [
        "N = 100\n",
        "M = 140\n",
        "\n",
        "start_vertex = (N, M, 0, 0, 1)\n",
        "end_vertex = (0, 0, N, M, 2)\n",
        "\n",
        "G = build_graph(N, M)\n",
        "\n",
        "dfs_result(G, start_vertex, end_vertex)\n",
        "a_star_result(G, start_vertex, end_vertex)\n"
      ]
    },
    {
      "cell_type": "markdown",
      "metadata": {
        "id": "4bcxPuqfJoWR"
      },
      "source": [
        "<font color='cyan'>\n",
        "\n",
        "Your explanation.\n",
        "\n",
        "</font>"
      ]
    },
    {
      "cell_type": "markdown",
      "source": [
        "so as we can see in dfs it finally finde the goal but it iterate lots of time but in A* it easily moved in path that seemed to be best but faster founde that pass  so dfs and A* are complete but dfs is very slow and it iterate lots of traveles but A* is faster"
      ],
      "metadata": {
        "id": "hknCFQcznctk"
      }
    },
    {
      "cell_type": "markdown",
      "metadata": {
        "id": "6YScDf6sJoWR"
      },
      "source": [
        "Cell below runs some tests on dfs and stores the results in \"student_number.txt\". Then run the cell and upload the result on Quera."
      ]
    },
    {
      "cell_type": "code",
      "execution_count": 109,
      "metadata": {
        "id": "KSt0urs4JoWR"
      },
      "outputs": [],
      "source": [
        "tests = [(100, 140), (200, 260), (600, 610), (800, 1000)]\n",
        "\n",
        "f = open(student_number + \".txt\", \"w\")\n",
        "\n",
        "\n",
        "def run_tests():\n",
        "    for test in tests:\n",
        "        N, M = test\n",
        "        G = graph()\n",
        "        start_vertex = (N, M, 0, 0, 1)\n",
        "        end_vertex = (0, 0, N, M, 2)\n",
        "\n",
        "        G = build_graph(N, M)\n",
        "\n",
        "        f.write(str(run_a_star(G, start_vertex, end_vertex)))\n",
        "        G.clear(whole=True)\n",
        "\n",
        "    f.close()\n",
        "\n",
        "\n",
        "run_tests()\n"
      ]
    }
  ],
  "metadata": {
    "kernelspec": {
      "display_name": "Python 3",
      "language": "python",
      "name": "python3"
    },
    "language_info": {
      "codemirror_mode": {
        "name": "ipython",
        "version": 3
      },
      "file_extension": ".py",
      "mimetype": "text/x-python",
      "name": "python",
      "nbconvert_exporter": "python",
      "pygments_lexer": "ipython3",
      "version": "3.11.1"
    },
    "orig_nbformat": 4,
    "vscode": {
      "interpreter": {
        "hash": "f72c34bb2e2aa76acaec51e5a386e2497fab8a5e682a38cfc0469e5a4ec35b0f"
      }
    },
    "colab": {
      "provenance": [],
      "include_colab_link": true
    }
  },
  "nbformat": 4,
  "nbformat_minor": 0
}