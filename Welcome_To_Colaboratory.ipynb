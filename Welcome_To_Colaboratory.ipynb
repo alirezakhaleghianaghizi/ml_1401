{
  "cells": [
    {
      "cell_type": "markdown",
      "metadata": {
        "id": "view-in-github",
        "colab_type": "text"
      },
      "source": [
        "<a href=\"https://colab.research.google.com/github/alirezakhaleghianaghizi/ml_1401/blob/main/Welcome_To_Colaboratory.ipynb\" target=\"_parent\"><img src=\"https://colab.research.google.com/assets/colab-badge.svg\" alt=\"Open In Colab\"/></a>"
      ]
    },
    {
      "cell_type": "markdown",
      "source": [
        "علیرضا خالقی آناقیزی99101462  \n",
        "گزارش و نوت بوک کد های تمرین اول یادگیری ماشین "
      ],
      "metadata": {
        "id": "dGliuCgK3yzE"
      }
    },
    {
      "cell_type": "markdown",
      "source": [
        "سوال 1"
      ],
      "metadata": {
        "id": "Z71xFDeC4V29"
      }
    },
    {
      "cell_type": "markdown",
      "source": [
        "ایمپورت کردن کتاب خانه های مورد استفاده و گوگل درایو برای لود کردن داده ها"
      ],
      "metadata": {
        "id": "aJq8vdUW2x9I"
      }
    },
    {
      "cell_type": "code",
      "source": [
        "import csv \n",
        "import numpy as np\n",
        "from google.colab import drive\n",
        "drive.mount('/content/drive')\n",
        "filename='/content/drive/MyDrive/ml/Q1_data.csv'  "
      ],
      "metadata": {
        "id": "HuX8DXwu2xMR",
        "colab": {
          "base_uri": "https://localhost:8080/"
        },
        "outputId": "a0334ae9-a1ca-4b62-f6a1-56fa27be722e"
      },
      "execution_count": 2,
      "outputs": [
        {
          "output_type": "stream",
          "name": "stdout",
          "text": [
            "Mounted at /content/drive\n"
          ]
        }
      ]
    },
    {
      "cell_type": "markdown",
      "source": [
        "داده های مساله را داخل یک لیست قرار میدهیم تا با استفاده از رابطه ماتریسی ضرایب مورد نظر را به دست آوریم\n",
        "\n",
        "A=x*xT\n",
        "B=x*y\n",
        "w*=invers(A)*B\n",
        "\n",
        "همان ضرایب مساله است \n",
        "البته در اینجا میدانیم که سطر اول ماتریکس \n",
        "\n",
        "x \n",
        "\n",
        "باید برابر با مقدار 1 باشد \n",
        "چون در رابطه \n",
        "\n",
        "WTX+b=H\n",
        "\n",
        "ما بردار \n",
        "\n",
        "X\n",
        "\n",
        " را با یک تغییر کوچک به رابطه همگن تبدیل کرده بودیم\n"
      ],
      "metadata": {
        "id": "ZT_i1a6L29G1"
      }
    },
    {
      "cell_type": "code",
      "source": [
        "\n",
        "fields = []\n",
        "trainningSet = []\n",
        "ValidationSet=[]\n",
        "with open(filename, 'r') as csvfile:\n",
        "    # creating a csv reader object\n",
        "    csvreader = csv.reader(csvfile)\n",
        "     \n",
        "    # extracting field names through first row\n",
        "    fields = next(csvreader)\n",
        " \n",
        "    # extracting each data row one by one\n",
        "    a=0\n",
        "    for row in csvreader:\n",
        "      row[0]=1\n",
        "      if a<=400 : \n",
        "         trainningSet.append(row)\n",
        "      else :\n",
        "         ValidationSet.append(row)\n",
        "      a=a+1   \n",
        "\n",
        "#print(trainningSet)\n",
        "\n"
      ],
      "metadata": {
        "id": "M_BL8GJoixxs"
      },
      "execution_count": 3,
      "outputs": []
    },
    {
      "cell_type": "markdown",
      "source": [
        "در اینجا ماتریس های \n",
        "xو y  \n",
        "را به دست آوردیم و سپس روابط مورد نظر را انجام میدهیم "
      ],
      "metadata": {
        "id": "ZcNvQG8i7z_z"
      }
    },
    {
      "cell_type": "code",
      "source": [
        "tra= np.array(trainningSet).T\n",
        "y=tra[len(tra)-1]\n",
        "x=tra[0:len(tra)-1]\n",
        "xt=np.array(x).T\n",
        "xt=np.array(xt,dtype=float)\n",
        "x=np.array(x,dtype=float)\n",
        "y=np.array(y,dtype=float)\n",
        "A=np.dot(x,xt)\n",
        "B=np.dot(x,y)\n",
        "w=np.dot(np.linalg.inv(A),B)\n",
        "print(w)"
      ],
      "metadata": {
        "colab": {
          "base_uri": "https://localhost:8080/"
        },
        "id": "7TquQejz7xam",
        "outputId": "0316c7ba-209c-4bdc-c220-a8579ac9e500"
      },
      "execution_count": 4,
      "outputs": [
        {
          "output_type": "stream",
          "name": "stdout",
          "text": [
            "[-1.14472436  0.0013133   0.00248072  0.00601382  0.00369101  0.01623394\n",
            "  0.12615557  0.02361233]\n"
          ]
        }
      ]
    },
    {
      "cell_type": "markdown",
      "source": [
        "حال با توجه به ضرایب به دست آمده در قسمت قبل باید خطای تجربی به دست آمده را محاسبه کنیم"
      ],
      "metadata": {
        "id": "QMiGc8aYOEq3"
      }
    },
    {
      "cell_type": "markdown",
      "source": [
        "h=WT*x wich x[0]=1 & W[0]=b\n",
        "L=1/len(x)*sum((h-y)^2)"
      ],
      "metadata": {
        "id": "g7MKXhMPOWQG"
      }
    },
    {
      "cell_type": "code",
      "source": [
        "M=(len(x[0]))\n",
        "h=np.dot(w,x)\n",
        "sum=0\n",
        "max=0\n",
        "for i in range(M):\n",
        "  sum=sum+pow((h[i]-y[i]),2)\n",
        "  if(pow((h[i]-y[i]),2)>max):\n",
        "    max=pow((h[i]-y[i]),2)\n",
        "L=sum/M \n",
        "print(L) \n",
        "print(max)"
      ],
      "metadata": {
        "colab": {
          "base_uri": "https://localhost:8080/"
        },
        "id": "1GJ5rSLvOSS-",
        "outputId": "29a69ea3-edaf-47e2-8339-2cd7571daf5f"
      },
      "execution_count": 5,
      "outputs": [
        {
          "output_type": "stream",
          "name": "stdout",
          "text": [
            "0.0034780958541019875\n",
            "0.06863861323926992\n"
          ]
        }
      ]
    },
    {
      "cell_type": "markdown",
      "source": [
        "حال خطای واقعی را به دست می آوریم که باید داده های تست را وارد خطا کنیم"
      ],
      "metadata": {
        "id": "VYkHumQrV0YT"
      }
    },
    {
      "cell_type": "code",
      "source": [
        "tratest= np.array(ValidationSet).T\n",
        "ytest=tratest[len(tratest)-1]\n",
        "xtest=tratest[0:len(tratest)-1]\n",
        "\n",
        "xtest=np.array(xtest,dtype=float)\n",
        "ytest=np.array(ytest,dtype=float)\n",
        "\n",
        "Mtest=(len(xtest[0]))\n",
        "htest=np.dot(w,xtest)\n",
        "sumtest=0\n",
        "maxtest=0\n",
        "for i in range(Mtest):\n",
        "  sumtest=sumtest+pow((htest[i]-ytest[i]),2)\n",
        "  if(pow((htest[i]-ytest[i]),2)>maxtest):\n",
        "    maxtest=pow((htest[i]-ytest[i]),2)\n",
        "Ltest=sumtest/Mtest \n",
        "print(Ltest) \n",
        "print(maxtest)"
      ],
      "metadata": {
        "colab": {
          "base_uri": "https://localhost:8080/"
        },
        "id": "WX6rVmTlWCoa",
        "outputId": "485edef3-cd48-4f84-bef9-00c99ac8eeef"
      },
      "execution_count": 6,
      "outputs": [
        {
          "output_type": "stream",
          "name": "stdout",
          "text": [
            "0.003844659285587463\n",
            "0.05677400847075526\n"
          ]
        }
      ]
    },
    {
      "cell_type": "markdown",
      "source": [
        "مشاهده میکنیم که خطای واقعی و تجربی بسیار نزدیک یکدیگر هستند و هر دو در حدود 0.0038 میباشند که یعنی عملیات لرنینگ ما به خوبی اتفاق افتاده است."
      ],
      "metadata": {
        "id": "sC1iN2yMBa9s"
      }
    },
    {
      "cell_type": "markdown",
      "source": [
        "حال برای هر هفت مشخصه نمودار احتمال موفقیتشان را ترسیم میکنیم و نتیجه را مشاهده میکنیم"
      ],
      "metadata": {
        "id": "QcNQe6CbZKSi"
      }
    },
    {
      "cell_type": "markdown",
      "source": [
        "مشخصه اول"
      ],
      "metadata": {
        "id": "69egEa9MZX9n"
      }
    },
    {
      "cell_type": "code",
      "source": [
        "import matplotlib.pyplot as plt\n",
        "\n",
        "xpoints = np.array(x[1])\n",
        "ypoints = np.array(y)\n",
        "\n",
        "plt.plot(xpoints, ypoints,'.')\n",
        "plt.xlabel(fields[1])\n",
        "plt.ylabel(fields[8])\n",
        "plt.show()"
      ],
      "metadata": {
        "colab": {
          "base_uri": "https://localhost:8080/",
          "height": 283
        },
        "id": "aCG9CelFZTCS",
        "outputId": "8e9692a9-68fc-4993-9b25-0eac3479948e"
      },
      "execution_count": 7,
      "outputs": [
        {
          "output_type": "display_data",
          "data": {
            "text/plain": [
              "<Figure size 432x288 with 1 Axes>"
            ],
            "image/png": "[encoded data removed]"
          },
          "metadata": {
            "needs_background": "light"
          }
        }
      ]
    },
    {
      "cell_type": "markdown",
      "source": [
        "مشخصه دوم"
      ],
      "metadata": {
        "id": "-ku1ESV8ZaGA"
      }
    },
    {
      "cell_type": "code",
      "source": [
        "import matplotlib.pyplot as plt\n",
        "\n",
        "xpoints = np.array(x[2])\n",
        "ypoints = np.array(y)\n",
        "\n",
        "plt.plot(xpoints, ypoints,'.')\n",
        "plt.xlabel(fields[2])\n",
        "plt.ylabel(fields[8])\n",
        "plt.show()"
      ],
      "metadata": {
        "colab": {
          "base_uri": "https://localhost:8080/",
          "height": 283
        },
        "id": "GbPVo_6IZby4",
        "outputId": "36ffda1e-bdff-4b29-8d33-4352c1b9ef8c"
      },
      "execution_count": 8,
      "outputs": [
        {
          "output_type": "display_data",
          "data": {
            "text/plain": [
              "<Figure size 432x288 with 1 Axes>"
            ],
            "image/png": "[encoded data removed]"
          },
          "metadata": {
            "needs_background": "light"
          }
        }
      ]
    },
    {
      "cell_type": "markdown",
      "source": [
        "مشخصه سوم"
      ],
      "metadata": {
        "id": "3doYRc0xZcIg"
      }
    },
    {
      "cell_type": "code",
      "source": [
        "import matplotlib.pyplot as plt\n",
        "\n",
        "xpoints = np.array(x[3])\n",
        "ypoints = np.array(y)\n",
        "\n",
        "plt.plot(xpoints, ypoints,'.')\n",
        "plt.xlabel(fields[3])\n",
        "plt.ylabel(fields[8])\n",
        "plt.show()"
      ],
      "metadata": {
        "colab": {
          "base_uri": "https://localhost:8080/",
          "height": 283
        },
        "id": "kXET2TDZZeDj",
        "outputId": "cd4da0a7-48d7-4471-c70d-aa03096c970f"
      },
      "execution_count": 9,
      "outputs": [
        {
          "output_type": "display_data",
          "data": {
            "text/plain": [
              "<Figure size 432x288 with 1 Axes>"
            ],
            "image/png": "[encoded data removed]"
          },
          "metadata": {
            "needs_background": "light"
          }
        }
      ]
    },
    {
      "cell_type": "markdown",
      "source": [
        "مشخصه چهارم"
      ],
      "metadata": {
        "id": "ObOn-dmeZeYZ"
      }
    },
    {
      "cell_type": "code",
      "source": [
        "import matplotlib.pyplot as plt\n",
        "\n",
        "xpoints = np.array(x[4])\n",
        "ypoints = np.array(y)\n",
        "\n",
        "plt.plot(xpoints, ypoints,'.')\n",
        "plt.xlabel(fields[4])\n",
        "plt.ylabel(fields[8])\n",
        "plt.show()"
      ],
      "metadata": {
        "colab": {
          "base_uri": "https://localhost:8080/",
          "height": 283
        },
        "id": "D6_-kBLkZgSk",
        "outputId": "8d89070c-ec14-49d4-f371-901e5311bd95"
      },
      "execution_count": 10,
      "outputs": [
        {
          "output_type": "display_data",
          "data": {
            "text/plain": [
              "<Figure size 432x288 with 1 Axes>"
            ],
            "image/png": "[encoded data removed]"
          },
          "metadata": {
            "needs_background": "light"
          }
        }
      ]
    },
    {
      "cell_type": "markdown",
      "source": [
        "مشخصه پنجم"
      ],
      "metadata": {
        "id": "M05-xof2ZgrT"
      }
    },
    {
      "cell_type": "code",
      "source": [
        "import matplotlib.pyplot as plt\n",
        "\n",
        "xpoints = np.array(x[5])\n",
        "ypoints = np.array(y)\n",
        "plt.plot(xpoints, ypoints,'.')\n",
        "plt.xlabel(fields[5])\n",
        "plt.ylabel(fields[8])\n",
        "plt.show()"
      ],
      "metadata": {
        "colab": {
          "base_uri": "https://localhost:8080/",
          "height": 283
        },
        "id": "0DwMvfRPZimp",
        "outputId": "b2d9eccd-682a-4119-9d3c-5b11ae93a9c1"
      },
      "execution_count": 11,
      "outputs": [
        {
          "output_type": "display_data",
          "data": {
            "text/plain": [
              "<Figure size 432x288 with 1 Axes>"
            ],
            "image/png": "[encoded data removed]"
          },
          "metadata": {
            "needs_background": "light"
          }
        }
      ]
    },
    {
      "cell_type": "markdown",
      "source": [
        "مشخصه ششم"
      ],
      "metadata": {
        "id": "YO-CyRkuZi04"
      }
    },
    {
      "cell_type": "code",
      "source": [
        "import matplotlib.pyplot as plt\n",
        "\n",
        "xpoints = np.array(x[6])\n",
        "ypoints = np.array(y)\n",
        "plt.plot(xpoints, ypoints,'.')\n",
        "plt.xlabel(fields[6])\n",
        "plt.ylabel(fields[8])\n",
        "plt.show()"
      ],
      "metadata": {
        "colab": {
          "base_uri": "https://localhost:8080/",
          "height": 283
        },
        "id": "5BIcoAeuZkYY",
        "outputId": "1c3c22ab-39ba-43c0-e5c2-db80c9d03af6"
      },
      "execution_count": 12,
      "outputs": [
        {
          "output_type": "display_data",
          "data": {
            "text/plain": [
              "<Figure size 432x288 with 1 Axes>"
            ],
            "image/png": "[encoded data removed]"
          },
          "metadata": {
            "needs_background": "light"
          }
        }
      ]
    },
    {
      "cell_type": "markdown",
      "source": [
        "مشخصه هفتم"
      ],
      "metadata": {
        "id": "In5dTDvXZkpA"
      }
    },
    {
      "cell_type": "code",
      "source": [
        "import matplotlib.pyplot as plt\n",
        "\n",
        "xpoints = np.array(x[7])\n",
        "ypoints = np.array(y)\n",
        "\n",
        "plt.plot(xpoints, ypoints,'.')\n",
        "plt.xlabel(fields[7])\n",
        "plt.ylabel(fields[8])\n",
        "plt.show()"
      ],
      "metadata": {
        "colab": {
          "base_uri": "https://localhost:8080/",
          "height": 283
        },
        "id": "upjYujmvZmch",
        "outputId": "a8df9b35-fc2d-4c12-a519-c368715ce083"
      },
      "execution_count": 13,
      "outputs": [
        {
          "output_type": "display_data",
          "data": {
            "text/plain": [
              "<Figure size 432x288 with 1 Axes>"
            ],
            "image/png": "[encoded data removed]"
          },
          "metadata": {
            "needs_background": "light"
          }
        }
      ]
    },
    {
      "cell_type": "markdown",
      "source": [
        "که باتوجه به مشخصه های بالا مشخصه شماره شیشم منسجم تر از بقیه میباشد و به نظر در دسته بندی بهتر است مورد استفاده قرار بگیرد"
      ],
      "metadata": {
        "id": "8Iws0fJCclg6"
      }
    },
    {
      "cell_type": "markdown",
      "source": [
        "حال عملیات لرنینگ و پیدا کردن ضرایب را برای یک مشخصه انجام میدهیم یعنی بردار \n",
        "\n",
        "x \n",
        "\n",
        "ما تنها دو متغییر دارد که متغییر 0 ام برابر 1 و متغییر 1 ام برابر مقدار مشخصه ششم میباشد\n",
        "همچنین بردار \n",
        "\n",
        "W\n",
        "\n",
        "نیز دو متغییر دارد که 0 ام برابر \n",
        "\n",
        "b\n",
        "\n",
        "و بردار دوم برابر است با ضریب متغییر ششم\n",
        "\n"
      ],
      "metadata": {
        "id": "2huF2mmk_QGq"
      }
    },
    {
      "cell_type": "code",
      "source": [
        "xone=[tra[0],tra[6]]\n",
        "xtone=np.array(xone).T\n",
        "xtone=np.array(xtone,dtype=float)\n",
        "xone=np.array(xone,dtype=float)\n",
        "y=np.array(y,dtype=float)\n",
        "Aone=np.dot(xone,xtone)\n",
        "Bone=np.dot(xone,y)\n",
        "wone=np.dot(np.linalg.inv(Aone),Bone)\n",
        "print(wone)"
      ],
      "metadata": {
        "colab": {
          "base_uri": "https://localhost:8080/"
        },
        "id": "qB1HDDFAAM5r",
        "outputId": "eac36678-3a6c-4087-fd51-a6f176ffc71f"
      },
      "execution_count": 16,
      "outputs": [
        {
          "output_type": "stream",
          "name": "stdout",
          "text": [
            "[-1.0427896   0.20535552]\n"
          ]
        }
      ]
    },
    {
      "cell_type": "markdown",
      "source": [
        "حال که ضرایب را برای این مشخصه به دست آوردیم کافی است تابع خطای حقیقی را به دست آوریم"
      ],
      "metadata": {
        "id": "KsI6xaG1BQ2U"
      }
    },
    {
      "cell_type": "code",
      "source": [
        "Mone=(len(xone[0]))\n",
        "hone=np.dot(wone,xone)\n",
        "sumone=0\n",
        "maxone=0\n",
        "for i in range(Mone):\n",
        "  sumone=sumone+pow((hone[i]-y[i]),2)\n",
        "  if(pow((hone[i]-y[i]),2)>maxone):\n",
        "    maxone=pow((hone[i]-y[i]),2)\n",
        "Lone=sumone/Mone \n",
        "print(Lone) \n",
        "print(maxone)"
      ],
      "metadata": {
        "colab": {
          "base_uri": "https://localhost:8080/"
        },
        "id": "hNKj2zxIBu7L",
        "outputId": "1444dbaa-090b-4548-df0c-5a26b4d9cc4f"
      },
      "execution_count": 19,
      "outputs": [
        {
          "output_type": "stream",
          "name": "stdout",
          "text": [
            "0.004139588610427894\n",
            "0.07467535129948764\n"
          ]
        }
      ]
    },
    {
      "cell_type": "markdown",
      "source": [
        "باز هم خطای تجربی به دست آمده تا حد زیادی به همان خطای تجربی که برای هفت مشخصه وضع کردیم یکسان میباشد"
      ],
      "metadata": {
        "id": "h3KwlhmfCbvL"
      }
    },
    {
      "cell_type": "markdown",
      "source": [
        "حال خطای واقعی را به دست میاوریم"
      ],
      "metadata": {
        "id": "q6rkr_sECmvs"
      }
    },
    {
      "cell_type": "code",
      "source": [
        "xtestone=[tratest[0],tratest[6]]\n",
        "xtestone=np.array(xtestone,dtype=float)\n",
        "ytest=np.array(ytest,dtype=float)\n",
        "\n",
        "Mtestone=(len(xtestone[0]))\n",
        "htestone=np.dot(wone,xtestone)\n",
        "sumtestone=0\n",
        "maxtestone=0\n",
        "for i in range(Mtestone):\n",
        "  sumtestone=sumtestone+pow((htestone[i]-ytest[i]),2)\n",
        "  if(pow((htestone[i]-ytest[i]),2)>maxtestone):\n",
        "    maxtestone=pow((htestone[i]-ytest[i]),2)\n",
        "Ltestone=sumtestone/Mtestone \n",
        "print(Ltestone) \n",
        "print(maxtestone)"
      ],
      "metadata": {
        "colab": {
          "base_uri": "https://localhost:8080/"
        },
        "id": "WldoCcoYCqqu",
        "outputId": "b0b077dc-4455-49ce-a586-222486968b70"
      },
      "execution_count": 20,
      "outputs": [
        {
          "output_type": "stream",
          "name": "stdout",
          "text": [
            "0.005412133673711176\n",
            "0.07087056586989064\n"
          ]
        }
      ]
    },
    {
      "cell_type": "markdown",
      "source": [
        "در اینجا نیز خطای تجربی برای یک مشخصه یعنی مشخصه ششم با خطای واقعی بسیار نزدیک بودند و هر دو مقدار کمتر از 0.01 را دارند و در حدود 0.005 خطای محاسبه شده برای یک مشخصه میبیاشد "
      ],
      "metadata": {
        "id": "uxAxjEVhDPNB"
      }
    },
    {
      "cell_type": "markdown",
      "source": [
        "دیدیم که خطای تجربی در حالتی که هر هفت مشخصه را مورد بررسی قرار دادیم به شکل 0.0034 خطای تجربی و 0.0038 خطای واقعی که میبینیم مقدار خطای واقعی نسبت به خطای تجربی تغییر زیادی نکرده است و در حدود 10 درصد بیشتر شده است که باز هم نسبت به مقداری که دارند مطلوب است .ولی برای مشخصه شیشم که نسبت به بقیه مشخصه ها نمودارش بهتر احتمال موفقیت را شبیه سازی میکرد نیزمیبینیم که دو خطای واقعی 0.0054 و خطای تجربی 0.0041 میباشند و این دو باز نیز مقادیر بسیار کمی میباشند و قابل صرف نظر هستند و میتوان گفت این مشخصه نیز باز هم به خوبی تفکیک و لرنینگ را انجام داده ولی نسبت به هفت مشخصه که دست ما باز تر بوده است در اینجا نسبت تغییرات خطای واقعی به خطای تجربی در حدود 30 یا 35 درصد میباشد که حدود سه چهار برابر حالتی است که ما با 7 مشخصه تغییرات را میسنجیدیم .  "
      ],
      "metadata": {
        "id": "ucXw6ncPD1nT"
      }
    },
    {
      "cell_type": "code",
      "source": [],
      "metadata": {
        "id": "am8PrODqOksa"
      },
      "execution_count": null,
      "outputs": []
    }
  ],
  "metadata": {
    "colab": {
      "collapsed_sections": [],
      "name": "Welcome To Colaboratory",
      "provenance": [],
      "toc_visible": true,
      "include_colab_link": true
    },
    "kernelspec": {
      "display_name": "Python 3",
      "name": "python3"
    }
  },
  "nbformat": 4,
  "nbformat_minor": 0
}