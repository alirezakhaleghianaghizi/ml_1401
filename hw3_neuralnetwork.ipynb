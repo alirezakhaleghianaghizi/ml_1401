{
  "cells": [
    {
      "cell_type": "markdown",
      "metadata": {
        "id": "view-in-github",
        "colab_type": "text"
      },
      "source": [
        "<a href=\"https://colab.research.google.com/github/alirezakhaleghianaghizi/ml_1401/blob/main/hw3_neuralnetwork.ipynb\" target=\"_parent\"><img src=\"https://colab.research.google.com/assets/colab-badge.svg\" alt=\"Open In Colab\"/></a>"
      ]
    },
    {
      "cell_type": "markdown",
      "metadata": {
        "id": "dRoBqOu19WBF"
      },
      "source": [
        "علیرضا خالقی آناقیزی \n",
        "99101462\n",
        "\n",
        "سوال 2\n",
        "\n",
        "در قسمت زیر فایل های مورد نظر را در گوگل درایو ذخیره کردیم و سپسفایل های مورد نظر را لود کرده و دیتا های \n",
        "موجود را به ترتیب در ماتریس های \n",
        "\n",
        "SVT \n",
        "\n",
        "ذخیره کردیم."
      ]
    },
    {
      "cell_type": "code",
      "execution_count": 3,
      "metadata": {
        "colab": {
          "base_uri": "https://localhost:8080/"
        },
        "id": "1FDFa_JN2j83",
        "outputId": "be50b989-af2f-4ad4-8af3-ced4fb308a54"
      },
      "outputs": [
        {
          "output_type": "stream",
          "name": "stdout",
          "text": [
            "Drive already mounted at /content/drive; to attempt to forcibly remount, call drive.mount(\"/content/drive\", force_remount=True).\n",
            "784\n",
            "10000\n"
          ]
        }
      ],
      "source": [
        "import csv \n",
        "import numpy as np\n",
        "from google.colab import drive\n",
        "\n",
        "drive.mount('/content/drive')\n",
        "filename1='/content/drive/MyDrive/ml/fashion-mnist.csv' \n",
        "\n",
        "fields = []\n",
        "data = []\n",
        "ValidationSet=[]\n",
        "with open(filename1, 'r') as csvfile:\n",
        "    # creating a csv reader object\n",
        "    csvreader = csv.reader(csvfile)\n",
        "     \n",
        "    # extracting field names through first row\n",
        "    fields = next(csvreader)\n",
        " \n",
        "    # extracting each data row one by one \n",
        "    for row in csvreader:\n",
        "      data.append(row)  \n",
        "\n",
        "data=np.array(data,dtype=int).T\n",
        "#print(data)\n",
        "dataX=np.array(data[1:len(data)]).T\n",
        "dataY=data[len(data)-1]\n",
        "print(len(dataX[0]))\n",
        "print(len(dataY))"
      ]
    },
    {
      "cell_type": "markdown",
      "metadata": {
        "id": "TVcyMTLi0cRB"
      },
      "source": [
        "در قسمت زیر با استفاده از کتابخانه \n",
        "\n",
        "sklearn \n",
        "\n",
        "با استفاده از تابع جدا سازی ابتدا ده ها ی نمرین را جدا کردیم و سپس از باقیمانده داده ها ولیدیشن و تست را جدا کردیم."
      ]
    },
    {
      "cell_type": "code",
      "execution_count": 4,
      "metadata": {
        "colab": {
          "base_uri": "https://localhost:8080/"
        },
        "id": "uDf1qOlxyDcJ",
        "outputId": "fd42e85d-9e5f-422a-9286-7818cc9ccf05"
      },
      "outputs": [
        {
          "output_type": "stream",
          "name": "stdout",
          "text": [
            "[[ 0  0  0 ...  0  0  5]\n",
            " [ 0  0  0 ...  0  0  6]\n",
            " [ 0  0  0 ...  0  0  1]\n",
            " ...\n",
            " [ 0  0  0 ...  0  0  6]\n",
            " [ 0  0  1 ...  0  0  4]\n",
            " [ 0  0  0 ... 69  0  5]] [[0 0 0 ... 0 0 1]\n",
            " [0 0 0 ... 0 0 0]\n",
            " [0 0 0 ... 0 0 3]\n",
            " ...\n",
            " [0 0 0 ... 0 0 5]\n",
            " [0 0 0 ... 0 0 3]\n",
            " [0 0 0 ... 0 0 2]] [[0 0 0 ... 0 0 1]\n",
            " [0 0 0 ... 0 0 5]\n",
            " [0 0 0 ... 0 0 0]\n",
            " ...\n",
            " [0 0 0 ... 0 0 3]\n",
            " [0 0 0 ... 0 0 1]\n",
            " [0 0 0 ... 0 0 4]]\n"
          ]
        }
      ],
      "source": [
        "from sklearn.model_selection import train_test_split\n",
        "train_ratio = 0.50\n",
        "validation_ratio = 0.35\n",
        "test_ratio = 0.15\n",
        "\n",
        "# train is now 50% of the entire data set\n",
        "x_train, x_test, y_train, y_test = train_test_split(dataX, dataY, test_size=1 - train_ratio)\n",
        "\n",
        "# test is now 10% of the initial data set\n",
        "# validation is now 15% of the initial data set\n",
        "x_val, x_test, y_val, y_test = train_test_split(x_test, y_test, test_size=test_ratio) \n",
        "\n",
        "print(x_train, x_val, x_test)"
      ]
    },
    {
      "cell_type": "markdown",
      "metadata": {
        "id": "pv5npar0LM0K"
      },
      "source": [
        "روش اول :\n",
        "با استفاده از کتابخانه \n",
        "\n",
        "sklearn\n",
        "\n",
        "توابع اس وی ام را خارج کردیم و از تابع خطی آن یادگیری را انجام دادیم."
      ]
    },
    {
      "cell_type": "markdown",
      "source": [
        "در قسمت زیر تابعی مینویسم که با گرفتن لیبل های پیش بینی شده و لیبل های اصلی ماتریس خطا را میسازیم"
      ],
      "metadata": {
        "id": "ntzgxsAcfTc8"
      }
    },
    {
      "cell_type": "code",
      "source": [
        "def get_confusion(y_pred,y_true):\n",
        "  confusion=[]\n",
        "  for j in range(10):\n",
        "    row=[]\n",
        "    for i in range(10):\n",
        "     k=0;\n",
        "     for m in range(len(y_pred)):\n",
        "       if y_pred[m]==i :\n",
        "         if y_true[m]==j:\n",
        "           k=k+1\n",
        "     row.append(k)    \n",
        "    confusion.append(row)\n",
        "  return confusion"
      ],
      "metadata": {
        "id": "IlCmpi-SfTH3"
      },
      "execution_count": 5,
      "outputs": []
    },
    {
      "cell_type": "code",
      "execution_count": null,
      "metadata": {
        "id": "_t0I60FBLMac",
        "colab": {
          "base_uri": "https://localhost:8080/"
        },
        "outputId": "773bb321-b0e8-493d-ca53-0c7e1c8a0cd9"
      },
      "outputs": [
        {
          "output_type": "stream",
          "name": "stdout",
          "text": [
            "[[291, 5, 24, 23, 6, 0, 30, 0, 4, 0], [0, 415, 2, 13, 10, 0, 2, 1, 3, 0], [6, 2, 313, 5, 65, 1, 20, 1, 3, 0], [22, 7, 8, 345, 28, 0, 8, 2, 2, 1], [5, 0, 75, 21, 262, 0, 25, 0, 7, 0], [3, 0, 4, 0, 4, 322, 4, 32, 5, 14], [58, 3, 103, 19, 60, 0, 197, 0, 9, 0], [1, 0, 0, 0, 2, 17, 0, 410, 2, 21], [5, 0, 4, 6, 14, 3, 19, 3, 394, 3], [0, 0, 1, 0, 2, 16, 2, 34, 0, 391]]\n",
            "0.7858823529411765\n"
          ]
        },
        {
          "output_type": "stream",
          "name": "stderr",
          "text": [
            "/usr/local/lib/python3.8/dist-packages/sklearn/svm/_base.py:1206: ConvergenceWarning: Liblinear failed to converge, increase the number of iterations.\n",
            "  warnings.warn(\n"
          ]
        }
      ],
      "source": [
        "from sklearn import svm\n",
        "lin_clf = svm.LinearSVC()\n",
        "lin_clf.fit(x_train,y_train)\n",
        "y_val_pred=lin_clf.predict(x_val)\n",
        "confusion_val_linear=get_confusion(y_pred=y_val_pred,y_true=y_val)\n",
        "print(confusion_val_linear)\n",
        "A_val_linear=np.trace(confusion_val_linear)/np.sum(confusion_val_linear)\n",
        "print(A_val_linear)"
      ]
    },
    {
      "cell_type": "markdown",
      "source": [
        "در این روش چون ما پارامتر انتخابی نداریم همان پیش بینی را برای داده های تست انجام میدهیم و ماتریس مورد نظر و دقت آن را مینویسیم."
      ],
      "metadata": {
        "id": "XNH1EZmowiSh"
      }
    },
    {
      "cell_type": "code",
      "source": [
        "y_test_pred=lin_clf.predict(x_test)\n",
        "confusion_test_linear=get_confusion(y_pred=y_test_pred,y_true=y_test)\n",
        "print(confusion_test_linear)\n",
        "A_test_linear=np.trace(confusion_test_linear)/np.sum(confusion_test_linear)\n",
        "print(A_test_linear)"
      ],
      "metadata": {
        "colab": {
          "base_uri": "https://localhost:8080/"
        },
        "id": "4gI_VCMlxXt6",
        "outputId": "b70772d7-dce7-4697-805e-a36b8f641b2e"
      },
      "execution_count": null,
      "outputs": [
        {
          "output_type": "stream",
          "name": "stdout",
          "text": [
            "[[56, 0, 5, 5, 1, 0, 7, 0, 1, 0], [1, 69, 1, 2, 1, 0, 0, 0, 0, 0], [5, 0, 55, 0, 10, 0, 3, 0, 1, 0], [5, 1, 4, 62, 2, 0, 3, 0, 0, 0], [2, 0, 15, 5, 62, 0, 6, 0, 0, 0], [0, 0, 2, 0, 0, 59, 1, 6, 2, 3], [15, 0, 18, 4, 7, 0, 25, 0, 0, 0], [0, 0, 0, 0, 0, 5, 0, 60, 0, 4], [1, 0, 3, 1, 0, 2, 3, 0, 60, 0], [0, 0, 0, 0, 0, 2, 1, 6, 0, 70]]\n",
            "0.7706666666666667\n"
          ]
        }
      ]
    },
    {
      "cell_type": "markdown",
      "source": [
        "دیدیم در هر دو داده های ولیدیشن وتست دقت ما در حدود 0.75 میباشد و ماتریس های خطا نیز در بالا قابل مشاهده هستند وچون داده های ولیدیشن از دو برابر تست بیشتر است ماتریس آن نیز درایه هایش بزرگتر هستند."
      ],
      "metadata": {
        "id": "mG5HQve4x4gh"
      }
    },
    {
      "cell_type": "markdown",
      "source": [
        "روش دوم :\n",
        "در اینجا ما کرنل مورد نظر را به صورت گاووسی قرار میدهیم.\n",
        "گوسی همان \n",
        "\n",
        "RBF\n",
        "\n",
        "با این تقاوت که پارامتر \n",
        "\n",
        "c\n",
        "\n",
        " آن برابر یک در نظر گرفته میشود . \n",
        " حال برای یک بازه از مقدار گاما میبینیم بهترین دقت برای کدام یکی است .\n",
        " "
      ],
      "metadata": {
        "id": "TYw9ioEby3Dj"
      }
    },
    {
      "cell_type": "code",
      "source": [
        "from sklearn.svm import SVC\n",
        "gamma_1d_range = np.logspace(-9,3,13)\n",
        "classifiers = []\n",
        "min_gamma=0;\n",
        "max_A=0;\n",
        "for mygamma in gamma_1d_range:\n",
        "  clf = SVC( kernel='rbf',C=1, gamma=mygamma)\n",
        "  clf.fit(x_train, y_train)\n",
        "  y_val_pred=clf.predict(x_val)\n",
        "  confusion_val_gaussian=get_confusion(y_pred=y_val_pred,y_true=y_val)\n",
        "  #print(confusion_val_gaussian)\n",
        "  A_val_gaussian=np.trace(confusion_val_gaussian)/np.sum(confusion_val_gaussian)\n",
        "  classifiers.append(A_val_gaussian)\n",
        "  if A_val_gaussian>max_A:\n",
        "    min_gamma=mygamma\n",
        "    max_A=A_val_gaussian\n",
        "print(min_gamma)\n",
        "print(classifiers)\n",
        "\n",
        "\n",
        "\n",
        "        "
      ],
      "metadata": {
        "colab": {
          "base_uri": "https://localhost:8080/"
        },
        "id": "5Y__O8jgyWEr",
        "outputId": "0fcb8e04-ed1d-417e-c52f-3db368b8d36b"
      },
      "execution_count": null,
      "outputs": [
        {
          "output_type": "stream",
          "name": "stdout",
          "text": [
            "1e-07\n",
            "[0.6517647058823529, 0.7832941176470588, 0.8505882352941176, 0.8341176470588235, 0.1275294117647059, 0.09788235294117648, 0.09788235294117648, 0.09788235294117648, 0.09788235294117648, 0.09788235294117648, 0.09788235294117648, 0.09788235294117648, 0.09788235294117648]\n"
          ]
        }
      ]
    },
    {
      "cell_type": "markdown",
      "source": [
        "طبق محاسبات بالا برای گاما در حدود ده به توان منفی 7 مقدار دقت ما بیشینه شده است \n",
        "حال در حدود این اوردر دوباره نگاه نگاه میکنه ببینیم چه ضریبی در این اوردر مناسب است \n",
        "نکته محاسبات بالا در حدود بیست دقیقه طول کشید و یکمقدار کند بوده است دوباره بیست دقیقه لازم است تا ضریب را به دست آوریم"
      ],
      "metadata": {
        "id": "R_OkYG1Imily"
      }
    },
    {
      "cell_type": "code",
      "source": [
        "from sklearn.svm import SVC\n",
        "gamma_2d_range = (np.array(range(9))+1)*min_gamma\n",
        "classifiers = []\n",
        "conf_Matrixes=[]\n",
        "min_gamma=0;\n",
        "max_A=0;\n",
        "for mygamma in gamma_2d_range:\n",
        "  clf = SVC( kernel='rbf',C=1, gamma=mygamma)\n",
        "  clf.fit(x_train, y_train)\n",
        "  y_val_pred=clf.predict(x_val)\n",
        "  confusion_val_gaussian=get_confusion(y_pred=y_val_pred,y_true=y_val)\n",
        "  #print(confusion_val_gaussian)\n",
        "  A_val_gaussian=np.trace(confusion_val_gaussian)/np.sum(confusion_val_gaussian)\n",
        "  classifiers.append(A_val_gaussian)\n",
        "  if A_val_gaussian>max_A:\n",
        "    min_gamma=mygamma\n",
        "    max_A=A_val_gaussian\n",
        "    conf_Matrixes=confusion_val_gaussian\n",
        "print(min_gamma)\n",
        "print(classifiers)\n",
        "print(conf_Matrixes)"
      ],
      "metadata": {
        "colab": {
          "base_uri": "https://localhost:8080/"
        },
        "id": "YrrwA-55nNDU",
        "outputId": "2666337f-5db4-4691-b459-69a9a6bb4866"
      },
      "execution_count": null,
      "outputs": [
        {
          "output_type": "stream",
          "name": "stdout",
          "text": [
            "5e-07\n",
            "[0.8505882352941176, 0.8616470588235294, 0.8632941176470589, 0.8642352941176471, 0.8644705882352941, 0.8609411764705882, 0.8552941176470589, 0.8510588235294118, 0.8432941176470589]\n",
            "[[333, 0, 7, 13, 0, 1, 23, 0, 6, 0], [4, 420, 6, 12, 2, 0, 1, 0, 1, 0], [2, 0, 337, 5, 43, 0, 20, 0, 9, 0], [28, 1, 3, 372, 10, 0, 7, 0, 2, 0], [0, 0, 39, 11, 311, 0, 29, 0, 5, 0], [1, 0, 0, 0, 0, 359, 0, 20, 4, 4], [81, 0, 68, 11, 24, 0, 262, 0, 3, 0], [0, 0, 0, 0, 0, 13, 0, 427, 1, 12], [0, 0, 3, 0, 1, 2, 3, 3, 439, 0], [0, 0, 0, 0, 0, 11, 0, 21, 0, 414]]\n"
          ]
        }
      ]
    },
    {
      "cell_type": "markdown",
      "source": [
        ":با توجه به نتایج بالا بهترین گاما برابر5در ده به توان منفی 7 هستش که دقت آن برابر 0.86 میباشد \n",
        "حال با توجه به این مقدار برای داده های تست دقت و ماتریس را تشکیل میدهیم."
      ],
      "metadata": {
        "id": "fXc4xX6qpHJJ"
      }
    },
    {
      "cell_type": "code",
      "source": [
        "from sklearn.svm import SVC\n",
        "best_gamma_gaussian=min_gamma\n",
        "clf = SVC( kernel='rbf',C=1, gamma=best_gamma_gaussian)\n",
        "clf.fit(x_train, y_train)\n",
        "y_test_pred=clf.predict(x_test)\n",
        "confusion_test_gaussian=get_confusion(y_pred=y_test_pred,y_true=y_test)\n",
        "print(confusion_test_gaussian)\n",
        "A_test_gaussian=np.trace(confusion_test_gaussian)/np.sum(confusion_test_gaussian)\n",
        "print(A_test_gaussian)"
      ],
      "metadata": {
        "colab": {
          "base_uri": "https://localhost:8080/"
        },
        "id": "DAa8cDk1q0wY",
        "outputId": "8efb1446-f5af-4cc7-dd42-d4ee4038f1cf"
      },
      "execution_count": null,
      "outputs": [
        {
          "output_type": "stream",
          "name": "stdout",
          "text": [
            "[[57, 0, 1, 1, 0, 0, 5, 0, 1, 0], [1, 71, 1, 3, 0, 0, 0, 0, 1, 0], [2, 0, 63, 1, 12, 0, 4, 0, 0, 0], [4, 0, 1, 68, 4, 0, 1, 0, 0, 0], [0, 0, 6, 1, 64, 0, 13, 0, 0, 0], [0, 0, 0, 0, 0, 50, 0, 2, 1, 1], [13, 0, 7, 0, 8, 0, 50, 0, 4, 0], [0, 0, 0, 0, 0, 1, 0, 69, 0, 4], [0, 0, 2, 0, 0, 1, 3, 2, 82, 0], [0, 0, 0, 0, 0, 0, 0, 3, 0, 61]]\n",
            "0.8466666666666667\n"
          ]
        }
      ]
    },
    {
      "cell_type": "markdown",
      "source": [
        "نتیجه نهایی در کرنل گووسی با گاما مورد نظر دقت برابر 0.846 و ماتریس مورد نظر نیز در بالا میباشد که نسبت به یادگیری خطی نتیجه بهتری به دست آوردیم ."
      ],
      "metadata": {
        "id": "aNGdVit_r3ng"
      }
    },
    {
      "cell_type": "code",
      "source": [
        "#from sklearn.gaussian_process import GaussianProcessClassifier\n",
        "#from sklearn.gaussian_process.kernels import RBF\n",
        "#classifiers = []\n",
        "#gammas=np.logspace(-9,3,13)\n",
        "#min_gamma=0;\n",
        "#max_A=0;\n",
        "#for gamma in gammas :\n",
        "#  kernel = 1.0 * RBF(gamma)\n",
        "#  gpc = GaussianProcessClassifier(kernel=kernel, random_state=0).fit(x_train, y_train)\n",
        "#  y_val_pred=gpc.predict(x_val)\n",
        "#  confusion_val_gaussian=get_confusion(y_pred=y_val_pred,y_true=y_val)\n",
        "  #print(confusion_val_gaussian)\n",
        "#  A_val_gaussian=np.trace(confusion_val_gaussian)/np.sum(confusion_val_gaussian)\n",
        "#  classifiers.append(A_val_gaussian)\n",
        "#  if A_val_gaussian>max_A:\n",
        "#    min_gamma=mygamma\n",
        "#    max_A=A_val_gaussian\n",
        "#print(min_gamma)\n",
        "#print(classifiers)"
      ],
      "metadata": {
        "id": "HUeY92RwDJgI"
      },
      "execution_count": null,
      "outputs": []
    },
    {
      "cell_type": "markdown",
      "source": [
        "روش سوم :\n",
        "در اینجا از کتابخانه \n",
        "\n",
        "sklearn .knn\n",
        "\n",
        " استفاده میکنیم که پارامتر متریک را باید اقلیدسی بگذاریم تا فاصله اقلیدسی حساب کند سپس برای \n",
        "\n",
        " k \n",
        "\n",
        " های مختلف مقدار دقت را حساب میکنیم."
      ],
      "metadata": {
        "id": "NM5AWRRatyda"
      }
    },
    {
      "cell_type": "code",
      "source": [
        "from sklearn.neighbors import KNeighborsClassifier\n",
        "k_1d=np.logspace(0,3,4)\n",
        "classifiers = []\n",
        "min_k=0;\n",
        "max_A=0;\n",
        "#x_train = x_train.astype(int)\n",
        "#print(y_train)\n",
        "#y_train = y_train.astype(int)\n",
        "#print(y_train)\n",
        "for myk in k_1d:\n",
        "  knn = KNeighborsClassifier(n_neighbors=int(myk),metric='euclidean')  \n",
        "  knn.fit(x_train,y_train) \n",
        "  y_val_pred=knn.predict(x_val)\n",
        "  confusion_val_knn=get_confusion(y_pred=y_val_pred,y_true=y_val)\n",
        "  #print(confusion_val_gaussian)\n",
        "  A_val_knn=np.trace(confusion_val_knn)/np.sum(confusion_val_knn)\n",
        "  classifiers.append(A_val_knn)\n",
        "  if A_val_knn>max_A:\n",
        "    min_k=myk\n",
        "    max_A=A_val_knn\n",
        "print(min_k)\n",
        "print(classifiers)\n",
        "\n",
        "\n"
      ],
      "metadata": {
        "colab": {
          "base_uri": "https://localhost:8080/"
        },
        "id": "jREkTPe2uIOw",
        "outputId": "ce589a4e-f1e0-4e43-afbe-76654d55deb6"
      },
      "execution_count": null,
      "outputs": [
        {
          "output_type": "stream",
          "name": "stdout",
          "text": [
            "10.0\n",
            "[0.796, 0.808235294117647, 0.7567058823529412, 0.6143529411764705]\n"
          ]
        }
      ]
    },
    {
      "cell_type": "markdown",
      "source": [
        "در بالا دیدیم در بازه همسایه های 10 تایی جواب خوبی به دست آورده ایم.\n",
        "و الان در ضرایب آن میبینیم چه عددی بهتر است"
      ],
      "metadata": {
        "id": "0LYLxx7W7wGK"
      }
    },
    {
      "cell_type": "code",
      "source": [
        "from sklearn.neighbors import KNeighborsClassifier\n",
        "k_2d = [*(np.array(range(9))+1)*10/10,*(np.array(range(9))+1)*10]\n",
        "classifiers = []\n",
        "conf_Matrixes=[]\n",
        "min_k=0;\n",
        "max_A=0;\n",
        "for myk in k_2d:\n",
        "  knn = KNeighborsClassifier(n_neighbors=int(myk),metric='euclidean')  \n",
        "  knn.fit(x_train,y_train) \n",
        "  y_val_pred=knn.predict(x_val)\n",
        "  confusion_val_knn=get_confusion(y_pred=y_val_pred,y_true=y_val)\n",
        "  #print(confusion_val_gaussian)\n",
        "  A_val_knn=np.trace(confusion_val_knn)/np.sum(confusion_val_knn)\n",
        "  classifiers.append(A_val_knn)\n",
        "  if A_val_knn>max_A:\n",
        "    min_k=myk\n",
        "    max_A=A_val_knn\n",
        "    conf_Matrixes=confusion_val_knn\n",
        "print(min_k)\n",
        "print(classifiers)\n",
        "print(conf_Matrixes)"
      ],
      "metadata": {
        "colab": {
          "base_uri": "https://localhost:8080/"
        },
        "id": "RHDY3P-X75y6",
        "outputId": "ec6d7a69-88fd-4e88-ffa4-02571be5b275"
      },
      "execution_count": null,
      "outputs": [
        {
          "output_type": "stream",
          "name": "stdout",
          "text": [
            "4.0\n",
            "[0.796, 0.7988235294117647, 0.8030588235294117, 0.8110588235294117, 0.804, 0.8032941176470588, 0.804, 0.8072941176470588, 0.8075294117647058, 0.808235294117647, 0.7971764705882353, 0.788, 0.780235294117647, 0.7750588235294118, 0.7687058823529411, 0.7611764705882353, 0.7581176470588236, 0.7592941176470588]\n",
            "[[327, 0, 14, 9, 3, 0, 26, 0, 4, 0], [3, 422, 6, 9, 3, 0, 2, 0, 1, 0], [6, 0, 309, 4, 49, 0, 46, 0, 2, 0], [42, 6, 4, 343, 17, 0, 11, 0, 0, 0], [1, 0, 59, 15, 269, 0, 50, 0, 1, 0], [2, 0, 0, 1, 0, 298, 1, 51, 2, 33], [103, 0, 82, 10, 33, 0, 219, 0, 2, 0], [0, 0, 0, 0, 0, 6, 0, 427, 0, 20], [8, 0, 6, 1, 2, 1, 6, 12, 415, 0], [0, 0, 0, 0, 0, 3, 1, 24, 0, 418]]\n"
          ]
        }
      ]
    },
    {
      "cell_type": "markdown",
      "source": [
        "حال با توجه به بهینه ترین تعداد همسایه میتوانیم برای داده های تست به دست آوریم\n",
        "در بالا نیز دقت و ماتریس خطا برای داده های ولیدیشن در بهترین نقاط همسایه نمایش داده شده است."
      ],
      "metadata": {
        "id": "GmTAv8t-SGOL"
      }
    },
    {
      "cell_type": "code",
      "source": [
        "from sklearn.neighbors import KNeighborsClassifier\n",
        "best_k=min_k\n",
        "knn = KNeighborsClassifier(n_neighbors=int(best_k),metric='euclidean')  \n",
        "knn.fit(x_train,y_train)\n",
        "y_test_pred=knn.predict(x_test)\n",
        "confusion_test_knn=get_confusion(y_pred=y_test_pred,y_true=y_test)\n",
        "print(confusion_test_knn)\n",
        "A_test_knn=np.trace(confusion_test_knn)/np.sum(confusion_test_knn)\n",
        "print(A_test_knn)"
      ],
      "metadata": {
        "colab": {
          "base_uri": "https://localhost:8080/"
        },
        "id": "l69sEsStQrnL",
        "outputId": "c9e35e03-72b5-4ef1-f9d8-a226464e9c61"
      },
      "execution_count": null,
      "outputs": [
        {
          "output_type": "stream",
          "name": "stdout",
          "text": [
            "[[65, 0, 0, 0, 0, 0, 9, 0, 1, 0], [0, 73, 0, 1, 0, 0, 0, 0, 0, 0], [5, 0, 54, 0, 7, 0, 8, 0, 0, 0], [5, 0, 1, 66, 3, 0, 2, 0, 0, 0], [0, 0, 14, 5, 67, 0, 4, 0, 0, 0], [1, 0, 1, 0, 1, 48, 1, 16, 0, 5], [20, 0, 13, 0, 5, 0, 30, 0, 1, 0], [0, 0, 0, 0, 0, 0, 0, 64, 0, 5], [1, 0, 0, 0, 1, 0, 3, 3, 62, 0], [0, 0, 0, 0, 0, 0, 0, 5, 0, 74]]\n",
            "0.804\n"
          ]
        }
      ]
    },
    {
      "cell_type": "markdown",
      "source": [
        "در بالا مشاهده میکنیم که دقت ما برای داده های تست 0.804 میباشد که نسبت به تبدیل خطی بهتر بوده ولی نسبت به تبدیل گووسی کمتر میباشد .\n",
        "ماتریس خطا نیز در بالا قابل مشاهدهد است."
      ],
      "metadata": {
        "id": "OVtud9hrTHyJ"
      }
    },
    {
      "cell_type": "markdown",
      "source": [
        "روش چهارم:\n",
        "طبقه بندی\n",
        "\n",
        "در این روش دیگر پارامتری مورد نیاز نیست که بهترین مقدارش را پیدا کنیم."
      ],
      "metadata": {
        "id": "gwDu6LtoTbbB"
      }
    },
    {
      "cell_type": "code",
      "source": [
        "from sklearn import tree\n",
        "tree_clf = tree.DecisionTreeClassifier()\n",
        "tree_clf.fit(x_train,y_train)\n",
        "y_val_pred=tree_clf.predict(x_val)\n",
        "confusion_val_tree=get_confusion(y_pred=y_val_pred,y_true=y_val)\n",
        "print(confusion_val_tree)\n",
        "A_val_tree=np.trace(confusion_val_tree)/np.sum(confusion_val_tree)\n",
        "print(A_val_tree)"
      ],
      "metadata": {
        "colab": {
          "base_uri": "https://localhost:8080/"
        },
        "id": "MtHPQ3IzcbQp",
        "outputId": "5e97815e-52c2-42cf-994f-9263a5d0553b"
      },
      "execution_count": null,
      "outputs": [
        {
          "output_type": "stream",
          "name": "stdout",
          "text": [
            "[[383, 0, 0, 0, 0, 0, 0, 0, 0, 0], [0, 446, 0, 0, 0, 0, 0, 0, 0, 0], [0, 0, 416, 0, 0, 0, 0, 0, 0, 0], [0, 0, 0, 423, 0, 0, 0, 0, 0, 0], [0, 0, 0, 0, 395, 0, 0, 0, 0, 0], [0, 0, 0, 0, 0, 388, 0, 0, 0, 0], [0, 0, 0, 0, 0, 0, 449, 0, 0, 0], [0, 0, 0, 0, 0, 0, 0, 453, 0, 0], [0, 0, 0, 0, 0, 0, 0, 0, 451, 0], [0, 0, 0, 0, 0, 0, 0, 0, 0, 446]]\n",
            "1.0\n"
          ]
        }
      ]
    },
    {
      "cell_type": "markdown",
      "source": [
        "خب در بالا نتیجه حاصل از یادگیری این گونه شد که دقت داده های ولیدیشن برابر1 و ماتریس مورد نظر نیز قابل مشاهده است "
      ],
      "metadata": {
        "id": "mjyU7uLfdZkn"
      }
    },
    {
      "cell_type": "code",
      "source": [
        "\n",
        "y_test_pred=tree_clf.predict(x_test)\n",
        "confusion_test_tree=get_confusion(y_pred=y_test_pred,y_true=y_test)\n",
        "print(confusion_test_tree)\n",
        "A_test_tree=np.trace(confusion_test_tree)/np.sum(confusion_test_tree)\n",
        "print(A_test_tree)"
      ],
      "metadata": {
        "colab": {
          "base_uri": "https://localhost:8080/"
        },
        "id": "unWZiQYcdE8C",
        "outputId": "6030d762-b269-483c-c511-425e8495a0cf"
      },
      "execution_count": null,
      "outputs": [
        {
          "output_type": "stream",
          "name": "stdout",
          "text": [
            "[[75, 0, 0, 0, 0, 0, 0, 0, 0, 0], [0, 74, 0, 0, 0, 0, 0, 0, 0, 0], [0, 0, 74, 0, 0, 0, 0, 0, 0, 0], [0, 0, 0, 77, 0, 0, 0, 0, 0, 0], [0, 0, 0, 0, 90, 0, 0, 0, 0, 0], [0, 0, 0, 0, 0, 73, 0, 0, 0, 0], [0, 0, 0, 0, 0, 0, 69, 0, 0, 0], [0, 0, 0, 0, 0, 0, 0, 69, 0, 0], [0, 0, 0, 0, 0, 0, 0, 0, 70, 0], [0, 0, 0, 0, 0, 0, 0, 0, 0, 79]]\n",
            "1.0\n"
          ]
        }
      ]
    },
    {
      "cell_type": "markdown",
      "source": [
        "در بالا نیز نتیجه نهایی برای داده های تست دقت ما 1 شد که این نتیجه از بقیه نتیجه گیری ها بهتر بوده است و کمی عجیب است که خطایی ندارد."
      ],
      "metadata": {
        "id": "9LhRQflLd5rv"
      }
    },
    {
      "cell_type": "markdown",
      "source": [
        "روش پنجم :    شبکه های عصبی\n",
        "\n"
      ],
      "metadata": {
        "id": "0b45OVbaeMTe"
      }
    },
    {
      "cell_type": "code",
      "source": [
        "import tensorflow as tf\n",
        "model = tf.keras.Sequential([\n",
        " \n",
        "    tf.keras.layers.Dense(units=100, activation='softmax',\n",
        "                          input_shape=[x_train.shape[1]]),\n",
        "    tf.keras.layers.Dense(units=100, activation='softmax'),\n",
        "    tf.keras.layers.Dense(units=1,activation='softmax')\n",
        "])\n",
        "model.summary()"
      ],
      "metadata": {
        "colab": {
          "base_uri": "https://localhost:8080/"
        },
        "id": "W4fnSG5cMFWF",
        "outputId": "7c8c2fbb-f6fc-4af2-ebcf-75f2314ca488"
      },
      "execution_count": null,
      "outputs": [
        {
          "output_type": "stream",
          "name": "stdout",
          "text": [
            "Model: \"sequential\"\n",
            "_________________________________________________________________\n",
            " Layer (type)                Output Shape              Param #   \n",
            "=================================================================\n",
            " dense (Dense)               (None, 100)               78500     \n",
            "                                                                 \n",
            " dense_1 (Dense)             (None, 100)               10100     \n",
            "                                                                 \n",
            " dense_2 (Dense)             (None, 1)                 101       \n",
            "                                                                 \n",
            "=================================================================\n",
            "Total params: 88,701\n",
            "Trainable params: 88,701\n",
            "Non-trainable params: 0\n",
            "_________________________________________________________________\n"
          ]
        }
      ]
    },
    {
      "cell_type": "code",
      "source": [
        "model.compile(optimizer=\"SGD\", loss=tf.keras.losses.BinaryCrossentropy) "
      ],
      "metadata": {
        "id": "AzDWPIjJnFpD"
      },
      "execution_count": null,
      "outputs": []
    },
    {
      "cell_type": "markdown",
      "source": [
        "در زیر داده هار ا به تنسور تبدیل کردیم ."
      ],
      "metadata": {
        "id": "8kS2f3GBheX4"
      }
    },
    {
      "cell_type": "code",
      "source": [
        "import warnings\n",
        "warnings.filterwarnings(\"ignore\")\n",
        "import torch\n",
        "import torch.nn as nn\n",
        "import torch.nn.functional as F\n",
        "from torch.utils.data import DataLoader, TensorDataset\n",
        "\n",
        "import matplotlib.pyplot as plt\n",
        "import matplotlib.gridspec as gridspec\n",
        "from IPython import display\n",
        "display.set_matplotlib_formats(\"svg\")\n",
        "\n",
        "\n",
        "X_train = torch.tensor(x_train, dtype=torch.float)\n",
        "Y_train = torch.tensor(y_train, dtype=torch.long)\n",
        "X_val = torch.tensor(x_val, dtype=torch.float)\n",
        "Y_val = torch.tensor(y_val, dtype=torch.long)\n",
        "X_test = torch.tensor(x_test, dtype=torch.float)\n",
        "Y_test = torch.tensor(y_test, dtype=torch.long)\n",
        "\n",
        "train_data = TensorDataset(X_train, Y_train)\n",
        "val_data = TensorDataset(X_val, Y_val)\n",
        "test_data = TensorDataset(X_test, Y_test)\n",
        "batch_size=128\n",
        "train_loader = DataLoader(train_data, shuffle=True, batch_size=batch_size)\n",
        "test_loader = DataLoader(test_data, shuffle=True, batch_size=batch_size)\n",
        "val_loader = DataLoader(val_data, shuffle=True, batch_size=batch_size)\n",
        "\n",
        "print(\"Training data batches:\")\n",
        "for X, y in train_loader:\n",
        "    print(X.shape, y.shape)\n",
        "    \n",
        "print(\"\\nTest data batches:\")\n",
        "for X, y in test_loader:\n",
        "    print(X.shape, y.shape)"
      ],
      "metadata": {
        "colab": {
          "base_uri": "https://localhost:8080/"
        },
        "id": "_8ORUm_qhdRJ",
        "outputId": "4903de0a-272e-4e0a-a281-4f5de87a5225"
      },
      "execution_count": 6,
      "outputs": [
        {
          "output_type": "stream",
          "name": "stdout",
          "text": [
            "Training data batches:\n",
            "torch.Size([128, 784]) torch.Size([128])\n",
            "torch.Size([128, 784]) torch.Size([128])\n",
            "torch.Size([128, 784]) torch.Size([128])\n",
            "torch.Size([128, 784]) torch.Size([128])\n",
            "torch.Size([128, 784]) torch.Size([128])\n",
            "torch.Size([128, 784]) torch.Size([128])\n",
            "torch.Size([128, 784]) torch.Size([128])\n",
            "torch.Size([128, 784]) torch.Size([128])\n",
            "torch.Size([128, 784]) torch.Size([128])\n",
            "torch.Size([128, 784]) torch.Size([128])\n",
            "torch.Size([128, 784]) torch.Size([128])\n",
            "torch.Size([128, 784]) torch.Size([128])\n",
            "torch.Size([128, 784]) torch.Size([128])\n",
            "torch.Size([128, 784]) torch.Size([128])\n",
            "torch.Size([128, 784]) torch.Size([128])\n",
            "torch.Size([128, 784]) torch.Size([128])\n",
            "torch.Size([128, 784]) torch.Size([128])\n",
            "torch.Size([128, 784]) torch.Size([128])\n",
            "torch.Size([128, 784]) torch.Size([128])\n",
            "torch.Size([128, 784]) torch.Size([128])\n",
            "torch.Size([128, 784]) torch.Size([128])\n",
            "torch.Size([128, 784]) torch.Size([128])\n",
            "torch.Size([128, 784]) torch.Size([128])\n",
            "torch.Size([128, 784]) torch.Size([128])\n",
            "torch.Size([128, 784]) torch.Size([128])\n",
            "torch.Size([128, 784]) torch.Size([128])\n",
            "torch.Size([128, 784]) torch.Size([128])\n",
            "torch.Size([128, 784]) torch.Size([128])\n",
            "torch.Size([128, 784]) torch.Size([128])\n",
            "torch.Size([128, 784]) torch.Size([128])\n",
            "torch.Size([128, 784]) torch.Size([128])\n",
            "torch.Size([128, 784]) torch.Size([128])\n",
            "torch.Size([128, 784]) torch.Size([128])\n",
            "torch.Size([128, 784]) torch.Size([128])\n",
            "torch.Size([128, 784]) torch.Size([128])\n",
            "torch.Size([128, 784]) torch.Size([128])\n",
            "torch.Size([128, 784]) torch.Size([128])\n",
            "torch.Size([128, 784]) torch.Size([128])\n",
            "torch.Size([128, 784]) torch.Size([128])\n",
            "torch.Size([8, 784]) torch.Size([8])\n",
            "\n",
            "Test data batches:\n",
            "torch.Size([128, 784]) torch.Size([128])\n",
            "torch.Size([128, 784]) torch.Size([128])\n",
            "torch.Size([128, 784]) torch.Size([128])\n",
            "torch.Size([128, 784]) torch.Size([128])\n",
            "torch.Size([128, 784]) torch.Size([128])\n",
            "torch.Size([110, 784]) torch.Size([110])\n"
          ]
        }
      ]
    },
    {
      "cell_type": "markdown",
      "source": [
        "در زیر کلاس مدل شبکه عصبی را نوشتیم که سه لایه دارد و لایه  آخر تابع اش معلوم است ولی توابع مخفی معلوم نیستند."
      ],
      "metadata": {
        "id": "V4ZsIZ_7uU70"
      }
    },
    {
      "cell_type": "code",
      "source": [
        "class Net(nn.Module):\n",
        "    def __init__(self):\n",
        "        super().__init__()\n",
        "        data_fetures=28*28\n",
        "        self.input = nn.Linear(in_features=784, out_features=100)\n",
        "        self.hidden_1 = nn.Linear(in_features=100, out_features=100)\n",
        "        self.hidden_2 = nn.Linear(in_features=100, out_features=100)\n",
        "        self.output = nn.Linear(in_features=100, out_features=10)\n",
        "        \n",
        "    def forward(self, x,hidden_func):\n",
        "        x = hidden_func(self.input(x))\n",
        "        x = hidden_func(self.hidden_1(x))\n",
        "        x = hidden_func(self.hidden_2(x))\n",
        "        return F.softmax(self.output(x))"
      ],
      "metadata": {
        "id": "cDqQsqKRuQU8"
      },
      "execution_count": 61,
      "outputs": []
    },
    {
      "cell_type": "markdown",
      "source": [
        "در بخش زیر بین  یک سری توابع اکتیویشن میسنجیم ببینیم دقت کدام مدل بهتر است.\n",
        "\n",
        "در زیر تابع هزینه ای که با دادن تابع مخفی مقدار "
      ],
      "metadata": {
        "id": "dPSsnfYDuoKm"
      }
    },
    {
      "cell_type": "code",
      "source": [
        "functions=[F.softmax,F.elu,F.sigmoid]\n",
        "print(functions)"
      ],
      "metadata": {
        "colab": {
          "base_uri": "https://localhost:8080/"
        },
        "id": "clypS1DOxkeF",
        "outputId": "0f5e4a93-b200-498e-a313-46016f0cf205"
      },
      "execution_count": 65,
      "outputs": [
        {
          "output_type": "stream",
          "name": "stdout",
          "text": [
            "[<function softmax at 0x7fa80e4b60d0>, <function elu at 0x7fa80e4b3b80>, <function sigmoid at 0x7fa80e4b6310>]\n"
          ]
        }
      ]
    },
    {
      "cell_type": "code",
      "source": [
        "def val_loss(train_loader,val_loader,hidden_function):\n",
        "  model = Net() \n",
        "  num_epochs = 200\n",
        "  train_accuracies, test_accuracies = [], []\n",
        "  loss_function = nn.CrossEntropyLoss()\n",
        "  optimizer = torch.optim.SGD(params=model.parameters(), lr=0.01)\n",
        "  for epoch in range(num_epochs):\n",
        "    # Train set\n",
        "    for X, y in train_loader:\n",
        "        preds = model(X,hidden_function)\n",
        "        pred_labels = torch.argmax(preds, axis=1)\n",
        "        loss = loss_function(preds, y)\n",
        "        optimizer.zero_grad()\n",
        "        loss.backward()\n",
        "        optimizer.step()\n",
        "    train_accuracies.append( torch.mean((pred_labels == y).float()).item())\n",
        "    \n",
        "    # validation set\n",
        "    X, y = next(iter(val_loader))\n",
        "    pred_labels = torch.argmax(model(X,hidden_function), axis=1)\n",
        "    test_accuracies.append( torch.mean((pred_labels == y).float()).item())\n",
        "    return np.mean(test_accuracies)   \n",
        "\n",
        "losses=[]\n",
        "for func in functions:\n",
        "  losses.append(val_loss(train_loader,val_loader,func))\n",
        "print(\"the best hidden function is\")\n",
        "print(losses)"
      ],
      "metadata": {
        "colab": {
          "base_uri": "https://localhost:8080/"
        },
        "id": "QD5Nf7Vay70s",
        "outputId": "5006ffd9-5562-4539-9c83-81cde15100ba"
      },
      "execution_count": 78,
      "outputs": [
        {
          "output_type": "stream",
          "name": "stdout",
          "text": [
            "the best hidden function is\n",
            "[0.1015625, 0.3671875, 0.078125]\n"
          ]
        }
      ]
    },
    {
      "cell_type": "code",
      "source": [
        "\n",
        "\n",
        "fig = plt.figure(tight_layout=True)\n",
        "gs = gridspec.GridSpec(nrows=2, ncols=1)\n",
        "\n",
        "ax = fig.add_subplot(gs[0, 0])\n",
        "ax.plot(train_accuracies)\n",
        "ax.set_xlabel(\"Epoch\")\n",
        "ax.set_ylabel(\"Training accuracy\")\n",
        "\n",
        "ax = fig.add_subplot(gs[1, 0])\n",
        "ax.plot(test_accuracies)\n",
        "ax.set_xlabel(\"Epoch\")\n",
        "ax.set_ylabel(\"Test accuracy\")\n",
        "\n",
        "fig.align_labels()\n",
        "plt.show()"
      ],
      "metadata": {
        "id": "Z8ph3bDHOr_q"
      },
      "execution_count": null,
      "outputs": []
    }
  ],
  "metadata": {
    "colab": {
      "provenance": [],
      "authorship_tag": "ABX9TyMwteFJ3Otsvja7Rwd/TNyE",
      "include_colab_link": true
    },
    "kernelspec": {
      "display_name": "Python 3",
      "name": "python3"
    },
    "language_info": {
      "name": "python"
    },
    "accelerator": "GPU",
    "gpuClass": "standard"
  },
  "nbformat": 4,
  "nbformat_minor": 0
}