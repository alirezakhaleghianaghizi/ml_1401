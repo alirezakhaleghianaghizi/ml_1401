{
  "cells": [
    {
      "cell_type": "markdown",
      "metadata": {
        "id": "view-in-github",
        "colab_type": "text"
      },
      "source": [
        "<a href=\"https://colab.research.google.com/github/alirezakhaleghianaghizi/ml_1401/blob/main/ch2q3.ipynb\" target=\"_parent\"><img src=\"https://colab.research.google.com/assets/colab-badge.svg\" alt=\"Open In Colab\"/></a>"
      ]
    },
    {
      "cell_type": "markdown",
      "source": [
        "تمرین کامپیوتری یادگیری ماشین \n",
        "\n",
        "علیرضا خالقی آناقیزی\n",
        "\n",
        "99101462\n",
        "\n",
        "تمرین2\n",
        "\n",
        "Problem C3"
      ],
      "metadata": {
        "id": "U7s_BGZamabg"
      }
    },
    {
      "cell_type": "markdown",
      "source": [
        "در زیر ما فایل مورد نظر را در درایو گوگل آپلود کرده ایم و برای این که دیتا ها را لود کنیم ابتدا باید درایو را به سیستم متصل کنیم و سپس از فولدری که \n",
        "\n",
        "path\n",
        "\n",
        "مورد نظر میباشد آن را لود کنیم."
      ],
      "metadata": {
        "id": "pBFC0TGBmwfC"
      }
    },
    {
      "cell_type": "code",
      "source": [
        "import numpy as np\n",
        "import pandas as pd\n",
        "from google.colab import drive\n",
        "drive.mount('/content/drive')"
      ],
      "metadata": {
        "colab": {
          "base_uri": "https://localhost:8080/"
        },
        "id": "tvfsLmq-m6Rp",
        "outputId": "1071674e-97ef-410b-8af8-00ba157a1d21"
      },
      "execution_count": 97,
      "outputs": [
        {
          "output_type": "stream",
          "name": "stdout",
          "text": [
            "Drive already mounted at /content/drive; to attempt to forcibly remount, call drive.mount(\"/content/drive\", force_remount=True).\n"
          ]
        }
      ]
    },
    {
      "cell_type": "markdown",
      "source": [
        "A. Load Data"
      ],
      "metadata": {
        "id": "jxEvzfzFnOkw"
      }
    },
    {
      "cell_type": "code",
      "source": [
        "filepath='/content/drive/MyDrive/ml/data_banknote_authentication.csv' \n",
        "df = pd.read_csv(filepath)\n",
        "print(df.to_string()) "
      ],
      "metadata": {
        "id": "QBCWaTGxnPZv"
      },
      "execution_count": null,
      "outputs": []
    },
    {
      "cell_type": "code",
      "source": [
        "dataset=np.array(df).T\n"
      ],
      "metadata": {
        "id": "MqxPQTEHpUTw"
      },
      "execution_count": 100,
      "outputs": []
    },
    {
      "cell_type": "code",
      "source": [
        "print(len(dataset))"
      ],
      "metadata": {
        "colab": {
          "base_uri": "https://localhost:8080/"
        },
        "id": "F85MaFtZ5WSA",
        "outputId": "8d6a519a-79b9-4bd7-9a91-db45571473e1"
      },
      "execution_count": 101,
      "outputs": [
        {
          "output_type": "stream",
          "name": "stdout",
          "text": [
            "5\n"
          ]
        }
      ]
    },
    {
      "cell_type": "code",
      "source": [
        "X=dataset[0:len(dataset)-1].T\n",
        "print(X)\n",
        "Y=dataset[len(dataset)-1].T\n",
        "print(Y)"
      ],
      "metadata": {
        "colab": {
          "base_uri": "https://localhost:8080/"
        },
        "id": "LIifEaRs52TF",
        "outputId": "cc417cd8-8b5a-43cd-efd7-4f9947c5b028"
      },
      "execution_count": 102,
      "outputs": [
        {
          "output_type": "stream",
          "name": "stdout",
          "text": [
            "[[-1.7104  -4.778    6.2109   0.3974 ]\n",
            " [ 3.7635   2.7811   0.66119  0.34179]\n",
            " [ 5.3915   9.9946  -3.8081  -3.3642 ]\n",
            " ...\n",
            " [-3.6053  -5.974   10.0916  -0.82846]\n",
            " [ 2.0421   1.2436   4.2171   0.90429]\n",
            " [ 1.9476  -4.7738   8.527   -1.8668 ]]\n",
            "[ 1.  1. -1. ... -1.  1. -1.]\n"
          ]
        }
      ]
    },
    {
      "cell_type": "code",
      "source": [
        "import math\n",
        "X_train=np.array(X[0:math.floor(0.8*len(X))])\n",
        "Y_train=np.array(Y[0:math.floor(0.8*len(X))])\n",
        "\n",
        "X_test=np.array(X[math.floor(0.8*len(X)):len(X)])\n",
        "Y_test=np.array(Y[math.floor(0.8*len(X)):len(X)])"
      ],
      "metadata": {
        "id": "tbrE2BkN6up-"
      },
      "execution_count": 136,
      "outputs": []
    },
    {
      "cell_type": "markdown",
      "source": [
        "B. Perceptron Algorithm\n"
      ],
      "metadata": {
        "id": "Q1-hfYvN8Prn"
      }
    },
    {
      "cell_type": "markdown",
      "source": [
        "دلیل اضافه کردن این یک برای این است که در رابطه خطی رابطه را به صورت همگن در بیاوریم و مقدار ثابت \n",
        "\n",
        "b\n",
        "\n",
        " را به عنوان یکی از ضرایب خطی سازی در نظر بگیریم و بگوییم هر مشخصه یک مقدار 1 دارد که در ضریبش ضرب شده و مقدار ثابت را میسازد."
      ],
      "metadata": {
        "id": "BWCxi7-38SOa"
      }
    },
    {
      "cell_type": "code",
      "source": [
        "x0train=np.array(np.ones(len(X_train)))\n",
        "x0test=np.array(np.ones(len(X_test)))\n",
        "X_train1= np.append([x0train],X_train.T,axis=0)\n",
        "X_test1=np.append([x0test],X_test.T,axis=0)\n",
        "X_train1tra=np.array(X_train1).T\n",
        "X_test1tra=np.array(X_test1).T"
      ],
      "metadata": {
        "id": "6zLAekaP8oUT"
      },
      "execution_count": 137,
      "outputs": []
    },
    {
      "cell_type": "markdown",
      "source": [
        "حالا تابعی مینویسیم برای الگوریتم تکراری"
      ],
      "metadata": {
        "id": "R4BoKR85FScI"
      }
    },
    {
      "cell_type": "markdown",
      "source": [
        "در زیر ما سه تابع نوشتیم که اولی هر گام را انجام میدهد و ضرایب جدید را میسازد و دومی خطا را حساب میکند و سومی نیز تابع کلی است که 50000 بار تکرار میکند"
      ],
      "metadata": {
        "id": "2mOgQ8NMR2AE"
      }
    },
    {
      "cell_type": "code",
      "source": [
        "def perceptronN(w,y,x):\n",
        "  h=np.dot(w,x)\n",
        "  xtr=np.array(x).T\n",
        "  wt1=w\n",
        "  for i in range(len(h)):\n",
        "    if h[i]*y[i]<=0:\n",
        "      wt1=np.add(wt1,y[i]*xtr[i])\n",
        "  return (wt1)\n",
        "\n",
        "def calLsn(w,y,x):\n",
        "  M=(len(x[0]))\n",
        "  h=np.dot(w,x)\n",
        "  sum=0\n",
        "  for i in range(M):\n",
        "     if h[i]*y[i]<=0:\n",
        "      sum=sum+1\n",
        "  L=sum/M \n",
        "  #print(\"L\"+str(len(x)))\n",
        "  #print(L) \n",
        "  #print(\"max\"+str(len(x)))\n",
        "  #print(max)\n",
        "  return (L)\n",
        "\n",
        "def perceptron(X_tr, Y_tr, X_te, Y_te, max_iter=50000):\n",
        "  xtra=np.array(X_tr).T\n",
        "  w=abs(xtra[0]*0);\n",
        "  loss_history=[]\n",
        "  for i in range(max_iter):\n",
        "    w=perceptronN(w,Y_tr,X_tr)\n",
        "    if i%500==0:\n",
        "      Loss=calLsn(w,Y_te, X_te)\n",
        "      loss_history.append(Loss)\n",
        "  return w,loss_history\n",
        "\n",
        "w,loss_history=perceptron(X_train1,Y_train,X_test1,Y_test)\n",
        "print(w)\n",
        "print(loss_history)"
      ],
      "metadata": {
        "colab": {
          "base_uri": "https://localhost:8080/"
        },
        "id": "i1U0Obzm_rDi",
        "outputId": "e052f4e0-8d51-4309-8f34-6697da6f1355"
      },
      "execution_count": 119,
      "outputs": [
        {
          "output_type": "stream",
          "name": "stdout",
          "text": [
            "[1763.          800.1181336  -435.25372948  153.08152479 5112.63114089]\n",
            "[0.18545454545454546, 0.014545454545454545, 0.02909090909090909, 0.01090909090909091, 0.01090909090909091, 0.02909090909090909, 0.02909090909090909, 0.01818181818181818, 0.014545454545454545, 0.01090909090909091, 0.014545454545454545, 0.01090909090909091, 0.02909090909090909, 0.02909090909090909, 0.014545454545454545, 0.02909090909090909, 0.02909090909090909, 0.014545454545454545, 0.014545454545454545, 0.014545454545454545, 0.02909090909090909, 0.01818181818181818, 0.02909090909090909, 0.014545454545454545, 0.02909090909090909, 0.014545454545454545, 0.01090909090909091, 0.01090909090909091, 0.02909090909090909, 0.02909090909090909, 0.02909090909090909, 0.02909090909090909, 0.02909090909090909, 0.014545454545454545, 0.02909090909090909, 0.01818181818181818, 0.014545454545454545, 0.02909090909090909, 0.01818181818181818, 0.01818181818181818, 0.014545454545454545, 0.02909090909090909, 0.01818181818181818, 0.02909090909090909, 0.01818181818181818, 0.02909090909090909, 0.01090909090909091, 0.014545454545454545, 0.02909090909090909, 0.014545454545454545, 0.01818181818181818, 0.02909090909090909, 0.014545454545454545, 0.014545454545454545, 0.01818181818181818, 0.014545454545454545, 0.01818181818181818, 0.02909090909090909, 0.014545454545454545, 0.014545454545454545, 0.014545454545454545, 0.014545454545454545, 0.014545454545454545, 0.02909090909090909, 0.01090909090909091, 0.01818181818181818, 0.01818181818181818, 0.02909090909090909, 0.014545454545454545, 0.01818181818181818, 0.02909090909090909, 0.014545454545454545, 0.02909090909090909, 0.02909090909090909, 0.01818181818181818, 0.02909090909090909, 0.02181818181818182, 0.02909090909090909, 0.01818181818181818, 0.014545454545454545, 0.02909090909090909, 0.02909090909090909, 0.01818181818181818, 0.014545454545454545, 0.01818181818181818, 0.02909090909090909, 0.014545454545454545, 0.014545454545454545, 0.01818181818181818, 0.01818181818181818, 0.02909090909090909, 0.01818181818181818, 0.01090909090909091, 0.02909090909090909, 0.014545454545454545, 0.014545454545454545, 0.02909090909090909, 0.014545454545454545, 0.014545454545454545, 0.01818181818181818]\n"
          ]
        }
      ]
    },
    {
      "cell_type": "code",
      "source": [
        "finalloss=loss_history[len(loss_history)-1]\n",
        "import matplotlib.pyplot as plt\n",
        "xaxis=[]\n",
        "for i in range(len(loss_history)):\n",
        "  xaxis.append((i+1))\n",
        "xpoints = np.array(xaxis)\n",
        "ypoints = np.array(loss_history)\n",
        "plt.xlabel(\"each 500 iter\")\n",
        "plt.ylabel(\"Loss history\")\n",
        "plt.plot(xpoints, ypoints)\n",
        "plt.show()\n",
        "print(finalloss)"
      ],
      "metadata": {
        "colab": {
          "base_uri": "https://localhost:8080/",
          "height": 296
        },
        "id": "S7E52iLfSQgb",
        "outputId": "e2a856e8-b3e0-4174-d5b9-5f8d8b463bc4"
      },
      "execution_count": 120,
      "outputs": [
        {
          "output_type": "display_data",
          "data": {
            "text/plain": [
              "<Figure size 432x288 with 1 Axes>"
            ],
            "image/png": "[encoded data removed]"
          },
          "metadata": {
            "needs_background": "light"
          }
        },
        {
          "output_type": "stream",
          "name": "stdout",
          "text": [
            "0.01818181818181818\n"
          ]
        }
      ]
    },
    {
      "cell_type": "markdown",
      "source": [
        "C. Generalize to non-linear classification"
      ],
      "metadata": {
        "id": "688QAzkhX0c3"
      }
    },
    {
      "cell_type": "markdown",
      "source": [
        "حالا کافی است یک ستون که توان سه ستون چهارم است را اضافه کنیم"
      ],
      "metadata": {
        "id": "x41Qzr_bX1eZ"
      }
    },
    {
      "cell_type": "code",
      "source": [
        "Xtr2=X_train1\n",
        "Xtr3=X_test1\n",
        "xtr43=X_train1[len(X_train1)-1]*0\n",
        "for i in range(len(xtr43)):\n",
        "  xtr43[i]=math.pow(X_train1[len(X_train1)-1][i],3)\n",
        "xte43=X_test1[len(X_test1)-1]*0\n",
        "for i in range(len(xte43)):\n",
        "  xte43[i]=math.pow(X_test1[len(X_test1)-1][i],3)\n",
        "\n",
        "\n",
        "spi_tr= np.append(Xtr2,[xtr43],axis=0)\n",
        "spi_te= np.append(Xtr3,[xte43],axis=0)\n",
        "print(spi_tr)\n",
        "print(spi_te)"
      ],
      "metadata": {
        "colab": {
          "base_uri": "https://localhost:8080/"
        },
        "id": "gAm-NoYmYFBF",
        "outputId": "0926b0a6-c786-42ed-9a53-d13fc376180f"
      },
      "execution_count": 138,
      "outputs": [
        {
          "output_type": "stream",
          "name": "stdout",
          "text": [
            "[[  1.           1.           1.         ...   1.           1.\n",
            "    1.        ]\n",
            " [ -1.7104       3.7635       5.3915     ...   2.483       -0.49241\n",
            "    2.6415    ]\n",
            " [ -4.778        2.7811       9.9946     ...   6.6155       0.89392\n",
            "    7.586     ]\n",
            " [  6.2109       0.66119     -3.8081     ...  -0.79287     -1.6283\n",
            "   -0.28562   ]\n",
            " [  0.3974       0.34179     -3.3642     ...  -0.90863     -0.56854\n",
            "   -1.6677    ]\n",
            " [  0.06276009   0.03992805 -38.07548285 ...  -0.75017263  -0.18377358\n",
            "   -4.63824608]]\n",
            "[[ 1.00000000e+00  1.00000000e+00  1.00000000e+00 ...  1.00000000e+00\n",
            "   1.00000000e+00  1.00000000e+00]\n",
            " [-2.66490000e+00  3.80270000e+00  3.83840000e+00 ... -3.60530000e+00\n",
            "   2.04210000e+00  1.94760000e+00]\n",
            " [-1.28130000e+01  8.15290000e-01  6.18510000e+00 ... -5.97400000e+00\n",
            "   1.24360000e+00 -4.77380000e+00]\n",
            " [ 1.26689000e+01  2.10410000e+00 -2.04390000e+00 ...  1.00916000e+01\n",
            "   4.21710000e+00  8.52700000e+00]\n",
            " [-1.90820000e+00  1.02450000e+00 -3.32040000e-02 ... -8.28460000e-01\n",
            "   9.04290000e-01 -1.86680000e+00]\n",
            " [-6.94818982e+00  1.07531546e+00 -3.66075965e-05 ... -5.68610184e-01\n",
            "   7.39474470e-01 -6.50569017e+00]]\n"
          ]
        }
      ]
    },
    {
      "cell_type": "markdown",
      "source": [
        "حال که ستون جدید را ساختیم تابع گام را صدا میزنیم"
      ],
      "metadata": {
        "id": "5eaYVJRxkq__"
      }
    },
    {
      "cell_type": "code",
      "source": [
        "wnew,loss_historynew=perceptron(spi_tr,Y_train,spi_te,Y_test)\n",
        "print(wnew)\n",
        "print(loss_historynew)"
      ],
      "metadata": {
        "colab": {
          "base_uri": "https://localhost:8080/"
        },
        "id": "QawGZduakqVP",
        "outputId": "1743c7a6-10a4-4974-e59e-77f6150868b4"
      },
      "execution_count": 139,
      "outputs": [
        {
          "output_type": "stream",
          "name": "stdout",
          "text": [
            "[ 6471.          3630.5162982  -2117.76209248   579.67791579\n",
            " 16088.92727748  4027.91864132]\n",
            "[0.10909090909090909, 0.03272727272727273, 0.02909090909090909, 0.025454545454545455, 0.025454545454545455, 0.02181818181818182, 0.02181818181818182, 0.01818181818181818, 0.014545454545454545, 0.01818181818181818, 0.014545454545454545, 0.01090909090909091, 0.01090909090909091, 0.01090909090909091, 0.01090909090909091, 0.01090909090909091, 0.01090909090909091, 0.01090909090909091, 0.01090909090909091, 0.007272727272727273, 0.0036363636363636364, 0.0036363636363636364, 0.0, 0.0, 0.0, 0.0, 0.0, 0.0, 0.0, 0.0, 0.0, 0.0, 0.0, 0.0, 0.0, 0.0, 0.0, 0.0, 0.0, 0.0, 0.0, 0.0, 0.0, 0.0, 0.0, 0.0, 0.0, 0.0, 0.0, 0.0, 0.0, 0.0, 0.0, 0.0, 0.0, 0.0, 0.0, 0.0, 0.0, 0.0, 0.0, 0.0, 0.0, 0.0, 0.0, 0.0, 0.0, 0.0, 0.0, 0.0, 0.0, 0.0, 0.0, 0.0, 0.0, 0.0, 0.0, 0.0, 0.0, 0.0, 0.0, 0.0, 0.0, 0.0, 0.0, 0.0, 0.0, 0.0, 0.0, 0.0, 0.0, 0.0, 0.0, 0.0, 0.0, 0.0, 0.0, 0.0, 0.0, 0.0]\n"
          ]
        }
      ]
    },
    {
      "cell_type": "markdown",
      "source": [
        "خطای حاصل را در زیر رسم میکنیم"
      ],
      "metadata": {
        "id": "qrhNQLN_l8_o"
      }
    },
    {
      "cell_type": "code",
      "source": [
        "finallossnew=loss_historynew[len(loss_historynew)-1]\n",
        "import matplotlib.pyplot as plt\n",
        "xaxis=[]\n",
        "for i in range(len(loss_historynew)):\n",
        "  xaxis.append((i+1))\n",
        "xpoints = np.array(xaxis)\n",
        "ypoints = np.array(loss_historynew)\n",
        "plt.xlabel(\"each 500 iter\")\n",
        "plt.ylabel(\"Loss history\")\n",
        "plt.plot(xpoints, ypoints)\n",
        "plt.show()\n",
        "print(finallossnew)"
      ],
      "metadata": {
        "colab": {
          "base_uri": "https://localhost:8080/",
          "height": 296
        },
        "id": "FPbr8tGcl8XA",
        "outputId": "68c3c821-e67f-4d2a-d913-ae2c1073ee6c"
      },
      "execution_count": 142,
      "outputs": [
        {
          "output_type": "display_data",
          "data": {
            "text/plain": [
              "<Figure size 432x288 with 1 Axes>"
            ],
            "image/png": "[encoded data removed]"
          },
          "metadata": {
            "needs_background": "light"
          }
        },
        {
          "output_type": "stream",
          "name": "stdout",
          "text": [
            "0.0\n"
          ]
        }
      ]
    },
    {
      "cell_type": "markdown",
      "source": [
        "در حالت اولیه که سطر توان سه ویژگی چهارم را نداشتیم خطا هر گز صفر نمیشد اما ر اینجا خطا از یک گامی به بعد صفر شده است"
      ],
      "metadata": {
        "id": "o0FzK8HbmPIX"
      }
    },
    {
      "cell_type": "markdown",
      "source": [
        "D. SVM algorithm"
      ],
      "metadata": {
        "id": "YBJ1P2pN2ZUc"
      }
    },
    {
      "cell_type": "markdown",
      "source": [
        "با استفاده از کتابخانه مورد نظر یادگیری را انجام میدهیم"
      ],
      "metadata": {
        "id": "bykPFNGW2cOF"
      }
    },
    {
      "cell_type": "code",
      "source": [
        "from sklearn import svm\n",
        "X = [[0, 0], [1, 1]]\n",
        "y = [0, 1]\n",
        "clf = svm.SVC(max_iter=50000, kernel = 'linear')\n",
        "clf.fit(X_train, Y_train)\n",
        "emp_loss=clf.score(X_train, Y_train)\n",
        "true_loss=clf.score(X_test, Y_test)\n",
        "print('emp_loss = ',emp_loss)\n",
        "print('treu_loss = ',true_loss)\n",
        "w=clf.coef_\n",
        "b=clf.intercept_\n",
        "print('w = ',w)\n",
        "print('b = ',b)"
      ],
      "metadata": {
        "id": "e_y1Fgni2jEe",
        "outputId": "4590dbff-c847-4559-b67d-581f2ea9bb0e",
        "colab": {
          "base_uri": "https://localhost:8080/"
        }
      },
      "execution_count": 145,
      "outputs": [
        {
          "output_type": "stream",
          "name": "stdout",
          "text": [
            "emp_loss =  0.9963536918869644\n",
            "treu_loss =  0.9818181818181818\n",
            "w =  [[ 1.08841176 -0.52320888  0.21276987  5.96225103]]\n",
            "b =  [1.94613416]\n"
          ]
        }
      ]
    },
    {
      "cell_type": "markdown",
      "source": [
        "E. Conclusion"
      ],
      "metadata": {
        "id": "wHYgFc9865LW"
      }
    },
    {
      "cell_type": "markdown",
      "source": [
        "مقدار ضرایبی که از روش دستی خودمان به دست آوردیم بسیار بزرگتر از مقداری شدند که از کتابخانه مورد نظر به دست آمد ولی خطای محاسبات ما نسبت به کتابخانه کمتر بوده است پس یعنی ما میتوانیم المان ها را با ضرایب گوناگون دسته بندی کنیم ولی در حالات مختلف مقدار خطای محاسبات ما کمتر میشود البته باید در نظر بگیریم که بیشینه گام های ما نیز تاثیر بسزایی در این دسته بندی دارد."
      ],
      "metadata": {
        "id": "2QskYlBv67wr"
      }
    }
  ],
  "metadata": {
    "colab": {
      "name": "Welcome To Colaboratory",
      "toc_visible": true,
      "provenance": [],
      "include_colab_link": true
    },
    "kernelspec": {
      "display_name": "Python 3",
      "name": "python3"
    }
  },
  "nbformat": 4,
  "nbformat_minor": 0
}