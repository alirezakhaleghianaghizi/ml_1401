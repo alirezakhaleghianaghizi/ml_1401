{
  "cells": [
    {
      "cell_type": "markdown",
      "metadata": {
        "id": "view-in-github",
        "colab_type": "text"
      },
      "source": [
        "<a href=\"https://colab.research.google.com/github/alirezakhaleghianaghizi/ml_1401/blob/main/ch2q3.ipynb\" target=\"_parent\"><img src=\"https://colab.research.google.com/assets/colab-badge.svg\" alt=\"Open In Colab\"/></a>"
      ]
    },
    {
      "cell_type": "markdown",
      "source": [
        "تمرین کامپیوتری یادگیری ماشین \n",
        "\n",
        "علیرضا خالقی آناقیزی\n",
        "\n",
        "99101462\n",
        "\n",
        "تمرین2\n",
        "\n",
        "Problem C3"
      ],
      "metadata": {
        "id": "U7s_BGZamabg"
      }
    },
    {
      "cell_type": "markdown",
      "source": [
        "در زیر ما فایل مورد نظر را در درایو گوگل آپلود کرده ایم و برای این که دیتا ها را لود کنیم ابتدا باید درایو را به سیستم متصل کنیم و سپس از فولدری که \n",
        "\n",
        "path\n",
        "\n",
        "مورد نظر میباشد آن را لود کنیم."
      ],
      "metadata": {
        "id": "pBFC0TGBmwfC"
      }
    },
    {
      "cell_type": "code",
      "source": [
        "import numpy as np\n",
        "import pandas as pd\n",
        "from google.colab import drive\n",
        "drive.mount('/content/drive')"
      ],
      "metadata": {
        "colab": {
          "base_uri": "https://localhost:8080/"
        },
        "id": "tvfsLmq-m6Rp",
        "outputId": "6de574ce-38f2-497f-f257-8c465e253578"
      },
      "execution_count": 73,
      "outputs": [
        {
          "output_type": "stream",
          "name": "stdout",
          "text": [
            "Drive already mounted at /content/drive; to attempt to forcibly remount, call drive.mount(\"/content/drive\", force_remount=True).\n"
          ]
        }
      ]
    },
    {
      "cell_type": "markdown",
      "source": [
        "A. Load Data"
      ],
      "metadata": {
        "id": "jxEvzfzFnOkw"
      }
    },
    {
      "cell_type": "code",
      "source": [
        "filepath='/content/drive/MyDrive/ml/data_banknote_authentication.csv' \n",
        "df = pd.read_csv(filepath)\n",
        "print(df.to_string()) "
      ],
      "metadata": {
        "id": "QBCWaTGxnPZv"
      },
      "execution_count": null,
      "outputs": []
    },
    {
      "cell_type": "code",
      "source": [
        "dataset=np.array(df).T\n"
      ],
      "metadata": {
        "id": "MqxPQTEHpUTw"
      },
      "execution_count": 75,
      "outputs": []
    },
    {
      "cell_type": "code",
      "source": [
        "print(len(dataset))"
      ],
      "metadata": {
        "colab": {
          "base_uri": "https://localhost:8080/"
        },
        "id": "F85MaFtZ5WSA",
        "outputId": "524a3472-8f96-45e9-d27e-29733c7dbbaf"
      },
      "execution_count": 76,
      "outputs": [
        {
          "output_type": "stream",
          "name": "stdout",
          "text": [
            "5\n"
          ]
        }
      ]
    },
    {
      "cell_type": "code",
      "source": [
        "X=dataset[0:len(dataset)-1].T\n",
        "print(X)\n",
        "Y=dataset[len(dataset)-1].T\n",
        "print(Y)"
      ],
      "metadata": {
        "colab": {
          "base_uri": "https://localhost:8080/"
        },
        "id": "LIifEaRs52TF",
        "outputId": "d83a2b4b-bbd7-437c-9fcb-0a69e82fb4c7"
      },
      "execution_count": 77,
      "outputs": [
        {
          "output_type": "stream",
          "name": "stdout",
          "text": [
            "[[-1.7104  -4.778    6.2109   0.3974 ]\n",
            " [ 3.7635   2.7811   0.66119  0.34179]\n",
            " [ 5.3915   9.9946  -3.8081  -3.3642 ]\n",
            " ...\n",
            " [-3.6053  -5.974   10.0916  -0.82846]\n",
            " [ 2.0421   1.2436   4.2171   0.90429]\n",
            " [ 1.9476  -4.7738   8.527   -1.8668 ]]\n",
            "[ 1.  1. -1. ... -1.  1. -1.]\n"
          ]
        }
      ]
    },
    {
      "cell_type": "code",
      "source": [
        "import math\n",
        "X_train=np.array(X[0:math.floor(0.8*len(X))])\n",
        "Y_train=np.array(Y[0:math.floor(0.8*len(X))])\n",
        "\n",
        "X_test=np.array(X[math.floor(0.8*len(X)):len(X)])\n",
        "Y_test=np.array(Y[math.floor(0.8*len(X)):len(X)])"
      ],
      "metadata": {
        "id": "tbrE2BkN6up-"
      },
      "execution_count": 78,
      "outputs": []
    },
    {
      "cell_type": "markdown",
      "source": [
        "B. Perceptron Algorithm\n"
      ],
      "metadata": {
        "id": "Q1-hfYvN8Prn"
      }
    },
    {
      "cell_type": "markdown",
      "source": [
        "دلیل اضافه کردن این یک برای این است که در رابطه خطی رابطه را به صورت همگن در بیاوریم و مقدار ثابت \n",
        "\n",
        "b\n",
        "\n",
        " را به عنوان یکی از ضرایب خطی سازی در نظر بگیریم و بگوییم هر مشخصه یک مقدار 1 دارد که در ضریبش ضرب شده و مقدار ثابت را میسازد."
      ],
      "metadata": {
        "id": "BWCxi7-38SOa"
      }
    },
    {
      "cell_type": "code",
      "source": [
        "x0train=np.array(np.ones(len(X_train)))\n",
        "x0test=np.array(np.ones(len(X_test)))\n",
        "X_train1= np.append([x0train],X_train.T,axis=0)\n",
        "X_test1=np.append([x0test],X_test.T,axis=0)\n",
        "X_train1tra=np.array(X_train1).T\n",
        "X_test1tra=np.array(X_test1).T"
      ],
      "metadata": {
        "colab": {
          "base_uri": "https://localhost:8080/"
        },
        "id": "6zLAekaP8oUT",
        "outputId": "b0454000-a5ef-4231-86fc-6eba40b2be3c"
      },
      "execution_count": 83,
      "outputs": [
        {
          "output_type": "stream",
          "name": "stdout",
          "text": [
            "[[  1.         1.         1.       ...   1.         1.         1.      ]\n",
            " [ -2.6649     3.8027     3.8384   ...  -3.6053     2.0421     1.9476  ]\n",
            " [-12.813      0.81529    6.1851   ...  -5.974      1.2436    -4.7738  ]\n",
            " [ 12.6689     2.1041    -2.0439   ...  10.0916     4.2171     8.527   ]\n",
            " [ -1.9082     1.0245    -0.033204 ...  -0.82846    0.90429   -1.8668  ]]\n"
          ]
        }
      ]
    },
    {
      "cell_type": "markdown",
      "source": [
        "حالا تابعی مینویسیم برای الگوریتم تکراری"
      ],
      "metadata": {
        "id": "R4BoKR85FScI"
      }
    },
    {
      "cell_type": "markdown",
      "source": [
        "در زیر ما سه تابع نوشتیم که اولی هر گام را انجام میدهد و ضرایب جدید را میسازد و دومی خطا را حساب میکند و سومی نیز تابع کلی است که 50000 بار تکرار میکند"
      ],
      "metadata": {
        "id": "2mOgQ8NMR2AE"
      }
    },
    {
      "cell_type": "code",
      "source": [
        "def perceptronN(w,y,x):\n",
        "  h=np.dot(w,x)\n",
        "  xtr=np.array(x).T\n",
        "  wt1=w\n",
        "  for i in range(len(h)):\n",
        "    if h[i]*y[i]<=0:\n",
        "      wt1=np.add(wt1,y[i]*xtr[i])\n",
        "  return (wt1)\n",
        "\n",
        "def calLsn(w,y,x):\n",
        "  M=(len(x[0]))\n",
        "  h=np.dot(w,x)\n",
        "  sum=0\n",
        "  for i in range(M):\n",
        "     if h[i]*y[i]<=0:\n",
        "      sum=sum+1\n",
        "  L=sum/M \n",
        "  #print(\"L\"+str(len(x)))\n",
        "  #print(L) \n",
        "  #print(\"max\"+str(len(x)))\n",
        "  #print(max)\n",
        "  return (L)\n",
        "\n",
        "def perceptron(X_tr, Y_tr, X_te, Y_te, max_iter=50000):\n",
        "  xtra=np.array(X_tr).T\n",
        "  w=abs(xtra[0]*0);\n",
        "  loss_history=[]\n",
        "  for i in range(max_iter):\n",
        "    w=perceptronN(w,Y_tr,X_tr)\n",
        "    if i%500==0:\n",
        "      Loss=calLsn(w,Y_te, X_te)\n",
        "      loss_history.append(Loss)\n",
        "  return w,loss_history\n",
        "\n",
        "w,loss_history=perceptron(X_train1,Y_train,X_test1,Y_test)\n",
        "print(w)\n",
        "print(loss_history)"
      ],
      "metadata": {
        "colab": {
          "base_uri": "https://localhost:8080/"
        },
        "id": "i1U0Obzm_rDi",
        "outputId": "4b843208-af74-4174-b853-d4048c99af16"
      },
      "execution_count": 93,
      "outputs": [
        {
          "output_type": "stream",
          "name": "stdout",
          "text": [
            "[1763.          800.1181336  -435.25372948  153.08152479 5112.63114089]\n",
            "[0.18545454545454546, 0.014545454545454545, 0.02909090909090909, 0.01090909090909091, 0.01090909090909091, 0.02909090909090909, 0.02909090909090909, 0.01818181818181818, 0.014545454545454545, 0.01090909090909091, 0.014545454545454545, 0.01090909090909091, 0.02909090909090909, 0.02909090909090909, 0.014545454545454545, 0.02909090909090909, 0.02909090909090909, 0.014545454545454545, 0.014545454545454545, 0.014545454545454545, 0.02909090909090909, 0.01818181818181818, 0.02909090909090909, 0.014545454545454545, 0.02909090909090909, 0.014545454545454545, 0.01090909090909091, 0.01090909090909091, 0.02909090909090909, 0.02909090909090909, 0.02909090909090909, 0.02909090909090909, 0.02909090909090909, 0.014545454545454545, 0.02909090909090909, 0.01818181818181818, 0.014545454545454545, 0.02909090909090909, 0.01818181818181818, 0.01818181818181818, 0.014545454545454545, 0.02909090909090909, 0.01818181818181818, 0.02909090909090909, 0.01818181818181818, 0.02909090909090909, 0.01090909090909091, 0.014545454545454545, 0.02909090909090909, 0.014545454545454545, 0.01818181818181818, 0.02909090909090909, 0.014545454545454545, 0.014545454545454545, 0.01818181818181818, 0.014545454545454545, 0.01818181818181818, 0.02909090909090909, 0.014545454545454545, 0.014545454545454545, 0.014545454545454545, 0.014545454545454545, 0.014545454545454545, 0.02909090909090909, 0.01090909090909091, 0.01818181818181818, 0.01818181818181818, 0.02909090909090909, 0.014545454545454545, 0.01818181818181818, 0.02909090909090909, 0.014545454545454545, 0.02909090909090909, 0.02909090909090909, 0.01818181818181818, 0.02909090909090909, 0.02181818181818182, 0.02909090909090909, 0.01818181818181818, 0.014545454545454545, 0.02909090909090909, 0.02909090909090909, 0.01818181818181818, 0.014545454545454545, 0.01818181818181818, 0.02909090909090909, 0.014545454545454545, 0.014545454545454545, 0.01818181818181818, 0.01818181818181818, 0.02909090909090909, 0.01818181818181818, 0.01090909090909091, 0.02909090909090909, 0.014545454545454545, 0.014545454545454545, 0.02909090909090909, 0.014545454545454545, 0.014545454545454545, 0.01818181818181818]\n"
          ]
        }
      ]
    },
    {
      "cell_type": "code",
      "source": [
        "finalloss=loss_history[len(loss_history)-1]\n",
        "import matplotlib.pyplot as plt\n",
        "xaxis=[]\n",
        "for i in range(len(loss_history)):\n",
        "  xaxis.append((i+1))\n",
        "xpoints = np.array(xaxis)\n",
        "ypoints = np.array(loss_history)\n",
        "plt.xlabel(\"each 500 iter\")\n",
        "plt.ylabel(\"Loss history\")\n",
        "plt.plot(xpoints, ypoints)\n",
        "plt.show()"
      ],
      "metadata": {
        "colab": {
          "base_uri": "https://localhost:8080/",
          "height": 279
        },
        "id": "S7E52iLfSQgb",
        "outputId": "deae751d-fc3d-4d80-fc2a-39eecb00b3a0"
      },
      "execution_count": 92,
      "outputs": [
        {
          "output_type": "display_data",
          "data": {
            "text/plain": [
              "<Figure size 432x288 with 1 Axes>"
            ],
            "image/png": "[encoded data removed]"
          },
          "metadata": {
            "needs_background": "light"
          }
        }
      ]
    },
    {
      "cell_type": "markdown",
      "source": [
        "C. Generalize to non-linear classification"
      ],
      "metadata": {
        "id": "688QAzkhX0c3"
      }
    },
    {
      "cell_type": "markdown",
      "source": [
        "حالا کافی است یک ستون که توان سه ستون چهارم است را اضافه کنیم"
      ],
      "metadata": {
        "id": "x41Qzr_bX1eZ"
      }
    },
    {
      "cell_type": "code",
      "source": [],
      "metadata": {
        "colab": {
          "base_uri": "https://localhost:8080/",
          "height": 381
        },
        "id": "gAm-NoYmYFBF",
        "outputId": "356b8b9e-ac2e-4ac8-b839-7af884b307ed"
      },
      "execution_count": 96,
      "outputs": [
        {
          "output_type": "error",
          "ename": "LinAlgError",
          "evalue": "ignored",
          "traceback": [
            "\u001b[0;31m---------------------------------------------------------------------------\u001b[0m",
            "\u001b[0;31mLinAlgError\u001b[0m                               Traceback (most recent call last)",
            "\u001b[0;32m<ipython-input-96-8491cdbfbc58>\u001b[0m in \u001b[0;36m<module>\u001b[0;34m\u001b[0m\n\u001b[1;32m      1\u001b[0m \u001b[0;32mfrom\u001b[0m \u001b[0mnumpy\u001b[0m\u001b[0;34m.\u001b[0m\u001b[0mlinalg\u001b[0m \u001b[0;32mimport\u001b[0m \u001b[0mmatrix_power\u001b[0m\u001b[0;34m\u001b[0m\u001b[0;34m\u001b[0m\u001b[0m\n\u001b[1;32m      2\u001b[0m \u001b[0mi\u001b[0m \u001b[0;34m=\u001b[0m \u001b[0mnp\u001b[0m\u001b[0;34m.\u001b[0m\u001b[0marray\u001b[0m\u001b[0;34m(\u001b[0m\u001b[0;34m[\u001b[0m\u001b[0;36m2\u001b[0m \u001b[0;34m,\u001b[0m\u001b[0;36m3\u001b[0m\u001b[0;34m]\u001b[0m\u001b[0;34m)\u001b[0m \u001b[0;31m# matrix equiv. of the imaginary unit\u001b[0m\u001b[0;34m\u001b[0m\u001b[0;34m\u001b[0m\u001b[0m\n\u001b[0;32m----> 3\u001b[0;31m \u001b[0mmatrix_power\u001b[0m\u001b[0;34m(\u001b[0m\u001b[0mi\u001b[0m\u001b[0;34m,\u001b[0m \u001b[0;36m2\u001b[0m\u001b[0;34m)\u001b[0m\u001b[0;34m\u001b[0m\u001b[0;34m\u001b[0m\u001b[0m\n\u001b[0m",
            "\u001b[0;32m<__array_function__ internals>\u001b[0m in \u001b[0;36mmatrix_power\u001b[0;34m(*args, **kwargs)\u001b[0m\n",
            "\u001b[0;32m/usr/local/lib/python3.7/dist-packages/numpy/linalg/linalg.py\u001b[0m in \u001b[0;36mmatrix_power\u001b[0;34m(a, n)\u001b[0m\n\u001b[1;32m    617\u001b[0m     \"\"\"\n\u001b[1;32m    618\u001b[0m     \u001b[0ma\u001b[0m \u001b[0;34m=\u001b[0m \u001b[0masanyarray\u001b[0m\u001b[0;34m(\u001b[0m\u001b[0ma\u001b[0m\u001b[0;34m)\u001b[0m\u001b[0;34m\u001b[0m\u001b[0;34m\u001b[0m\u001b[0m\n\u001b[0;32m--> 619\u001b[0;31m     \u001b[0m_assert_stacked_2d\u001b[0m\u001b[0;34m(\u001b[0m\u001b[0ma\u001b[0m\u001b[0;34m)\u001b[0m\u001b[0;34m\u001b[0m\u001b[0;34m\u001b[0m\u001b[0m\n\u001b[0m\u001b[1;32m    620\u001b[0m     \u001b[0m_assert_stacked_square\u001b[0m\u001b[0;34m(\u001b[0m\u001b[0ma\u001b[0m\u001b[0;34m)\u001b[0m\u001b[0;34m\u001b[0m\u001b[0;34m\u001b[0m\u001b[0m\n\u001b[1;32m    621\u001b[0m \u001b[0;34m\u001b[0m\u001b[0m\n",
            "\u001b[0;32m/usr/local/lib/python3.7/dist-packages/numpy/linalg/linalg.py\u001b[0m in \u001b[0;36m_assert_stacked_2d\u001b[0;34m(*arrays)\u001b[0m\n\u001b[1;32m    195\u001b[0m         \u001b[0;32mif\u001b[0m \u001b[0ma\u001b[0m\u001b[0;34m.\u001b[0m\u001b[0mndim\u001b[0m \u001b[0;34m<\u001b[0m \u001b[0;36m2\u001b[0m\u001b[0;34m:\u001b[0m\u001b[0;34m\u001b[0m\u001b[0;34m\u001b[0m\u001b[0m\n\u001b[1;32m    196\u001b[0m             raise LinAlgError('%d-dimensional array given. Array must be '\n\u001b[0;32m--> 197\u001b[0;31m                     'at least two-dimensional' % a.ndim)\n\u001b[0m\u001b[1;32m    198\u001b[0m \u001b[0;34m\u001b[0m\u001b[0m\n\u001b[1;32m    199\u001b[0m \u001b[0;32mdef\u001b[0m \u001b[0m_assert_stacked_square\u001b[0m\u001b[0;34m(\u001b[0m\u001b[0;34m*\u001b[0m\u001b[0marrays\u001b[0m\u001b[0;34m)\u001b[0m\u001b[0;34m:\u001b[0m\u001b[0;34m\u001b[0m\u001b[0;34m\u001b[0m\u001b[0m\n",
            "\u001b[0;31mLinAlgError\u001b[0m: 1-dimensional array given. Array must be at least two-dimensional"
          ]
        }
      ]
    }
  ],
  "metadata": {
    "colab": {
      "name": "Welcome To Colaboratory",
      "toc_visible": true,
      "provenance": [],
      "include_colab_link": true
    },
    "kernelspec": {
      "display_name": "Python 3",
      "name": "python3"
    }
  },
  "nbformat": 4,
  "nbformat_minor": 0
}