{
  "cells": [
    {
      "cell_type": "markdown",
      "metadata": {
        "id": "view-in-github",
        "colab_type": "text"
      },
      "source": [
        "<a href=\"https://colab.research.google.com/github/alirezakhaleghianaghizi/ml_1401/blob/main/q1ml1401.ipynb\" target=\"_parent\"><img src=\"https://colab.research.google.com/assets/colab-badge.svg\" alt=\"Open In Colab\"/></a>"
      ]
    },
    {
      "cell_type": "markdown",
      "source": [
        "علیرضا خالقی آناقیزی \n",
        "99101462\n",
        "\n",
        "سوال 2\n",
        "\n",
        "در قسمت زیر فایل های مورد نظر را در گوگل درایو ذخیره کردیم و سپسفایل های مورد نظر را لود کرده و دیتا های \n",
        "موجود را به ترتیب در ماتریس های \n",
        "\n",
        "SVT \n",
        "\n",
        "ذخیره کردیم."
      ],
      "metadata": {
        "id": "dRoBqOu19WBF"
      }
    },
    {
      "cell_type": "code",
      "source": [
        "import csv \n",
        "import numpy as np\n",
        "from google.colab import drive\n",
        "drive.mount('/content/drive')\n",
        "filename1='/content/drive/MyDrive/ml/test_data.npy' \n",
        "filename2='/content/drive/MyDrive/ml/train_data.npy' \n",
        "filename3='/content/drive/MyDrive/ml/validation_data.npy' \n"
      ],
      "metadata": {
        "id": "nA3eU5Sw5LmS",
        "outputId": "b6b39a17-d29c-4775-e14f-f87b581a8046",
        "colab": {
          "base_uri": "https://localhost:8080/"
        }
      },
      "execution_count": 2,
      "outputs": [
        {
          "output_type": "stream",
          "name": "stdout",
          "text": [
            "Mounted at /content/drive\n"
          ]
        }
      ]
    },
    {
      "cell_type": "code",
      "source": [
        "T = np.load(filename1, mmap_mode='r')\n",
        "S = np.load(filename2, mmap_mode='r')\n",
        "V = np.load(filename3, mmap_mode='r')\n",
        "#print(T)\n",
        "print(str(len(T))+'\\n')\n",
        "#print(S)\n",
        "print(str(len(S))+'\\n')\n",
        "#print(V)\n",
        "print(str(len(V))+'\\n')"
      ],
      "metadata": {
        "id": "xsfzEDUs9Duk",
        "outputId": "04ad4ac7-4d6f-4830-ff28-9e6da4e7d851",
        "colab": {
          "base_uri": "https://localhost:8080/"
        }
      },
      "execution_count": 3,
      "outputs": [
        {
          "output_type": "stream",
          "name": "stdout",
          "text": [
            "40\n",
            "\n",
            "30\n",
            "\n",
            "40\n",
            "\n"
          ]
        }
      ]
    },
    {
      "cell_type": "markdown",
      "source": [
        "حال با توجه به این که در حالت کلی میخواهیم یک ترکیب غیر خطی برای هر یک از متغییر ها بر اساس ورودی هایش بچینیم باید در رابطه ماتریسی موجود برای رگرسیون خطی ما یک \n",
        "\n",
        "ψn(X)=[ψ1n(x),ψ2n(x), ...]  =>  \n",
        "ψ1n(x)=[x1,..,x1ⁿ]ᵀ  "
      ],
      "metadata": {
        "id": "xYn1JE01BmXX"
      }
    },
    {
      "cell_type": "code",
      "source": [
        "def spiFunctionN(n,dataset) :\n",
        "  tra= np.array(dataset).T\n",
        "  xi=tra[0]\n",
        "  xi=np.array(xi,dtype=float)\n",
        "  spi=[]\n",
        "  for i in xi:\n",
        "    xin=[]\n",
        "    for j in range(n):\n",
        "      xin.append(pow(i,j))\n",
        "    xin=np.array(xin).T\n",
        "    xin=np.array(xin,dtype=float)  \n",
        "    spi.append(xin)\n",
        "  spi=np.array(spi).T\n",
        "  spi=np.array(spi,dtype=float) \n",
        "  return spi\n"
      ],
      "metadata": {
        "id": "UhbDVVzJBl6G"
      },
      "execution_count": null,
      "outputs": []
    },
    {
      "cell_type": "markdown",
      "source": [
        "در بالا تابعی نوشتیم که با گرفتن عدد n  ماتریس سای مورد نظر را در خروجی میدهی.\n",
        "\n",
        "داده های مساله را داخل یک لیست قرار میدهیم تا با استفاده از رابطه ماتریسی ضرایب مورد نظر را به دست آوریم\n",
        "\n",
        "A=ψ*ψT\n",
        "B=ψ*y\n",
        "w*=invers(A)*B"
      ],
      "metadata": {
        "id": "zIxHCz74GX72"
      }
    },
    {
      "cell_type": "code",
      "source": [
        "tra= np.array(dataset).T\n",
        "yS=tra[1]\n"
      ],
      "metadata": {
        "id": "xs9bDXliGz5g"
      },
      "execution_count": null,
      "outputs": []
    }
  ],
  "metadata": {
    "colab": {
      "toc_visible": true,
      "provenance": [],
      "include_colab_link": true
    },
    "kernelspec": {
      "display_name": "Python 3",
      "name": "python3"
    }
  },
  "nbformat": 4,
  "nbformat_minor": 0
}