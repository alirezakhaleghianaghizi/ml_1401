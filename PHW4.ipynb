{
  "cells": [
    {
      "cell_type": "markdown",
      "metadata": {
        "id": "view-in-github",
        "colab_type": "text"
      },
      "source": [
        "<a href=\"https://colab.research.google.com/github/alirezakhaleghianaghizi/ml_1401/blob/main/PHW4.ipynb\" target=\"_parent\"><img src=\"https://colab.research.google.com/assets/colab-badge.svg\" alt=\"Open In Colab\"/></a>"
      ]
    },
    {
      "cell_type": "markdown",
      "metadata": {
        "id": "HKx5JpYrv5PE"
      },
      "source": [
        "<img src='http://www-scf.usc.edu/~ghasemig/images/sharif.png' alt=\"SUT logo\" width=300 height=300 align=left class=\"saturate\">\n",
        "\n",
        "<br>\n",
        "<font>\n",
        "<div dir=ltr align=center>\n",
        "<font color=0F5298 size=7>\n",
        "    Artificial Intelligence <br>\n",
        "<font color=2565AE size=5>\n",
        "    Computer Engineering Department <br>\n",
        "    Spring 2023<br>\n",
        "<font color=3C99D size=5>\n",
        "    Practical Assignment 4 - Bayesian Networks <br>\n",
        "<font color=696880 size=4>\n",
        "    Mahdi Jafari - Sina Elahimanesh\n",
        "\n",
        "____"
      ]
    },
    {
      "cell_type": "markdown",
      "metadata": {
        "id": "wP-OLKnlKPE1"
      },
      "source": [
        "\n",
        "**لطفا پس از اتمام تمرین، ژوپیتر را ری‌استارت نمایید و تمامی سلول‌ها را مجددا اجرا کنید که به ترتیب سلول‌ها اجرا شده باشند و خروجی قابل نمایش باشد.**"
      ]
    },
    {
      "cell_type": "markdown",
      "metadata": {
        "id": "lCbbVLw4K4Nt"
      },
      "source": [
        "# سیاست نمره‌دهی تمرین\n",
        "\n",
        "<div dir=\"rtl\">\n",
        "در این تمرین تست‌ها و میزان پاس شدن تست‌ها نمره‌ی شما را تعیین می‌کنند. به این ترتیب تعداد تست‌های پاس شده ملاک نمره‌دهی خواهد بود.\n",
        "</div>\n"
      ]
    },
    {
      "cell_type": "markdown",
      "metadata": {
        "id": "rz2h7At8JeCj"
      },
      "source": [
        "# توجه\n",
        "<div dir=\"rtl\">\n",
        "لطفا به ۵ سلول زیر دست نزنید و این سلول‌ها را صرفا در ابتدای اجرای کد خود، اجرا نمایید.\n",
        "به این ترتیب این سلول‌ها نیازمندی‌های لازم را نصب می‌نمایند و همچنین مواردی که در کدهایتان لازم هستند را ایمپورت میکنند. به علاوه توابع و پیش‌نیازهای لازم برای این سوال را ایجاد می‌نمایند.\n",
        "</div>\n",
        "<div dir=\"rtl\">\n",
        "بدون دست زدن به قسمت‌های زیر آنها را اجرا کنید.\n",
        "</div>"
      ]
    },
    {
      "cell_type": "code",
      "execution_count": 94,
      "metadata": {
        "id": "lNhsLulGsKJA"
      },
      "outputs": [],
      "source": [
        "import cv2\n",
        "from google.colab.patches import cv2_imshow\n",
        "from google.colab import output\n",
        "import time\n",
        "import pygame\n",
        "import os, sys"
      ]
    },
    {
      "cell_type": "code",
      "execution_count": 95,
      "metadata": {
        "id": "F1FvMBuqsM_l"
      },
      "outputs": [],
      "source": [
        "os.environ[\"SDL_VIDEODRIVER\"] = \"dummy\"\n",
        "pygame.display.init()\n",
        "pygame.display.set_mode((1, 1), pygame.NOFRAME)\n",
        "pygame.font.init()"
      ]
    },
    {
      "cell_type": "code",
      "execution_count": 96,
      "metadata": {
        "colab": {
          "base_uri": "https://localhost:8080/"
        },
        "id": "3Q1FFiM7_LXk",
        "outputId": "ecf1ee5a-e6c9-4fcb-84fa-e923f591fc77"
      },
      "outputs": [
        {
          "output_type": "stream",
          "name": "stdout",
          "text": [
            "Looking in indexes: https://pypi.org/simple, https://us-python.pkg.dev/colab-wheels/public/simple/\n",
            "Requirement already satisfied: gdown in /usr/local/lib/python3.10/dist-packages (4.6.6)\n",
            "Requirement already satisfied: filelock in /usr/local/lib/python3.10/dist-packages (from gdown) (3.12.0)\n",
            "Requirement already satisfied: requests[socks] in /usr/local/lib/python3.10/dist-packages (from gdown) (2.27.1)\n",
            "Requirement already satisfied: six in /usr/local/lib/python3.10/dist-packages (from gdown) (1.16.0)\n",
            "Requirement already satisfied: tqdm in /usr/local/lib/python3.10/dist-packages (from gdown) (4.65.0)\n",
            "Requirement already satisfied: beautifulsoup4 in /usr/local/lib/python3.10/dist-packages (from gdown) (4.11.2)\n",
            "Requirement already satisfied: soupsieve>1.2 in /usr/local/lib/python3.10/dist-packages (from beautifulsoup4->gdown) (2.4.1)\n",
            "Requirement already satisfied: urllib3<1.27,>=1.21.1 in /usr/local/lib/python3.10/dist-packages (from requests[socks]->gdown) (1.26.15)\n",
            "Requirement already satisfied: certifi>=2017.4.17 in /usr/local/lib/python3.10/dist-packages (from requests[socks]->gdown) (2022.12.7)\n",
            "Requirement already satisfied: charset-normalizer~=2.0.0 in /usr/local/lib/python3.10/dist-packages (from requests[socks]->gdown) (2.0.12)\n",
            "Requirement already satisfied: idna<4,>=2.5 in /usr/local/lib/python3.10/dist-packages (from requests[socks]->gdown) (3.4)\n",
            "Requirement already satisfied: PySocks!=1.5.7,>=1.5.6 in /usr/local/lib/python3.10/dist-packages (from requests[socks]->gdown) (1.7.1)\n",
            "Downloading...\n",
            "From: https://drive.google.com/uc?id=1qX5euDVHAg4PDo9TnyUuBp9o2IK9Hjod\n",
            "To: /content/src.zip\n",
            "100% 850k/850k [00:00<00:00, 148MB/s]\n",
            "Archive:  src.zip\n",
            "  inflating: display_resources/ice-cream-truck.png  \n",
            "  inflating: display_resources/finn.png  \n",
            "  inflating: display_resources/jake.png  \n",
            "  inflating: display_resources/ice-king.png  \n",
            "  inflating: display_resources/princess-bubblegum.png  \n",
            "  inflating: tests/q6.py             \n",
            "  inflating: tests/q3.py             \n",
            "  inflating: tests/q4.py             \n",
            "  inflating: tests/q1.py             \n",
            "  inflating: tests/utils.py          \n",
            "  inflating: tests/__init__.py       \n",
            "  inflating: tests/q2.py             \n",
            "  inflating: tests/q5.py             \n",
            "  inflating: tests/game_utils.py     \n",
            "  inflating: tests/q7.py             \n",
            "  inflating: tests/q8.py             \n",
            "  inflating: tests/q9.py             \n",
            "  inflating: tests/__pycache__/q6.cpython-38.pyc  \n",
            "  inflating: tests/__pycache__/q1.cpython-38.pyc  \n",
            "  inflating: tests/__pycache__/q7.cpython-38.pyc  \n",
            "  inflating: tests/__pycache__/q8.cpython-38.pyc  \n",
            "  inflating: tests/__pycache__/utils.cpython-38.pyc  \n",
            "  inflating: tests/__pycache__/game_utils.cpython-38.pyc  \n",
            "  inflating: tests/__pycache__/q9.cpython-38.pyc  \n",
            "  inflating: tests/__pycache__/__init__.cpython-38.pyc  \n",
            "  inflating: tests/__pycache__/q3.cpython-38.pyc  \n",
            "  inflating: tests/__pycache__/q2.cpython-38.pyc  \n",
            "  inflating: tests/__pycache__/q4.cpython-38.pyc  \n",
            "  inflating: tests/__pycache__/q5.cpython-38.pyc  \n",
            "  inflating: tests/resources/q2-1-product-rule.solution  \n",
            "  inflating: tests/resources/q2-1-product-rule.test  \n",
            "  inflating: tests/resources/q45-1-disconnected-eliminate.solution  \n",
            "  inflating: tests/resources/q2-2-product-rule-extended.test  \n",
            "  inflating: tests/resources/q2-2-product-rule-extended.solution  \n",
            "  inflating: tests/resources/q2-3-disjoint-right.test  \n",
            "  inflating: tests/resources/q2-3-disjoint-right.solution  \n",
            "  inflating: tests/resources/q2-4-common-right.solution  \n",
            "  inflating: tests/resources/q2-4-common-right.test  \n",
            "  inflating: tests/resources/q2-5-grade-join.solution  \n",
            "  inflating: tests/resources/q2-5-grade-join.test  \n",
            "  inflating: tests/resources/q2-6-product-rule-nonsingleton-var.solution  \n",
            "  inflating: tests/resources/q2-6-product-rule-nonsingleton-var.test  \n",
            "  inflating: tests/resources/q3-1-simple-eliminate.solution  \n",
            "  inflating: tests/resources/q3-1-simple-eliminate.test  \n",
            "  inflating: tests/resources/q3-2-simple-eliminate-extended.solution  \n",
            "  inflating: tests/resources/q3-2-simple-eliminate-extended.test  \n",
            "  inflating: tests/resources/q3-3-eliminate-conditioned.solution  \n",
            "  inflating: tests/resources/q3-3-eliminate-conditioned.test  \n",
            "  inflating: tests/resources/q3-4-grade-eliminate.solution  \n",
            "  inflating: tests/resources/q3-4-grade-eliminate.test  \n",
            "  inflating: tests/resources/q3-5-simple-eliminate-nonsingleton-var.solution  \n",
            "  inflating: tests/resources/q3-5-simple-eliminate-nonsingleton-var.test  \n",
            "  inflating: tests/resources/q3-6-simple-eliminate-int.solution  \n",
            "  inflating: tests/resources/q3-6-simple-eliminate-int.test  \n",
            "  inflating: tests/resources/q45-1-disconnected-eliminate.test  \n",
            "  inflating: tests/resources/q45-2-independent-eliminate.solution  \n",
            "  inflating: tests/resources/q45-2-independent-eliminate.test  \n",
            "  inflating: tests/resources/q45-3-independent-eliminate-extended.solution  \n",
            "  inflating: tests/resources/q45-3-independent-eliminate-extended.test  \n",
            "  inflating: tests/resources/q45-4-common-effect-eliminate.solution  \n",
            "  inflating: tests/resources/q45-4-common-effect-eliminate.test  \n",
            "  inflating: tests/resources/q45-5-grade-var-elim.solution  \n",
            "  inflating: tests/resources/q45-5-grade-var-elim.test  \n",
            "  inflating: tests/resources/q45-6-large-bayesNet-elim.solution  \n",
            "  inflating: tests/resources/q45-6-large-bayesNet-elim.test  \n",
            "  inflating: tests/resources/q7-1.solution  \n",
            "  inflating: tests/resources/q7-1.test  \n",
            "  inflating: tests/resources/q7-2.solution  \n",
            "  inflating: tests/resources/q7-2.test  \n",
            "  inflating: tests/resources/q7-3.solution  \n",
            "  inflating: tests/resources/q7-3.test  \n",
            "  inflating: tests/resources/q7-4.solution  \n",
            "  inflating: tests/resources/q7-4.test  \n",
            "  inflating: tests/resources/q7-5.solution  \n",
            "  inflating: tests/resources/q7-5.test  \n",
            "  inflating: tests/resources/q7-6.solution  \n",
            "  inflating: tests/resources/q7-6.test  \n",
            "  inflating: tests/resources/q7-7.solution  \n",
            "  inflating: tests/resources/q7-7.test  \n",
            "  inflating: tests/resources/q7-8.solution  \n",
            "  inflating: tests/resources/q7-8.test  \n",
            "  inflating: tests/resources/q8-1.test  \n",
            "  inflating: tests/resources/q8-1.solution  \n",
            "  inflating: tests/resources/q9-1.solution  \n",
            "  inflating: tests/resources/q9-1.test  \n",
            "  inflating: tests/resources/q9-6.solution  \n",
            "  inflating: tests/resources/q9-5.test  \n",
            "  inflating: tests/resources/q9-5.solution  \n",
            "  inflating: tests/resources/q9-4.test  \n",
            "  inflating: tests/resources/q9-4.solution  \n",
            "  inflating: tests/resources/q9-3.test  \n",
            "  inflating: tests/resources/q9-3.solution  \n",
            "  inflating: tests/resources/q9-2.test  \n",
            "  inflating: tests/resources/q9-2.solution  \n",
            "  inflating: tests/resources/q9-6.test  \n",
            "  inflating: tests/resources/q9-7.test  \n",
            "  inflating: tests/resources/q9-7.solution  \n",
            "  inflating: automobile.py           \n",
            "  inflating: bayes_net.py            \n",
            "  inflating: display.py              \n",
            "  inflating: distance_calculator.py  \n",
            "  inflating: game.py                 \n",
            "  inflating: inference.py            \n",
            "  inflating: layout.py               \n",
            "  inflating: util.py                 \n"
          ]
        }
      ],
      "source": [
        "!pip install gdown\n",
        "!gdown 1qX5euDVHAg4PDo9TnyUuBp9o2IK9Hjod\n",
        "!unzip -o src.zip"
      ]
    },
    {
      "cell_type": "code",
      "execution_count": 97,
      "metadata": {
        "id": "ygF45O44Aq3R"
      },
      "outputs": [],
      "source": [
        "import automobile\n",
        "import bayes_net as bn\n",
        "import functools\n",
        "from copy import deepcopy\n",
        "\n",
        "from game import GameState, AgentState\n",
        "from typing import List, Dict, Optional\n",
        "\n",
        "from inference import DiscreteDistribution\n",
        "from util import manhattan_distance\n",
        "from automobile import Agent\n",
        "from distance_calculator import Distancer\n",
        "from game import Actions"
      ]
    },
    {
      "cell_type": "code",
      "execution_count": 98,
      "metadata": {
        "id": "6vclG-vbV8U9"
      },
      "outputs": [],
      "source": [
        "def draw(state: GameState, agents):\n",
        "    from display import draw as d\n",
        "    view = d(state, agents)\n",
        "    img_bgr = cv2.cvtColor(view, cv2.COLOR_RGB2BGR)\n",
        "    output.clear(wait=True)\n",
        "    cv2_imshow(img_bgr)\n",
        "    import time\n",
        "    time.sleep(0.1)\n",
        "\n",
        "import tests.game_utils\n",
        "tests.game_utils.draw_function = draw"
      ]
    },
    {
      "cell_type": "markdown",
      "metadata": {
        "id": "w2ys8C302WgC"
      },
      "source": [
        "# **ماشین بستنی فروشی خودران**\n"
      ]
    },
    {
      "cell_type": "markdown",
      "metadata": {
        "id": "oPtcx8qN2b-E"
      },
      "source": [
        "<div dir=\"rtl\">\n",
        "در شهر اووو، هیچ یخچالی وجود ندارد. از آنجایی که به فصل گرم وارد شده‌ایم، شما یک ماشین بستنی فروشی خریده‌اید و به این شهر اپلای کرده‌اید. اما تعطیلات به پایان رسیده‌اند و شما باید به دانشگاه برگردید. در نتیجه تصمیم می‌گیرید ماشین بستنی‌ فروشی خود را، خودران کنید.\n",
        "<br>\n",
        "شهر اووو به شکل یک جدول $n$ در $m$\n",
        "و شما در لحظه اول در مختصات $(x, y)$ قرار دارید.\n",
        "مردم شهر اووو حوصله راه رفتن ندارند و تنها در صورتی از شما بستنی می‌خرند که با شما در یک خانه از جدول شهر اووو باشند. قابل ذکر است که آنها تنها اشتهای یک بستنی در روز دارند.\n",
        "<br>\n",
        "هر کدام از مردم شهر در هر ثانیه فریاد می‌زنند و در نتیجه شما متوجه می‌شوید که <a href=\"https://fa.wikipedia.org/wiki/%D9%81%D8%A7%D8%B5%D9%84%D9%87_%D9%85%D9%86%D9%87%D8%AA%D9%86\"> فاصله منهتنی</a>\n",
        "هرکدام از آنها با شما چقدر است. البته این معیار بخاطر آلودگی صوتی شهر اووو، ممکن است خطا داشته باشد.\n",
        "<br>\n",
        "فضای مسئله یک روز از شهر اووو است و به علت جادویی بودن شهر اووو، تا زمانی که همه بستنی نخورند، روز به پایان نمی‌رسد.\n",
        "<br>\n",
        "در این تمرین، مسئله را با استفاده از شبکه‌های بیزین مدل خواهیم کرد و تلاش می‌کنیم ماشین خودرانی طراحی کنیم که به مردم شهر بستنی بفروشد. البته هدف اصلی در این تمرین این است که با استفاده از شبکه‌های بیزین، حدس خوبی برای موقعیت هر کدام از مردم شهر داشته باشیم تا بتوانیم به سمت آنها حرکت کنیم.\n",
        "</div>"
      ]
    },
    {
      "cell_type": "markdown",
      "metadata": {
        "id": "AvF8YQjnCcB6"
      },
      "source": [
        "![Finn and Jake](https://bigcartoon.org/images/thumb/7/78/Vlcsnap-2014-01-31-01h31m13s122.png/640px-Vlcsnap-2014-01-31-01h31m13s122.png?download)"
      ]
    },
    {
      "cell_type": "markdown",
      "metadata": {
        "id": "Xk0u6lul3Qzw"
      },
      "source": [
        "<div dir=\"rtl\">\n",
        "<h3>تعاریف</h3>\n",
        "<br>\n",
        "- بیز نت: یک نمایش از مدل احتمالاتی، به شکل یک گراف جهت‌دار بدون دور که رئوس آن متغیرهای تصادفی مسئله هستند. همچنین در کنار این گراف، به ازای هر متغیر یک جدول از احتمالات شرطی نیز وجود دارد.\n",
        "<br>\n",
        "- فکتور: یک جدول از احتمالات که لزوما جمع آنها یک نیست. در حالت کلی یک فکتور به شکل\n",
        "$f(X_1, \\ldots, X_m, y_1, \\ldots, y_n | Z_1,\\ldots,Z_r,w_1,\\ldots,w_q)$\n",
        "است. به خاطر داشته باشید که متغیرهای با اسم کوچک مقدار دارند. یک فکتور به ازای هر مقداردهی به \n",
        "$X_i$ و $Z_k$\n",
        "یک مقدار دارد. به متغیرهای\n",
        "$X_i$ و $y_j$\n",
        "متغیرهای شرط نشده (unconditioned)\n",
        "و به بقیه متغیرهای شرط‌شده (conditioned)\n",
        "می‌گوییم.\n",
        "</div>"
      ]
    },
    {
      "cell_type": "markdown",
      "metadata": {
        "id": "azaEPK178BNz"
      },
      "source": [
        "# **بخش اول: ساختار بیز نت**"
      ]
    },
    {
      "cell_type": "markdown",
      "metadata": {
        "id": "xO40CACn8KnI"
      },
      "source": [
        "<div dir=\"rtl\">\n",
        "در گام اول تصور می‌کنیم شهر اووو تنها دو شهروند دارد (فین و جیک). مد‌ل‌شده این شرایط از مسئله با بیز نت، به شکل زیر خواهد بود:\n",
        "</div>"
      ]
    },
    {
      "cell_type": "markdown",
      "metadata": {
        "id": "XacEZZ3505om"
      },
      "source": [
        "![First bayes net](https://i.yourimageshare.com/pucVGqdyda.webp)"
      ]
    },
    {
      "cell_type": "markdown",
      "metadata": {
        "id": "e7zNHfLRAhal"
      },
      "source": [
        "<div dir=\"rtl\">\n",
        "در این شبکه بیزین، منظور از CAR و FINN و JAKE به ترتیب موقعیت ماشین بستنی‌فروشی، موقعیت فین و موقعیت جیک است. موقعیت یک جسم به شکل یک جفت (tuple در پایتون) $(x, y)$ نشان داده می‌شود که همواره داخل فضای شهر اووو قرار دارد. در شهر اووو\n",
        "$0 \\le x < width$ و\n",
        "$0 \\le y < height$.\n",
        "<br>\n",
        "همچنین OBS0 و OBS1 نشان‌دهنده فاصله نویزی به ترتیب فین و جیک هستند. این متغیرها همواره نامنفی هستند و حداکثر ۷ تا با مقدار واقعی فاصله، تفاوت دارند.\n",
        "<br>\n",
        "همچنین در این صورت از مسئله، همانطور که در شکل پیداست، موقعیت فین و جیک روی هم تاثیرگذار هستند (چون از طریق بیمو (BMO) با یکدیگر در ارتباطند).\n",
        "</div>"
      ]
    },
    {
      "cell_type": "markdown",
      "metadata": {
        "id": "w1p-sDj9CnoM"
      },
      "source": [
        "![BMO](https://i.yourimageshare.com/WGqbuTQtKc.webp)\n"
      ]
    },
    {
      "cell_type": "markdown",
      "metadata": {
        "id": "RNbM_VQmCqjH"
      },
      "source": [
        "<div dir=\"rtl\">\n",
        "تابع\n",
        "<code>construct_bayes_net</code>\n",
        "را در cell زیر پیاده کنید تا بیز نت گفته‌شده را بسازد. به داکیومنت ابتدای این تابع (و بقیه توابع این نوت‌بوک) توجه کنید.\n",
        "</div>"
      ]
    },
    {
      "cell_type": "code",
      "execution_count": 99,
      "metadata": {
        "id": "Cx_IMswj1SSC"
      },
      "outputs": [],
      "source": [
        "def construct_bayes_net(game_state: GameState) -> bn.BayesNet:\n",
        "    \"\"\"\n",
        "    Construct an empty Bayes net according to the structure given.\n",
        "\n",
        "    You *must* name all variables using the constants in this function.\n",
        "\n",
        "    In this method, you should:\n",
        "    - populate `variables` with the Bayes Net nodes\n",
        "    - populate `edges` with every edge in the Bayes Net. we will represent each\n",
        "      edge as a tuple `(from, to)`.\n",
        "    - set each `variable_domains_dict[var] = values`, where `values` is a list\n",
        "      of the possible assignments to `var`.\n",
        "        - each agent position is a tuple (x, y) where x and y are 0-indexed\n",
        "        - each observed distance is a noisy Manhattan distance:\n",
        "          it's non-negative and |obs - true| <= MAX_NOISE\n",
        "    - this uses slightly simplified mechanics vs the ones used later for simplicity\n",
        "    \"\"\"\n",
        "    # constants to use\n",
        "    CAR = \"Car\"\n",
        "    FINN = \"Finn\"\n",
        "    JAKE = \"Jake\"\n",
        "    OBS0 = \"Observation0\"\n",
        "    OBS1 = \"Observation1\"\n",
        "    X_RANGE = game_state.get_walls().width\n",
        "    Y_RANGE = game_state.get_walls().height\n",
        "    MAX_NOISE = 7\n",
        "\n",
        "\n",
        "    variables = []\n",
        "    edges = []\n",
        "    variable_domains_dict = {}\n",
        "\n",
        "    # *** YOUR CODE HERE ***\n",
        "\n",
        "    \n",
        "    variables=[CAR ,FINN ,JAKE ,OBS0 ,OBS1]\n",
        "    edges=[(CAR,OBS0),(CAR,OBS1),(FINN,OBS0),(JAKE,OBS1),(FINN,JAKE)]\n",
        "    vals=[]\n",
        "    for i in range(X_RANGE):\n",
        "      for j in range(Y_RANGE):\n",
        "        vals.append((i,j)) \n",
        "    for my_var in variables:\n",
        "      if not(my_var == \"Observation0\" or my_var==\"Observation1\"):\n",
        "        variable_domains_dict[my_var]=vals\n",
        "    # *** END YOUR CODE HERE ***\n",
        "    variable_domains_dict[\"Observation0\"]=range((X_RANGE+Y_RANGE)+MAX_NOISE-1)\n",
        "    variable_domains_dict[\"Observation1\"]=range((X_RANGE+Y_RANGE)+MAX_NOISE-1)\n",
        "    net = bn.construct_empty_bayes_net(variables, edges, variable_domains_dict)\n",
        "    return net"
      ]
    },
    {
      "cell_type": "markdown",
      "metadata": {
        "id": "x-HkwG1SLdcy"
      },
      "source": [
        "# تست‌های بخش اول"
      ]
    },
    {
      "cell_type": "code",
      "execution_count": 100,
      "metadata": {
        "colab": {
          "base_uri": "https://localhost:8080/"
        },
        "id": "0VmmwzeSUbpK",
        "outputId": "df86debe-f192-4cc9-8ad1-55203ee12af4"
      },
      "outputs": [
        {
          "output_type": "stream",
          "name": "stdout",
          "text": [
            "test_1: \u001b[32mPassed!\u001b[0m\n",
            "--------------------------------------------------------------------------------\n",
            "test_2: \u001b[32mPassed!\u001b[0m\n",
            "--------------------------------------------------------------------------------\n"
          ]
        }
      ],
      "source": [
        "from tests import q1\n",
        "\n",
        "q1.test_1(construct_bayes_net)\n",
        "q1.test_2(construct_bayes_net)"
      ]
    },
    {
      "cell_type": "markdown",
      "metadata": {
        "id": "g0Ap6eLK-iW8"
      },
      "source": [
        "# **بخش دوم: جوین کردن فاکتورهای داده شده**"
      ]
    },
    {
      "cell_type": "markdown",
      "metadata": {
        "id": "Pn4oS7n--rhk"
      },
      "source": [
        "<div dir=\"rtl\">\n",
        "در این بخش قصد داریم تابع\n",
        "<code>join_factors</code>\n",
        " را پیاده‌سازی کنیم. این تابع یک لیست از فکتورها ورودی می‌گیرد و باید یک فکتور در خروجی بدهد که حاصل جوین کردن تمام ورودی‌ها باشد. مورد انتظار است این تابع موارد زیر را اجرا کند (راهنمایی: همانطور که در کد پیداست، ابتدا سعی کنید بفهمید کدام متغیرها در حاصل، شرط‌شده و کدام شرط‌نشده هستند).\n",
        "</div>"
      ]
    },
    {
      "cell_type": "markdown",
      "metadata": {
        "id": "tw61b6h-A2So"
      },
      "source": [
        "- `join_factors`$(P(X|Y), P(Y)) = P(X)$\n",
        "- `join_factors`$(P(V,W | X,Y,Z), P(X,Y | Z)) = P(V,W,X,Y | Z)$\n",
        "- `join_factors`$(P(X|Y,Z), P(Y)) = P(X,Y|Z)$\n",
        "- `join_factors`$(P(V|W), P(X|Y), P(Z)) = P(V, X, Z | W,Y)$"
      ]
    },
    {
      "cell_type": "code",
      "execution_count": 101,
      "metadata": {
        "id": "R8CyId-vA5gC"
      },
      "outputs": [],
      "source": [
        "from collections import OrderedDict\n",
        "import numpy as np\n",
        "def join_factors(factors: List[bn.Factor]) -> bn.Factor:\n",
        "    \"\"\"\n",
        "    Input factors is a list of factors.\n",
        "\n",
        "    You should calculate the set of unconditioned variables and conditioned\n",
        "    variables for the join of those factors.\n",
        "\n",
        "    Return a new factor that has those variables and whose probability entries\n",
        "    are product of the corresponding rows of the input factors.\n",
        "\n",
        "    You may assume that the variable_domains_dict for all the input\n",
        "    factors are the same, since they come from the same BayesNet.\n",
        "\n",
        "    joinFactors will only allow unconditioned_variables to appear in\n",
        "    one input factor (so their join is well defined).\n",
        "\n",
        "    Hint: Factor methods that take an assignmentDict as input\n",
        "    (such as get_probability and set_probability) can handle\n",
        "    assignmentDicts that assign more variables than are in that factor.\n",
        "\n",
        "    Useful functions:\n",
        "    Factor.get_all_possible_assignment_dicts\n",
        "    Factor.get_probability\n",
        "    Factor.set_probability\n",
        "    Factor.unconditioned_variables\n",
        "    Factor.conditioned_variables\n",
        "    Factor.variable_domains_dict\n",
        "    \"\"\"\n",
        "    factors = list(factors)\n",
        "    # Ignore this part\n",
        "    sets_of_unconditioned = [set(factor.unconditioned_variables()) for factor in factors]\n",
        "    if len(factors) > 1:\n",
        "        intersect = functools.reduce(lambda x, y: x & y, sets_of_unconditioned)\n",
        "        if len(intersect) > 0:\n",
        "            print(\"Factor failed joinFactors typecheck: \", factors)\n",
        "            raise ValueError(\n",
        "                \"unconditioned_variables can only appear in one factor. \\n\"\n",
        "                + \"unconditioned_variables: \" + str(intersect) +\n",
        "                \"\\nappear in more than one input factor.\\n\" +\n",
        "                \"Input factors: \\n\" +\n",
        "                \"\\n\".join(map(str, factors))\n",
        "            )\n",
        "\n",
        "    # Find out which variables are unconditioned and conditioned in the final joined factor\n",
        "    #print(\"uncondset\",sets_of_unconditioned)\n",
        "    # *** YOUR CODE HERE ***\n",
        "\n",
        "    final_unconditioned_variables1=[]\n",
        "    final_conditioned_variables1=[]\n",
        "    first_cond=[]\n",
        "    for factor in factors:\n",
        "      uncon=factor.unconditioned_variables()\n",
        "      con=factor.conditioned_variables()\n",
        "      final_unconditioned_variables1=list(set(np.concatenate((list(final_unconditioned_variables1),list(uncon)))))\n",
        "      final_conditioned_variables1=list(set(np.concatenate((list(final_conditioned_variables1),list(con)))))\n",
        "      first_cond=final_conditioned_variables1\n",
        "      \n",
        "    must_rem=[]\n",
        "    for j in final_conditioned_variables1:\n",
        "        if j in final_unconditioned_variables1:\n",
        "          must_rem.append(j)\n",
        "\n",
        "    for i in must_rem:\n",
        "      final_conditioned_variables1.remove(i)\n",
        "    final_unconditioned_variables=final_unconditioned_variables1\n",
        "    final_conditioned_variables=final_conditioned_variables1\n",
        "    # *** END YOUR CODE HERE ***\n",
        "    joined_factor = bn.Factor(\n",
        "        final_unconditioned_variables,\n",
        "        final_conditioned_variables,\n",
        "        factors[0].variable_domains_dict()\n",
        "    )\n",
        "    \n",
        "    # Use Factor.set_probability and find probabilities for each assignment of variables\n",
        "    # Hint: use Factor.get_all_possible_assignment_dicts\n",
        "\n",
        "    # *** YOUR CODE HERE ***\n",
        "\n",
        "\n",
        "    all_assigns=list(joined_factor.get_all_possible_assignment_dicts())\n",
        "    for i in all_assigns:\n",
        "      thejoint=1\n",
        "      for factor in factors:\n",
        "        thejoint =thejoint * factor.get_probability(i)\n",
        "\n",
        "      joined_factor.set_probability(i,thejoint)\n",
        "\n",
        "\n",
        "\n",
        "\n",
        "    # *** END YOUR CODE HERE ***\n",
        "\n",
        "    return joined_factor"
      ]
    },
    {
      "cell_type": "markdown",
      "metadata": {
        "id": "UxW_828bLkS0"
      },
      "source": [
        "# تست‌های بخش دوم"
      ]
    },
    {
      "cell_type": "code",
      "execution_count": 102,
      "metadata": {
        "colab": {
          "base_uri": "https://localhost:8080/"
        },
        "id": "qZE1QmrjUkmT",
        "outputId": "91f7874f-fbd9-428d-ac01-d2b70e763e60"
      },
      "outputs": [
        {
          "output_type": "stream",
          "name": "stdout",
          "text": [
            "test_product_rule: \u001b[32mPassed!\u001b[0m\n",
            "--------------------------------------------------------------------------------\n",
            "test_product_rule_extended: \u001b[32mPassed!\u001b[0m\n",
            "--------------------------------------------------------------------------------\n",
            "test_disjoint_right: \u001b[32mPassed!\u001b[0m\n",
            "--------------------------------------------------------------------------------\n",
            "test_common_right: \u001b[32mPassed!\u001b[0m\n",
            "--------------------------------------------------------------------------------\n",
            "test_grade_join: \u001b[32mPassed!\u001b[0m\n",
            "--------------------------------------------------------------------------------\n",
            "test_product_rule_nonsingleton_var: \u001b[32mPassed!\u001b[0m\n",
            "--------------------------------------------------------------------------------\n"
          ]
        }
      ],
      "source": [
        "from tests import q2\n",
        "\n",
        "q2.test_product_rule(join_factors)\n",
        "q2.test_product_rule_extended(join_factors)\n",
        "q2.test_disjoint_right(join_factors)\n",
        "q2.test_common_right(join_factors)\n",
        "q2.test_grade_join(join_factors)\n",
        "q2.test_product_rule_nonsingleton_var(join_factors)"
      ]
    },
    {
      "cell_type": "markdown",
      "metadata": {
        "id": "vIN4cZ5ICpS4"
      },
      "source": [
        "# **بخش سوم: Eliminate**"
      ]
    },
    {
      "cell_type": "markdown",
      "metadata": {
        "id": "_tVgPBY4CukU"
      },
      "source": [
        "<div dir=\"rtl\">\n",
        "در این بخش قصد داریم تابع eliminate را پیاده‌سازی کنیم که یک فکتور و یک متغیر ورودی می‌گیرد و آن متغیر را از فکتور حذف می‌کند. این کار با جمع زدن سطرهایی که تنها در مقدار متغیر حذفی با یکدیگر تفاوت دارند، انجام می‌شود.\n",
        "</div>"
      ]
    },
    {
      "cell_type": "code",
      "execution_count": 103,
      "metadata": {
        "id": "OhGBSnuDBFZu"
      },
      "outputs": [],
      "source": [
        "def eliminate(factor: bn.Factor, elimination_variable: str) -> bn.Factor:\n",
        "    \"\"\"\n",
        "    Input factor is a single factor.\n",
        "    Input elimination_variable is the variable to eliminate from factor.\n",
        "    elimination_variable must be an unconditioned variable in factor.\n",
        "\n",
        "    You should calculate the set of unconditioned variables and conditioned\n",
        "    variables for the factor obtained by eliminating the variable\n",
        "    elimination_variable.\n",
        "\n",
        "    Return a new factor where all of the rows mentioning\n",
        "    elimination_variable are summed with rows that match\n",
        "    assignments on the other variables.\n",
        "\n",
        "    Useful functions:\n",
        "    Factor.get_all_possible_assignment_dicts\n",
        "    Factor.get_probability\n",
        "    Factor.set_probability\n",
        "    Factor.unconditioned_variables\n",
        "    Factor.conditioned_variables\n",
        "    Factor.variable_domains_dict\n",
        "    \"\"\"\n",
        "\n",
        "    # Ignore this part\n",
        "    if elimination_variable not in factor.unconditioned_variables():\n",
        "        print(\"Factor failed eliminate typecheck: \", factor)\n",
        "        raise ValueError(\n",
        "            \"Elimination variable is not an unconditioned variable \" \\\n",
        "            + \"in this factor\\n\" +\n",
        "            \"elimination_variable: \" + str(elimination_variable) + \\\n",
        "            \"\\nunconditioned_variables:\" + str(factor.unconditioned_variables())\n",
        "        )\n",
        "\n",
        "    if len(factor.unconditioned_variables()) == 1:\n",
        "        print(\"Factor failed eliminate typecheck: \", factor)\n",
        "        raise ValueError(\n",
        "            \"Factor has only one unconditioned variable, so you \" \\\n",
        "            + \"can't eliminate \\nthat variable.\\n\" + \\\n",
        "            \"elimination_variable:\" + str(elimination_variable) + \"\\n\" + \\\n",
        "            \"unconditioned_variables: \" + str(factor.unconditioned_variables())\n",
        "        )\n",
        "\n",
        "    # *** YOUR CODE HERE ***\"\n",
        "\n",
        "    final_unconditioned_variables1=[]\n",
        "    final_conditioned_variables1=[]\n",
        "    uncons=factor.unconditioned_variables()\n",
        "    cons=factor.conditioned_variables()\n",
        "    final_unconditioned_variables1=uncons\n",
        "    final_conditioned_variables1=cons\n",
        "    if elimination_variable in uncons :\n",
        "      final_unconditioned_variables1.remove(elimination_variable)\n",
        "    if elimination_variable in cons:\n",
        "      final_conditioned_variables1.remove(elimination_variable)\n",
        "    new_factor = bn.Factor(\n",
        "        final_unconditioned_variables1,\n",
        "        final_conditioned_variables1,\n",
        "        factor.variable_domains_dict()\n",
        "    )   \n",
        "\n",
        "    all_assigns=list(new_factor.get_all_possible_assignment_dicts())\n",
        "    for i in all_assigns:\n",
        "      thenewP=0\n",
        "      help_assign=i\n",
        "      for value in factor.variable_domains_dict()[elimination_variable]:\n",
        "\n",
        "        help_assign[elimination_variable]=value\n",
        "        thenewP =thenewP + factor.get_probability(help_assign)\n",
        "      new_factor.set_probability(i,thenewP)\n",
        "    return new_factor  \n",
        "    # *** END YOUR CODE HERE ***\n",
        "\n",
        "    # *** END YOUR CODE HERE ***\""
      ]
    },
    {
      "cell_type": "markdown",
      "metadata": {
        "id": "5a2GYPurLn6T"
      },
      "source": [
        "# تست‌های بخش سوم"
      ]
    },
    {
      "cell_type": "code",
      "source": [
        "from tests import q3\n",
        "\n",
        "q3.test_simple_eliminate(eliminate)"
      ],
      "metadata": {
        "colab": {
          "base_uri": "https://localhost:8080/"
        },
        "id": "wXXwdiNI-dOZ",
        "outputId": "b2d0cc9c-278d-4af3-db74-dead7318ac89"
      },
      "execution_count": 104,
      "outputs": [
        {
          "output_type": "stream",
          "name": "stdout",
          "text": [
            "test_simple_eliminate: \u001b[32mPassed!\u001b[0m\n",
            "--------------------------------------------------------------------------------\n"
          ]
        }
      ]
    },
    {
      "cell_type": "code",
      "execution_count": 105,
      "metadata": {
        "colab": {
          "base_uri": "https://localhost:8080/"
        },
        "id": "C8V6JcG3rYuu",
        "outputId": "4c1b32ac-793b-4a0d-a3a6-94b88de40082"
      },
      "outputs": [
        {
          "output_type": "stream",
          "name": "stdout",
          "text": [
            "test_simple_eliminate: \u001b[32mPassed!\u001b[0m\n",
            "--------------------------------------------------------------------------------\n",
            "test_simple_eliminate_extended: \u001b[32mPassed!\u001b[0m\n",
            "--------------------------------------------------------------------------------\n",
            "test_eliminate_conditioned: \u001b[32mPassed!\u001b[0m\n",
            "--------------------------------------------------------------------------------\n",
            "test_grade_eliminate: \u001b[32mPassed!\u001b[0m\n",
            "--------------------------------------------------------------------------------\n",
            "test_simple_eliminate_nonsingleton_var: \u001b[32mPassed!\u001b[0m\n",
            "--------------------------------------------------------------------------------\n",
            "test_simple_eliminate_int: \u001b[32mPassed!\u001b[0m\n",
            "--------------------------------------------------------------------------------\n"
          ]
        }
      ],
      "source": [
        "from tests import q3\n",
        "\n",
        "q3.test_simple_eliminate(eliminate)\n",
        "q3.test_simple_eliminate_extended(eliminate)\n",
        "q3.test_eliminate_conditioned(eliminate)\n",
        "q3.test_grade_eliminate(eliminate)\n",
        "q3.test_simple_eliminate_nonsingleton_var(eliminate)\n",
        "q3.test_simple_eliminate_int(eliminate)"
      ]
    },
    {
      "cell_type": "markdown",
      "metadata": {
        "id": "elgB4tuDwAjv"
      },
      "source": [
        "# **بخش چهارم: Enumeration**"
      ]
    },
    {
      "cell_type": "markdown",
      "metadata": {
        "id": "KUVh-CAAwOnG"
      },
      "source": [
        "<div dir=\"rtl\">\n",
        "در این بخش با استفاده از enumeration،\n",
        "تابعی پیاده‌سازی می‌کنیم که یک بیز نت، کوئری، و اویدنت ورودی می‌گیرد و در آن پاسخ سوال زیر را می‌دهد.\n",
        "</div>\n",
        "\n",
        "$P(Q_1,Q_2,\\ldots,Q_k | e_1,e_2,\\ldots,e_m)$\n",
        "\n",
        "<div dir=\"rtl\">\n",
        "یادآوری: الگوریتم\n",
        "enumeration\n",
        "به این صورت کار می‌کند که ابتدا با تمام متغیرها جوین میزند و سپس تمام \n",
        "hidden variableها\n",
        "را حذف می‌کند.\n",
        "<br>\n",
        "راهنمایی: در کدتان از تابع زیر استفاده کنید که روی یک متغیر جوین می‌زند.\n",
        "</div>"
      ]
    },
    {
      "cell_type": "code",
      "execution_count": 106,
      "metadata": {
        "id": "_7Sh9l1fUttV"
      },
      "outputs": [],
      "source": [
        "def join_factors_by_variable(factors: List[bn.Factor], join_variable: str):\n",
        "    \"\"\"\n",
        "    Input factors is a list of factors.\n",
        "    Input joinVariable is the variable to join on.\n",
        "\n",
        "    This function performs a check that the variable that is being joined on\n",
        "    appears as an unconditioned variable in only one of the input factors.\n",
        "\n",
        "    Then, it calls your joinFactors on all of the factors in factors that\n",
        "    contain that variable.\n",
        "\n",
        "    Returns a tuple of\n",
        "    (factors not joined, resulting factor from joinFactors)\n",
        "    \"\"\"\n",
        "\n",
        "    factors_to_join = [factor for factor in factors if join_variable in factor.variables_set()]\n",
        "    factors_not_to_join = [factor for factor in factors if join_variable not in factor.variables_set()]\n",
        "\n",
        "    # Ignore this part\n",
        "    num_variables_on_left = len(\n",
        "        [factor for factor in factors_to_join if join_variable in factor.unconditioned_variables()]\n",
        "    )\n",
        "    if num_variables_on_left > 1:\n",
        "        print(\"Factor failed joinFactorsByVariable typecheck: \", factors)\n",
        "        raise ValueError(\n",
        "            \"The joinBy variable can only appear in one factor as an \\nunconditioned variable. \\n\" +\n",
        "            \"join_variable: \" + str(join_variable) + \"\\n\" +\n",
        "            \", \".join(map(str, [factor.unconditioned_variables() for factor in factors_to_join]))\n",
        "        )\n",
        "\n",
        "    joined_factor = join_factors(factors_to_join)\n",
        "    return factors_not_to_join, joined_factor"
      ]
    },
    {
      "cell_type": "code",
      "execution_count": 107,
      "metadata": {
        "id": "5TM-qDg0w6PL"
      },
      "outputs": [],
      "source": [
        "def inference_by_enumeration(bayes_net: bn.BayesNet, query_variables: List[str], evidence_dict: Dict):\n",
        "    \"\"\"\n",
        "    An inference by enumeration implementation provided as reference.\n",
        "    This function performs a probabilistic inference query that\n",
        "    returns the factor:\n",
        "\n",
        "    P(query_variables | evidence_dict)\n",
        "\n",
        "    bayes_net:       The Bayes Net on which we are making a query.\n",
        "    query_variables: A list of the variables which are unconditioned in\n",
        "                    the inference query.\n",
        "    evidence_dict:   An assignment dict {variable : value} for the\n",
        "                    variables which are presented as evidence\n",
        "                    (conditioned) in the inference query. \n",
        "    \"\"\"\n",
        "    \n",
        "    # initialize return variables and the variables to eliminate\n",
        "    evidence_variables_set = set(evidence_dict.keys())\n",
        "    query_variables_set = set(query_variables)\n",
        "    elimination_variables = (bayes_net.variables_set() - evidence_variables_set) - query_variables_set\n",
        "    #print(\"evi\",evidence_variables_set,\"query\",query_variables_set,\"elimi\",elimination_variables)\n",
        "    # grab all factors where we know the evidence variables (to reduce the size of the tables)\n",
        "    current_factors_list = bayes_net.get_all_cpts_with_evidence(evidence_dict)\n",
        "    \n",
        "\n",
        "    # join all factors by variables\n",
        "    # *** YOUR CODE HERE ***\n",
        "    for var in evidence_variables_set:\n",
        "      join_factors_by_variable(current_factors_list, var)\n",
        "    for var in query_variables_set:\n",
        "      join_factors_by_variable(current_factors_list, var)\n",
        "    for var in elimination_variables:\n",
        "      join_factors_by_variable(current_factors_list, var)  \n",
        "\n",
        "    # *** END YOUR CODE HERE ***\n",
        "\n",
        "    # current_factors_list should contain the connected components of the graph now as factors, must join the connected components\n",
        "    full_join = join_factors(current_factors_list)\n",
        "\n",
        "    # marginalize all variables that aren't query or evidence\n",
        "    incrementally_marginalized_joint = full_join\n",
        "    #print(incrementally_marginalized_joint)\n",
        "    # *** YOUR CODE HERE ***\n",
        "    for var in elimination_variables:\n",
        "      #print(var)\n",
        "      incrementally_marginalized_joint=eliminate(incrementally_marginalized_joint, var)\n",
        "      #print(incrementally_marginalized_joint)\n",
        "    \n",
        "    # *** END YOUR CODE HERE ***\n",
        "\n",
        "    full_joint_over_query_and_evidence = incrementally_marginalized_joint\n",
        "\n",
        "    # normalize so that the probability sums to one\n",
        "    # the input factor contains only the query variables and the evidence variables, \n",
        "    # both as unconditioned variables\n",
        "    query_conditioned_on_evidence = bn.normalize(full_joint_over_query_and_evidence)\n",
        "    # now the factor is conditioned on the evidence variables\n",
        "\n",
        "    return query_conditioned_on_evidence"
      ]
    },
    {
      "cell_type": "markdown",
      "metadata": {
        "id": "d60pRAI_Ltll"
      },
      "source": [
        "# تست‌های بخش چهارم"
      ]
    },
    {
      "cell_type": "code",
      "execution_count": 108,
      "metadata": {
        "colab": {
          "base_uri": "https://localhost:8080/"
        },
        "id": "YM6C1vkZ5j7r",
        "outputId": "5354f5d8-c4c9-414f-ab44-0b1be45f0aa8"
      },
      "outputs": [
        {
          "output_type": "stream",
          "name": "stdout",
          "text": [
            "test_disconnected_eliminate: \u001b[32mPassed!\u001b[0m\n",
            "--------------------------------------------------------------------------------\n",
            "test_independent_eliminate: \u001b[32mPassed!\u001b[0m\n",
            "--------------------------------------------------------------------------------\n",
            "test_independent_eliminate_extended: \u001b[32mPassed!\u001b[0m\n",
            "--------------------------------------------------------------------------------\n",
            "test_common_effect_eliminate: \u001b[32mPassed!\u001b[0m\n",
            "--------------------------------------------------------------------------------\n",
            "test_grade_var_elim: \u001b[32mPassed!\u001b[0m\n",
            "--------------------------------------------------------------------------------\n",
            "test_large_bayes_net_elim: \u001b[32mPassed!\u001b[0m\n",
            "--------------------------------------------------------------------------------\n"
          ]
        }
      ],
      "source": [
        "from tests import q4\n",
        "\n",
        "q4.test_disconnected_eliminate(inference_by_enumeration)\n",
        "q4.test_independent_eliminate(inference_by_enumeration)\n",
        "q4.test_independent_eliminate_extended(inference_by_enumeration)\n",
        "q4.test_common_effect_eliminate(inference_by_enumeration)\n",
        "q4.test_grade_var_elim(inference_by_enumeration)\n",
        "q4.test_large_bayes_net_elim(inference_by_enumeration)"
      ]
    },
    {
      "cell_type": "markdown",
      "metadata": {
        "id": "u93YCI6IDOnZ"
      },
      "source": [
        "# **بخش پنجم: Variable Elimination**"
      ]
    },
    {
      "cell_type": "markdown",
      "metadata": {
        "id": "r-a1Wru1DUkX"
      },
      "source": [
        "<div dir=\"rtl\">\n",
        "در این بخش نیز همان سوال بخش قبل در تابع پرسیده می‌شود اما باید الگوریتم variable elimination استفاده شود.\n",
        "</div>"
      ]
    },
    {
      "cell_type": "code",
      "execution_count": 109,
      "metadata": {
        "id": "whq85HqPU2Yk"
      },
      "outputs": [],
      "source": [
        "def inference_by_variable_elimination(\n",
        "        bayes_net: bn.BayesNet,\n",
        "        query_variables: List[str],\n",
        "        evidence_dict: Dict,\n",
        "        elimination_order: List[str]\n",
        "):\n",
        "    \"\"\"\n",
        "    This function should perform a probabilistic inference query that\n",
        "    returns the factor:\n",
        "\n",
        "    P(query_variables | evidence_dict)\n",
        "\n",
        "    It should perform inference by interleaving joining on a variable\n",
        "    and eliminating that variable, in the order of variables according\n",
        "    to elimination_order.\n",
        "\n",
        "    You need to use joinFactorsByVariable to join all of the factors\n",
        "    that contain a variable in order for the autograder to\n",
        "    recognize that you performed the correct interleaving of\n",
        "    joins and eliminates.\n",
        "\n",
        "    If a factor that you are about to eliminate a variable from has\n",
        "    only one unconditioned variable, you should not eliminate it\n",
        "    and instead just discard the factor.  This is since the\n",
        "    result of the eliminate would be 1 (you marginalize\n",
        "    all of the unconditioned variables), but it is not a\n",
        "    valid factor.  So this simplifies using the result of eliminate.\n",
        "\n",
        "    The sum of the probabilities should sum to one (so that it is a true\n",
        "    conditional probability, conditioned on the evidence).\n",
        "\n",
        "    bayes_net:         The Bayes Net on which we are making a query.\n",
        "    query_variables:   A list of the variables which are unconditioned\n",
        "                      in the inference query.\n",
        "    evidence_dict:     An assignment dict {variable : value} for the\n",
        "                      variables which are presented as evidence\n",
        "                      (conditioned) in the inference query.\n",
        "    elimination_order: The order to eliminate the variables in.\n",
        "\n",
        "    Hint: BayesNet.get_all_cpts_with_evidence will return all the Conditional\n",
        "    Probability Tables even if an empty dict (or None) is passed in for\n",
        "    evidence_dict. In this case it will not specialize any variable domains\n",
        "    in the CPTs.\n",
        "\n",
        "    Useful functions:\n",
        "    BayesNet.get_all_cpts_with_evidence\n",
        "    normalize\n",
        "    eliminate\n",
        "    join_factors_by_variable\n",
        "    join_factors\n",
        "    \"\"\"\n",
        "    if elimination_order is None:  # set an arbitrary elimination order if None given\n",
        "        elimination_variables = bayes_net.variables_set() - set(query_variables) - \\\n",
        "                                set(evidence_dict.keys())\n",
        "        elimination_order = sorted(list(elimination_variables))\n",
        "\n",
        "    # *** YOUR CODE HERE ***\n",
        "\n",
        "    \n",
        "    evidence_variables_set = set(evidence_dict.keys())\n",
        "    query_variables_set = set(query_variables)\n",
        "    elimination_variables = elimination_order\n",
        "    current_factors_list = bayes_net.get_all_cpts_with_evidence(evidence_dict)\n",
        "\n",
        "\n",
        "    for var in elimination_variables: \n",
        "      a=join_factors_by_variable(current_factors_list, var)\n",
        "      current_factors_list=a[0]\n",
        "      if len(a[1].unconditioned_variables())>1:\n",
        "        b=eliminate(a[1], var)\n",
        "        a[0].append(b)\n",
        "        current_factors_list=a[0]\n",
        "\n",
        "    full_join = join_factors(current_factors_list)\n",
        "    query_conditioned_on_evidence = bn.normalize(full_join)\n",
        "    # *** END YOUR CODE HERE ***\n",
        "    return query_conditioned_on_evidence"
      ]
    },
    {
      "cell_type": "markdown",
      "metadata": {
        "id": "0qcLQ9jdLxJu"
      },
      "source": [
        "# تست‌های بخش پنجم"
      ]
    },
    {
      "cell_type": "code",
      "execution_count": 110,
      "metadata": {
        "colab": {
          "base_uri": "https://localhost:8080/"
        },
        "id": "JtcgKGt_5nY5",
        "outputId": "f7a3602b-f5e8-454b-9f6c-52f4a248929f"
      },
      "outputs": [
        {
          "output_type": "stream",
          "name": "stdout",
          "text": [
            "test_disconnected_eliminate: \u001b[32mPassed!\u001b[0m\n",
            "--------------------------------------------------------------------------------\n",
            "test_independent_eliminate: \u001b[32mPassed!\u001b[0m\n",
            "--------------------------------------------------------------------------------\n",
            "test_independent_eliminate_extended: \u001b[32mPassed!\u001b[0m\n",
            "--------------------------------------------------------------------------------\n",
            "test_common_effect_eliminate: \u001b[32mPassed!\u001b[0m\n",
            "--------------------------------------------------------------------------------\n",
            "test_grade_var_elim: \u001b[32mPassed!\u001b[0m\n",
            "--------------------------------------------------------------------------------\n",
            "test_large_bayes_net_elim: \u001b[32mPassed!\u001b[0m\n",
            "--------------------------------------------------------------------------------\n"
          ]
        }
      ],
      "source": [
        "from tests import q5\n",
        "\n",
        "q5.test_disconnected_eliminate(inference_by_variable_elimination)\n",
        "q5.test_independent_eliminate(inference_by_variable_elimination)\n",
        "q5.test_independent_eliminate_extended(inference_by_variable_elimination)\n",
        "q5.test_common_effect_eliminate(inference_by_variable_elimination)\n",
        "q5.test_grade_var_elim(inference_by_variable_elimination)\n",
        "q5.test_large_bayes_net_elim(inference_by_variable_elimination)"
      ]
    },
    {
      "cell_type": "markdown",
      "metadata": {
        "id": "XOKEv-veDPxQ"
      },
      "source": [
        "# **بخش ششم: Observation Probability**\n"
      ]
    },
    {
      "cell_type": "markdown",
      "metadata": {
        "id": "mWFaA4hkDRlU"
      },
      "source": [
        "<div dir=\"rtl\">\n",
        "از این بخش به بعد، قصد داریم احتمال وجود هر شخص در هر خانه از جدول را به دست آوریم. در بخش‌های آتی، فرض می‌کنیم اشخاص روی موقعیت مکانی یکدیگر تاثیر ندارند (BMO خراب شده است).\n",
        "<br>\n",
        "همچنین در شهر اووو، دیوارهایی وجود دارد که از این بخش به بعد در نظر خواهیم گرفت. هر دیوار یک خانه از جدول را مسدود می‌کند.\n",
        "</div>"
      ]
    },
    {
      "cell_type": "markdown",
      "metadata": {
        "id": "-XllSuaKDS-l"
      },
      "source": [
        "![BMO Broken](https://i.yourimageshare.com/oMIX4GiIDj.webp)\n"
      ]
    },
    {
      "cell_type": "markdown",
      "metadata": {
        "id": "_bmCXjJFDU4U"
      },
      "source": [
        "<div dir=\"rtl\">\n",
        "در این بخش شما متود\n",
        "<code>get_observation_prob</code>\n",
        "از کلاس\n",
        "<code>InferenceModule</code>\n",
        "پیاده می‌کنید. این کلاس یک پایه برای بخش‌های بعدی خواهد بود. در این تابع شما باید یک مشاهده (فاصله نویزدار ماشین و یک شخص)، موقعیت ایجنت و موقعیت آن شخص را ورودی بگیرید و احتمال اینکه این مشاهده در چنین موقعیتی از ماشین و شخص انجام شود را خروجی بدهید. در واقع خروجی این تابع به شکل\n",
        "$$P(noisyDistance | carPosition,personPosition)$$\n",
        "باید باشد.\n",
        "<br>\n",
        "با توجه به فاصله واقعی ماشین تا روح، سنسور فاصله دارای توزیع احتمالی بر روی خروجی‌اش دارد. تابع\n",
        "<code>automobile.get_observation_probability(noisyDistance, trueDistance)</code>\n",
        "  نشان‌دهنده\n",
        "$$P(noisyDistance | trueDistance)$$\n",
        "می‌باشد که شما باید در پیاده‌سازی خود از آن استفاده کنید. همچنین می‌توانید از تابع کمکی\n",
        "<code>manhattan_distance</code>\n",
        "استفاده کنید تا فاصله دو نقطه را پیدا کنید.\n",
        "<br>\n",
        "همچنین یک حالت خاص نیز وجود دارد. اهالی شهر اووو پس از خوردن بستنی، به خانه فین و جیک می‌روند و دیگر در نقشه نیستند. شما باید این حالت را نیز در تابع هندل کنید. در این حالت، سنسورهای ماشین به شکل قطعی،\n",
        "<code>None</code>\n",
        "نشان می‌دهند. در این حالت، اگر موقعیت شخص موقعیت خانه فین و جیک باشد، احتمال باید 1 برگردانده شود و در غیر این‌صورت 0. مطمئن شوید که این حالت خاص را در تابع هندل می‌کنید.\n",
        "</div>"
      ]
    },
    {
      "cell_type": "code",
      "execution_count": 111,
      "metadata": {
        "id": "hDhRQt6CDWWI"
      },
      "outputs": [],
      "source": [
        "class InferenceModule:\n",
        "    \"\"\"\n",
        "    An inference module tracks a belief distribution over a person's location.\n",
        "    \"\"\"\n",
        "\n",
        "    def __init__(self, person_agent):\n",
        "        \"\"\"\n",
        "        set the person agent for later access.\n",
        "        \"\"\"\n",
        "        self.person_agent = person_agent\n",
        "        self.index = person_agent.index\n",
        "        self.obs = []  # most recent observation position\n",
        "\n",
        "    def get_home_position(self):\n",
        "        return 2 * self.index - 1, 1\n",
        "\n",
        "    def get_position_distribution_helper(self, game_state, pos, index, agent):\n",
        "        try:\n",
        "            home = self.get_home_position()\n",
        "            game_state = self.set_person_position(game_state, pos, index)\n",
        "        except TypeError:\n",
        "            home = self.get_home_position(index)\n",
        "            game_state = self.set_person_positions(game_state, pos)\n",
        "        car_position = game_state.get_car_position()\n",
        "        person_position = game_state.get_person_position(index)  # the position you set\n",
        "        dist = DiscreteDistribution()\n",
        "        if car_position == person_position:  # the person has been caught!\n",
        "            dist[home] = 1.0\n",
        "            return dist\n",
        "        car_successor_states = automobile.Actions.get_legal_neighbors(\n",
        "            car_position,\n",
        "            game_state.get_walls()\n",
        "        )  # positions car can move to\n",
        "        if person_position in car_successor_states:  # person could get caught\n",
        "            mult = 1.0 / float(len(car_successor_states))\n",
        "            dist[home] = mult\n",
        "        else:\n",
        "            mult = 0.0\n",
        "        action_dist = agent.get_distribution(game_state)\n",
        "        for action, prob in action_dist.items():\n",
        "            successor_position = automobile.Actions.get_successor(person_position, action)\n",
        "            if successor_position in car_successor_states:  # person could get caught\n",
        "                denom = float(len(action_dist))\n",
        "                dist[home] += prob * (1.0 / denom) * (1.0 - mult)\n",
        "                dist[successor_position] = prob * ((denom - 1.0) / denom) * (1.0 - mult)\n",
        "            else:\n",
        "                dist[successor_position] = prob * (1.0 - mult)\n",
        "        return dist\n",
        "\n",
        "    def get_position_distribution(self, game_state, pos, index=None, agent=None):\n",
        "        \"\"\"\n",
        "        return a distribution over successor positions of the person from the\n",
        "        given game_state. you must first place the person in the game_state, using\n",
        "        set_person_position below.\n",
        "        \"\"\"\n",
        "        if index == None:\n",
        "            index = self.index\n",
        "        if agent == None:\n",
        "            agent = self.person_agent\n",
        "        return self.get_position_distribution_helper(game_state, pos, index, agent)\n",
        "\n",
        "    def get_observation_prob(\n",
        "            self,\n",
        "            noisy_distance: int,\n",
        "            car_position: tuple,\n",
        "            person_position: tuple,\n",
        "            home_position: tuple\n",
        "    ):\n",
        "        \"\"\"\n",
        "        return the probability p(noisy_distance | car_position, person_position).\n",
        "        \"\"\"\n",
        "        # *** YOUR CODE HERE ***\n",
        "        my_prob=0\n",
        "        if not(noisy_distance is None):\n",
        "         manhatan=abs(car_position[0]-person_position[0])+abs(car_position[1]-person_position[1])\n",
        "         my_prob=automobile.get_observation_probability(noisy_distance,manhatan)\n",
        "         if person_position == home_position:\n",
        "          my_prob=0\n",
        "        elif person_position == home_position:\n",
        "          my_prob=1  \n",
        "        return my_prob\n",
        "        # *** END YOUR CODE HERE ***\n",
        "\n",
        "    def set_person_position(self, game_state, person_position, index):\n",
        "        game_state = deepcopy(game_state)\n",
        "        game_state.set_person_state(index, AgentState(person_position, False, automobile.Directions.stop))\n",
        "        return game_state\n",
        "\n",
        "    def set_person_positions(self, game_state, person_positions):\n",
        "        \"\"\"\n",
        "        sets the position of all persons to the values in person_positions.\n",
        "        \"\"\"\n",
        "        game_state = deepcopy(game_state)\n",
        "        for index, pos in enumerate(person_positions):\n",
        "            from game import AgentState\n",
        "            game_state.set_person_state(index + 1, AgentState(pos, False, automobile.Directions.stop))\n",
        "        return game_state\n",
        "\n",
        "    def observe(self, game_state):\n",
        "        \"\"\"\n",
        "        collect the relevant noisy distance observation and pass it along.\n",
        "        \"\"\"\n",
        "        distances = game_state.get_noisy_person_distances()\n",
        "        if len(distances) >= self.index:  # check for missing observations\n",
        "            obs = distances[self.index - 1]\n",
        "            self.obs = obs\n",
        "            self.observe_update(obs, game_state)\n",
        "\n",
        "    def initialize(self, game_state):\n",
        "        \"\"\"\n",
        "        initialize beliefs to a uniform distribution over all legal positions.\n",
        "        \"\"\"\n",
        "        self.legal_positions = [p for p in game_state.get_walls().as_list(False) if p[1] > 1]\n",
        "        self.all_positions = self.legal_positions + [self.get_home_position()]\n",
        "        self.initialize_uniformly(game_state)\n",
        "\n",
        "    def initialize_uniformly(self, game_state):\n",
        "        \"\"\"\n",
        "        set the belief state to a uniform prior belief over all positions.\n",
        "        \"\"\"\n",
        "        raise NotImplementedError\n",
        "\n",
        "    def observe_update(self, observation: Optional[int], game_state):\n",
        "        \"\"\"\n",
        "        update beliefs based on the given distance observation and game_state.\n",
        "        \"\"\"\n",
        "        raise NotImplementedError\n",
        "\n",
        "    def elapse_time(self, game_state):\n",
        "        \"\"\"\n",
        "        predict beliefs for the next time step from a game_state.\n",
        "        \"\"\"\n",
        "        raise NotImplementedError\n",
        "\n",
        "    def get_belief_distribution(self):\n",
        "        \"\"\"\n",
        "        return the agent's current belief state, a distribution over person\n",
        "        locations conditioned on all evidence so far.\n",
        "        \"\"\"\n",
        "        raise NotImplementedError"
      ]
    },
    {
      "cell_type": "markdown",
      "metadata": {
        "id": "KAXhIPWKL1GD"
      },
      "source": [
        "# تست‌های بخش ششم"
      ]
    },
    {
      "cell_type": "code",
      "execution_count": 112,
      "metadata": {
        "colab": {
          "base_uri": "https://localhost:8080/"
        },
        "id": "dzDwDD2dDXVE",
        "outputId": "0126a01e-cf0e-40e3-e10a-693c0c10acfe"
      },
      "outputs": [
        {
          "output_type": "stream",
          "name": "stdout",
          "text": [
            "test: \u001b[32mPassed!\u001b[0m\n",
            "--------------------------------------------------------------------------------\n"
          ]
        }
      ],
      "source": [
        "from tests import q6\n",
        "\n",
        "q6.test(InferenceModule)"
      ]
    },
    {
      "cell_type": "markdown",
      "metadata": {
        "id": "FbvkzoTJDZLM"
      },
      "source": [
        "# **بخش هفتم: Exact Inference Observation**\n"
      ]
    },
    {
      "cell_type": "markdown",
      "metadata": {
        "id": "qDJVeaclDarx"
      },
      "source": [
        "<div dir=\"rtl\">\n",
        "در این بخش شما متودهای\n",
        "<code>observe_update</code>\n",
        "و\n",
        "<code>elapse_time</code>\n",
        " از کلاس\n",
        " <code>ExactInference</code>\n",
        "  را پیاده خواهید کرد.\n",
        "<br>\n",
        "در تابع اول، به درستی حدس‌های ایجنت (ماشین خودران) درباره موقعیت مکانی مردم را با استفاده از مشاهدات نویزدار، آپدیت کنید. این تابع مشاهدات را به صورت آنلاین دریافت می‌کند و با توجه به آن مشاهده توزیع احتمالاتی وجود اشخاص در هر نقطه از نقشه را آپدیت کند. شما باید در این تابع تمام نقاط جدول را از\n",
        "<code>self.all_positions</code>\n",
        " بخوانید که علاوه بر تمام موقعیت‌های معمول جدول، یک حالت استثنا نیز دارد (این حالت به این علت وجود دارد که مردم شهر اووو، پس از خوردن بستنی بلافاصله به خانه فین و جیک تلپورت می‌کنند). سپس باید به ازای هر نقطه، باورهای ایجنت را که در\n",
        " <code>self.beliefs</code>\n",
        "  ذخیره شده‌است آپدیت کنید. توجه کنید که\n",
        "  <code>self.beliefs</code>\n",
        "   یک متغیر از داده‌ساختار\n",
        "  <code>DiscreteDistribution</code>\n",
        "    است. این داده‌ساختار یک توزیع احتمالاتی (که لزوما جمع آن ۱ نیست) را مدیریت می‌کند و چندین تابع کمکی دارد.\n",
        "<br>\n",
        "قبل از اینکه شروع به تایپ کد کنید، ابتدا کلاس\n",
        "<code>DiscreteDistribution</code>\n",
        " را مطالعه کنید. سپس عبارت احتمالاتی که قصد محاسبه آن را دارید، روی کاغذ بنویسید.\n",
        "<br>\n",
        "در تابع دوم، شما از دانش خود درباره نحوه حرکت آدم‌ها استفاده می‌کنید تا باورهای ایجنت را با توجه به گذشت زمان آپدیت کنید. در این تابع شما باید با استفاده از تابع\n",
        "<code>self.get_position_distribution</code>\n",
        "و با توجه به مقادیر سابق\n",
        "<code>self.beliefs</code>،\n",
        "تمام مقادیر این باورها را آپدیت کنید. نحوه استفاده از این تابع بع شکل زیر است:\n",
        "<pre><code>new_position_distribution = self.get_position_distribution(game_state, old_position)</code></pre>\n",
        "در خط کد بالا،\n",
        "<code>new_position_distribution</code>\n",
        "یک متغیر از کلاس\n",
        "<code>DiscreteDistribution</code>\n",
        "خواهد بود که نشان‌دهنده توزیع احتمالاتی موقعیت جدید یک نفر، با توجه به موقعیت قبلی\n",
        "(<code>old_position</code>)\n",
        "خواهد بود."
      ]
    },
    {
      "cell_type": "code",
      "execution_count": 113,
      "metadata": {
        "id": "GQIZQg_fDcvh"
      },
      "outputs": [],
      "source": [
        "class ExactInference(InferenceModule):\n",
        "    \"\"\"\n",
        "    The exact dynamic inference module should use forward algorithm updates to\n",
        "    compute the exact belief function at each time step.\n",
        "    \"\"\"\n",
        "\n",
        "    def initialize_uniformly(self, game_state):\n",
        "        \"\"\"\n",
        "        Begin with a uniform distribution over legal person positions (i.e., not\n",
        "        including the home position).\n",
        "        \"\"\"\n",
        "        self.beliefs = DiscreteDistribution()\n",
        "        game_state: GameState\n",
        "        for p in self.legal_positions:\n",
        "            self.beliefs[p] = 1.0\n",
        "        self.beliefs.normalize()\n",
        "\n",
        "    def observe_update(self, observation: int, game_state: GameState):\n",
        "        \"\"\"\n",
        "        Update beliefs based on the distance observation and car's position.\n",
        "\n",
        "        The observation is the noisy Manhattan distance to the person you are\n",
        "        tracking.\n",
        "\n",
        "        self.all_positions is a list of the possible person positions, including\n",
        "        the home position. You should only consider positions that are in\n",
        "        self.all_positions.\n",
        "\n",
        "        The update model is not entirely stationary: it may depend on car's\n",
        "        current position. However, this is not a problem, as car's current\n",
        "        position is known.\n",
        "        \"\"\"\n",
        "        # \"*** YOUR CODE HERE ***\"\n",
        "        for person_position in self.beliefs:\n",
        "          home_position=self.get_home_position()\n",
        "          my_prob=0\n",
        "          car_position=game_state.get_car_position()\n",
        "          if not(observation is None):\n",
        "            manhatan=abs(car_position[0]-person_position[0])+abs(car_position[1]-person_position[1])\n",
        "            my_prob=automobile.get_observation_probability(observation,manhatan)\n",
        "            if person_position == home_position:\n",
        "              my_prob=0\n",
        "          elif person_position == home_position:\n",
        "            my_prob=1  \n",
        "          self.beliefs[person_position]=self.beliefs[person_position]*my_prob\n",
        "\n",
        "        # \"*** END YOUR CODE HERE ***\"\n",
        "        self.beliefs.normalize()\n",
        "\n",
        "    def elapse_time(self, game_state: GameState):\n",
        "        \"\"\"\n",
        "        Predict beliefs in response to a time step passing from the current\n",
        "        state.\n",
        "\n",
        "        The transition model is not entirely stationary: it may depend on\n",
        "        car's current position. However, this is not a problem, as car's\n",
        "        current position is known.\n",
        "        \"\"\"\n",
        "        # \"*** YOUR CODE HERE ***\"\n",
        "        #self.beliefs.normalize()  \n",
        "        #print(self.all_positions)\n",
        "        oldbelief=self.beliefs.copy()\n",
        "        for per in oldbelief:\n",
        "          oldbelief[per]=0\n",
        "        for person_position in self.beliefs:      \n",
        "            new_position_distribution = self.get_position_distribution(game_state, person_position)\n",
        "            for keyss in new_position_distribution:\n",
        "              oldbelief[keyss]=oldbelief[keyss]+self.beliefs[person_position]*new_position_distribution[keyss]\n",
        "        self.beliefs=oldbelief\n",
        "        self.beliefs.normalize()      \n",
        "        # \"*** END YOUR CODE HERE ***\"\n",
        "    def get_belief_distribution(self):\n",
        "        return self.beliefs"
      ]
    },
    {
      "cell_type": "markdown",
      "metadata": {
        "id": "AehEyrUJL4Qr"
      },
      "source": [
        "# تست‌های بخش هفتم\n",
        "\n",
        "در تست‌های این قسمت یک پارامتر اضافه داریم که اگر مقدار این پارامتر را ست کنید، می‌توانید به صورت گرافیکی خروجی را مشاهده نمایید. \n",
        "\n",
        "می‌توانید خروجی گرافیکی را بررسی کنید\n",
        "draw\n",
        "با ست کردن پارامتر"
      ]
    },
    {
      "cell_type": "markdown",
      "metadata": {
        "id": "rfkwlCmZDeiR"
      },
      "source": [
        "\n",
        "<div dir=\"rtl\">\n",
        "۴ تست اول، مربوط به تابع\n",
        "<code>observe_update</code>\n",
        "و ۴ تای بعدی مربوط به\n",
        "<code>elapse_time</code>\n",
        "هستند. همچنین اجرای کامل تست آخر مقداری طول خواهد کشید.\n",
        "</div>"
      ]
    },
    {
      "cell_type": "code",
      "execution_count": 114,
      "metadata": {
        "colab": {
          "base_uri": "https://localhost:8080/"
        },
        "id": "5-wVGDE_Df5C",
        "outputId": "aa9818e1-9bb0-462a-dd06-8cc3c36de738"
      },
      "outputs": [
        {
          "output_type": "stream",
          "name": "stdout",
          "text": [
            "test_1: \u001b[32mPassed!\u001b[0m\n",
            "--------------------------------------------------------------------------------\n",
            "test_2: \u001b[32mPassed!\u001b[0m\n",
            "--------------------------------------------------------------------------------\n",
            "test_3: \u001b[32mPassed!\u001b[0m\n",
            "--------------------------------------------------------------------------------\n",
            "test_4: \u001b[32mPassed!\u001b[0m\n",
            "--------------------------------------------------------------------------------\n",
            "test_5: \u001b[32mPassed!\u001b[0m\n",
            "--------------------------------------------------------------------------------\n",
            "test_6: \u001b[32mPassed!\u001b[0m\n",
            "--------------------------------------------------------------------------------\n",
            "test_7: \u001b[32mPassed!\u001b[0m\n",
            "--------------------------------------------------------------------------------\n",
            "test_8: \u001b[32mPassed!\u001b[0m\n",
            "--------------------------------------------------------------------------------\n"
          ]
        }
      ],
      "source": [
        "from tests import q7\n",
        "\n",
        "q7.test_1(ExactInference)\n",
        "q7.test_2(ExactInference)\n",
        "q7.test_3(ExactInference)\n",
        "q7.test_4(ExactInference)\n",
        "q7.test_5(ExactInference)\n",
        "q7.test_6(ExactInference)\n",
        "q7.test_7(ExactInference)\n",
        "q7.test_8(ExactInference)"
      ]
    },
    {
      "cell_type": "markdown",
      "metadata": {
        "id": "-l-lHIqiDhgT"
      },
      "source": [
        "# **بخش هشتم: Greedy Agent**\n"
      ]
    },
    {
      "cell_type": "markdown",
      "metadata": {
        "id": "mo56yQMbDkc2"
      },
      "source": [
        "<div dir=\"rtl\">\n",
        "در این بخش، با استفاده از احتمالاتی که در بخش قبل به دست آوردیم، یک ایجنت حریصانه خواهیم ساخت.\n",
        "<br>\n",
        "در کلاس زیر، تابع\n",
        "<code>choose_action</code>\n",
        "را پیاده کنید. شما باید در این تابع، به ازای هر نفر که بستنی نخورده است (در موقعیت خانه نیست) موقعیتی که احتمال وجود شخص در آن بیشترین است را به دست آورید. سپس حرکتی را انتخاب کنید که به نزدیک‌ترین شخص، نزدیک‌تر شوید.\n",
        "<br>\n",
        "از آنجایی که نقشه می‌تواند دیوار داشته باشد، شما باید برای به دست آوردن فاصله دو نقطه در صفحه از\n",
        "<code>self.distancer.get_distance(pos1, pos2)</code>\n",
        "استفاده کنید.\n",
        "</div>"
      ]
    },
    {
      "cell_type": "code",
      "execution_count": 115,
      "metadata": {
        "id": "CQMKYdgbDmq9"
      },
      "outputs": [],
      "source": [
        "class GreedyCarAgent(Agent):\n",
        "    \"\"\"An agent that charges the closest person.\"\"\"\n",
        "\n",
        "    def __init__(\n",
        "            self,\n",
        "            index,\n",
        "            inference_class=ExactInference,\n",
        "            person_agents=None,\n",
        "            observe_enable=True,\n",
        "            elapse_time_enable=True\n",
        "    ):\n",
        "        super().__init__(index)\n",
        "        self.inferences = [inference_class(agent) for agent in person_agents]\n",
        "        self.observe_enable = observe_enable\n",
        "        self.elapse_time_enable = elapse_time_enable\n",
        "        self.distancer = None\n",
        "        self.first_move = True\n",
        "\n",
        "    def registerInitialState(self, game_state: GameState):\n",
        "        \"\"\"Pre-computes the distance between every two points.\"\"\"\n",
        "        for inference in self.inferences:\n",
        "            inference.initialize(game_state)\n",
        "        self.distancer = Distancer(game_state.layout)\n",
        "\n",
        "    def get_action(self, game_state: GameState):\n",
        "        \"\"\"Updates beliefs, then chooses an action based on updated beliefs.\"\"\"\n",
        "        for index, inf in enumerate(self.inferences):\n",
        "            if not self.first_move and self.elapse_time_enable:\n",
        "                inf.elapse_time(game_state)\n",
        "            self.first_move = False\n",
        "            if self.observe_enable:\n",
        "                inf.observe(game_state)\n",
        "        return self.choose_action(game_state)\n",
        "\n",
        "    def choose_action(self, game_state: GameState):\n",
        "        \"\"\"\n",
        "        First computes the most likely position of each person that has\n",
        "        not yet been captured, then chooses an action that brings\n",
        "        the car closest to the closest person (according to mazeDistance!).\n",
        "\n",
        "        Hint: Use the following variables in your code.\n",
        "        \"\"\"\n",
        "        car_position = game_state.get_car_position()\n",
        "        legal_actions = [a for a in game_state.get_legal_actions(0)]\n",
        "        not_eaten_people = game_state.get_not_eaten_people()\n",
        "        not_eaten_people_position_distribution = [inference.get_belief_distribution() for i, inference in\n",
        "                                                  enumerate(self.inferences)\n",
        "                                                  if not_eaten_people[inference.index - 1]]\n",
        "        # \"*** YOUR CODE HERE ***\"\n",
        "        mindist=100000000\n",
        "        minpers1=not_eaten_people_position_distribution[0]\n",
        "        minpers=max(minpers1,key=minpers1.get)\n",
        "        for person in not_eaten_people_position_distribution:\n",
        "              personposval=max(person.values())\n",
        "              perposkey=max(person,key=person.get)#\n",
        "              #print(personposval)\n",
        "              #print(perposkey)\n",
        "              distanc=self.distancer.get_distance(game_state.get_car_position(), perposkey)\n",
        "              if mindist>distanc:\n",
        "                mindist=distanc\n",
        "                minpers=perposkey\n",
        "        bestact=legal_actions[0]   \n",
        "        mindist2=10000000  \n",
        "        if not(minpers == None):\n",
        "           # print(legal_actions)\n",
        "            for act in legal_actions:\n",
        "              #print(act)\n",
        "              if act =='south':\n",
        "                carpos=game_state.get_car_position()\n",
        "                carnext=(carpos[0],carpos[1]-1)\n",
        "                #print(carpos,carnext,minpers)\n",
        "                #print(self.distancer.get_distance(carnext, minpers))\n",
        "                if  mindist2>=self.distancer.get_distance(carnext, minpers):\n",
        "                  #print(\"ok\")\n",
        "                  mindist2=self.distancer.get_distance(carnext, minpers)\n",
        "                  bestact=act\n",
        "              elif act =='east':\n",
        "                carpos=game_state.get_car_position()\n",
        "                carnext=(carpos[0]+1,carpos[1])\n",
        "                #print(carpos,carnext,minpers)\n",
        "                #print(self.distancer.get_distance(carnext, minpers))\n",
        "                if  mindist2>=self.distancer.get_distance(carnext, minpers):\n",
        "                  mindist2=self.distancer.get_distance(carnext, minpers)\n",
        "                  bestact=act   \n",
        "\n",
        "              elif act =='north':\n",
        "                carpos=game_state.get_car_position()\n",
        "                carnext=(carpos[0],carpos[1]+1)\n",
        "                #print(carpos,carnext,minpers)\n",
        "                #print(self.distancer.get_distance(carnext, minpers))\n",
        "                if  mindist2>=self.distancer.get_distance(carnext, minpers):\n",
        "                  mindist2=self.distancer.get_distance(carnext, minpers)\n",
        "                  bestact=act  \n",
        "              elif act =='stop':\n",
        "                carpos=game_state.get_car_position()\n",
        "                carnext=(carpos[0],carpos[1])\n",
        "                #print(carpos,carnext,minpers)\n",
        "                #print(self.distancer.get_distance(carnext, minpers))\n",
        "                if  mindist2>=self.distancer.get_distance(carnext, minpers):\n",
        "                  mindist2=self.distancer.get_distance(carnext, minpers)\n",
        "                  bestact=act \n",
        "              else:\n",
        "                carpos=game_state.get_car_position()\n",
        "                carnext=(carpos[0]-1,carpos[1])\n",
        "                #print(carpos,carnext,minpers)\n",
        "                #print(self.distancer.get_distance(carnext, minpers))\n",
        "                if  mindist2>=self.distancer.get_distance(carnext, minpers):\n",
        "                  mindist2=self.distancer.get_distance(carnext, minpers)\n",
        "                  bestact=act\n",
        "        #print(\"best\",bestact)            \n",
        "        return bestact                                                                \n",
        "        # \"*** END YOUR CODE HERE ***\""
      ]
    },
    {
      "cell_type": "markdown",
      "metadata": {
        "id": "qRLwU-CYQjLj"
      },
      "source": [
        "# تست‌های بخش هشتم\n",
        "\n",
        "در این قسمت‌ هم مانند قسمت قبل پارامتر گرافیکی را داریم.\n",
        "فقط دقت کنید به سلول پایینی که تمامی تست‌ها را اجرا می‌کند این پارامتر را اضافه نکنید."
      ]
    },
    {
      "cell_type": "code",
      "execution_count": 116,
      "metadata": {
        "colab": {
          "base_uri": "https://localhost:8080/",
          "height": 413
        },
        "id": "GiSjIAzTDn4I",
        "outputId": "3b88aaa6-6935-4f94-ff3c-82538bb9e9f0"
      },
      "outputs": [
        {
          "output_type": "display_data",
          "data": {
            "text/plain": [
              "<PIL.Image.Image image mode=RGB size=800x360 at 0x7F7C0ABD85E0>"
            ],
            "image/png": "[encoded data removed]"
          },
          "metadata": {}
        },
        {
          "output_type": "stream",
          "name": "stdout",
          "text": [
            "\u001b[32mPassed!\u001b[0m\n",
            "--------------------------------------------------------------------------------\n"
          ]
        }
      ],
      "source": [
        "from tests import q8\n",
        "#q8.test_1(GreedyCarAgent, ExactInference)\n",
        "q8.test_1(GreedyCarAgent, ExactInference, draw=True)"
      ]
    },
    {
      "cell_type": "code",
      "execution_count": 117,
      "metadata": {
        "colab": {
          "base_uri": "https://localhost:8080/"
        },
        "id": "1nPXLLXzj3Vx",
        "outputId": "231f717f-db24-4d8b-8dda-2ac83eb7bf11"
      },
      "outputs": [
        {
          "output_type": "stream",
          "name": "stdout",
          "text": [
            "test_1: \u001b[32mPassed!\u001b[0m\n",
            "--------------------------------------------------------------------------------\n"
          ]
        }
      ],
      "source": [
        "q8.test_1(GreedyCarAgent, ExactInference)"
      ]
    },
    {
      "cell_type": "markdown",
      "metadata": {
        "id": "emCcSGooDo8R"
      },
      "source": [
        "# **بخش نهم: Particle Filter**\n"
      ]
    },
    {
      "cell_type": "markdown",
      "metadata": {
        "id": "jGpb6_kBDqMR"
      },
      "source": [
        "<div dir=\"rtl\">\n",
        "آز آنجایی که شهر اووو جادویی است و هر روز یک بخش جدید به مسئله ماشین خودران وارد خواهد شد، لازم است راه‌حلی ارائه دهیم که در فضای بزرگ هم درست کار کند.\n",
        "<br>\n",
        "در این بخش شما الگوریتم\n",
        "<code>Particle Filter</code>\n",
        "را پیاده خواهید کرد تا احتمال حضور هر شخص در هر خانه را به صورت تقریبی محاسبه کنید.\n",
        "<br>\n",
        "در کلاس زیر، توابع را با توجه به داکیومنت‌های ابتدای توابع کامل کنید.\n",
        "</div>"
      ]
    },
    {
      "cell_type": "code",
      "execution_count": 120,
      "metadata": {
        "id": "TrDz92vwDr_d"
      },
      "outputs": [],
      "source": [
        "state = None\n",
        "from random import sample\n",
        "import random\n",
        "class ParticleFilter(InferenceModule):\n",
        "    \"\"\"\n",
        "    A particle filter for approximately tracking a single person.\n",
        "    \"\"\"\n",
        "\n",
        "    def __init__(self, person_agent, num_particles=5000):\n",
        "        super().__init__(person_agent)\n",
        "        self.set_num_particles(num_particles)\n",
        "\n",
        "    def set_num_particles(self, num_particles):\n",
        "        self.num_particles = num_particles\n",
        "\n",
        "    def initialize_uniformly(self, game_state: GameState):\n",
        "        \"\"\"\n",
        "        Initialize a list of particles. Use self.num_particles for the number of\n",
        "        particles. Use self.legal_positions for the legal board positions where\n",
        "        a particle could be located. Particles should be evenly (not randomly)\n",
        "        distributed across positions in order to ensure a uniform prior. Use\n",
        "        self.particles for the list of particles.\n",
        "        \"\"\"\n",
        "        self.particles = []\n",
        "        # \"*** YOUR CODE HERE ***\"\n",
        "        a=self.num_particles\n",
        "        for num in range(a):\n",
        "          b=sample(self.legal_positions,1)\n",
        "          self.particles.append(b[0])\n",
        "        #print(\"part\",self.particles)\n",
        "        # \"*** END YOUR CODE HERE ***\"\n",
        "\n",
        "    def get_belief_distribution(self):\n",
        "        \"\"\"\n",
        "        Return the agent's current belief state, a distribution over person\n",
        "        locations conditioned on all evidence and time passage. This method\n",
        "        essentially converts a list of particles into a belief distribution.\n",
        "\n",
        "        This function should return a normalized distribution.\n",
        "        \"\"\"\n",
        "        beliefs={}\n",
        "        # \"*** YOUR CODE HERE ***\"\n",
        "        for loac in set(self.legal_positions):\n",
        "         #print(\"ok\",loac,self.particles.count(loac))\n",
        "         beliefs[loac]=self.particles.count(loac)/self.num_particles\n",
        "        # \"*** END YOUR CODE HERE ***\"\n",
        "        #print(\"belf\",beliefs)\n",
        "        return beliefs\n",
        "    def observe_update(self, observation: int, game_state: GameState):\n",
        "        \"\"\"\n",
        "        Update beliefs based on the distance observation and car's position.\n",
        "\n",
        "        The observation is the noisy Manhattan distance to the person you are\n",
        "        tracking.\n",
        "\n",
        "        There is one special case that a correct implementation must handle.\n",
        "        When all particles receive zero weight, the list of particles should\n",
        "        be reinitialized by calling initializeUniformly. The total method of\n",
        "        the DiscreteDistribution may be useful.\n",
        "        \"\"\"\n",
        "        # \"*** YOUR CODE HERE ***\"\n",
        "        beliefs=self.get_belief_distribution()\n",
        "        for person_position in beliefs:\n",
        "          home_position=self.get_home_position()\n",
        "          my_prob=0\n",
        "          car_position=game_state.get_car_position()\n",
        "          if not(observation is None):\n",
        "            manhatan=abs(car_position[0]-person_position[0])+abs(car_position[1]-person_position[1])\n",
        "            my_prob=automobile.get_observation_probability(observation,manhatan)\n",
        "            if person_position == home_position:\n",
        "              my_prob=0\n",
        "          elif person_position == home_position:\n",
        "            my_prob=1  \n",
        "            beliefs[person_position]=beliefs[person_position]*my_prob\n",
        "\n",
        "        # \"*** END YOUR CODE HERE ***\"\n",
        "        newbeliefs=beliefs.copy()\n",
        "        for key in beliefs:\n",
        "          newbeliefs[key]=float(beliefs[key])/sum(beliefs.values())\n",
        "        beliefs=newbeliefs\n",
        "        if sum(beliefs.values())==0:\n",
        "          self.initialize_uniformly(game_state)\n",
        "          beliefs=self.get_belief_distribution()\n",
        "        # \"*** END YOUR CODE HERE ***\"\n",
        "        #print(\"beliefs\",beliefs)\n",
        "        return beliefs\n",
        "    def elapse_time(self, game_state):\n",
        "        \"\"\"\n",
        "        Sample each particle's next state based on its current state and the\n",
        "        gameState.\n",
        "        \"\"\"\n",
        "        # \"*** YOUR CODE HERE ***\"\n",
        "        newparticles=[]\n",
        "        sortedprob=self.beliefs.values()\n",
        "        sortedpos=self.beliefs.keys()\n",
        "        for i in range(sortedprob):\n",
        "           if i==0:\n",
        "              sortedprob[i]=sortedprob[i]\n",
        "           else:\n",
        "              sortedprob[i]=sortedprob[i]+sortedprob[i-1]\n",
        "        for num in self.num_particles:\n",
        "          rand=random.uniform(0, 1)\n",
        "          for j in range(sortedprob):\n",
        "              if j==0:\n",
        "                if rand>=0 and rand<=sortedprob[j]:\n",
        "                  newparticles.append(sortedpos[j])\n",
        "              else:\n",
        "                if rand>sortedprob[j-1] and rand<=sortedprob[j]:\n",
        "                  newparticles.append(sortedpos[j])  \n",
        "        # \"*** END YOUR CODE HERE ***\""
      ]
    },
    {
      "cell_type": "markdown",
      "metadata": {
        "id": "bxoHrKlZQyDZ"
      },
      "source": [
        "# تست‌های بخش نهم\n",
        "\n",
        "در این قسمت‌ هم مانند قسمت قبل پارامتر گرافیکی را داریم.\n",
        "فقط دقت کنید به سلول پایینی که تمامی تست‌ها را اجرا می‌کند این پارامتر را اضافه نکنید."
      ]
    },
    {
      "cell_type": "code",
      "execution_count": 121,
      "metadata": {
        "colab": {
          "base_uri": "https://localhost:8080/"
        },
        "id": "3juBKMCFWgdb",
        "outputId": "e081e6fb-83ed-45a2-b1a1-a2baf494ab50"
      },
      "outputs": [
        {
          "output_type": "stream",
          "name": "stdout",
          "text": [
            "test_7: \u001b[32mPassed!\u001b[0m\n",
            "--------------------------------------------------------------------------------\n"
          ]
        }
      ],
      "source": [
        "from tests import q9\n",
        "q9.test_7( GreedyCarAgent,ParticleFilter)#,draw=True)"
      ]
    },
    {
      "cell_type": "markdown",
      "source": [
        "از هفت تا تست زیر دو تاش اوکی شد."
      ],
      "metadata": {
        "id": "68Ywg-LIBCNG"
      }
    },
    {
      "cell_type": "code",
      "execution_count": 122,
      "metadata": {
        "colab": {
          "base_uri": "https://localhost:8080/"
        },
        "id": "NwOGoLP7Ds_s",
        "outputId": "5b63efe3-699b-449e-f7ae-87b73ed89e2f"
      },
      "outputs": [
        {
          "output_type": "stream",
          "name": "stdout",
          "text": [
            "test_1: \u001b[32mPassed!\u001b[0m\n",
            "--------------------------------------------------------------------------------\n",
            "test_2: dict_items([((7, 4), 0.1256), ((2, 4), 0.122), ((8, 4), 0.13), ((3, 4), 0.1238), ((9, 4), 0.1246), ((5, 4), 0.121), ((1, 4), 0.1308), ((5, 2), 0.1222), ((1, 1), 0.0)])\n",
            "dict_items([((5, 4), 0.222222222222), ((5, 2), 0.0), ((1, 4), 0.0555555555556), ((2, 4), 0.111111111111), ((7, 4), 0.222222222222), ((9, 4), 0.0555555555556), ((3, 4), 0.222222222222), ((1, 1), 0.0), ((8, 4), 0.111111111111)])\n",
            "Distribution deviated at move 1 by 0.0551 (squared norm) from the correct answer.\n",
            "      key:     student                  reference                \n",
            "   (7, 4):     0.1256                   0.222222222222           \n",
            "   (2, 4):     0.122                    0.111111111111           \n",
            "   (8, 4):     0.13                     0.111111111111           \n",
            "   (3, 4):     0.1238                   0.222222222222           \n",
            "   (5, 4):     0.121                    0.222222222222           \n",
            "   (1, 1):     0.0                      0.0                      \n",
            "   (1, 4):     0.1308                   0.0555555555556          \n",
            "   (5, 2):     0.1222                   0.0                      \n",
            "   (9, 4):     0.1246                   0.0555555555556          \n",
            "\u001b[31mFailed!\u001b[0m\n",
            "details:\n",
            "Particle filter observe test: 50 inference errors.\n",
            "Traceback (most recent call last):\n",
            "  File \"/content/tests/utils.py\", line 28, in wrapper\n",
            "    function(*args, **kwargs)\n",
            "  File \"/content/tests/q9.py\", line 12, in test_2\n",
            "    run_dummy_agent(ParticleFilter, *parse_dicts(\"q9-2\"), draw=draw)\n",
            "  File \"/content/tests/game_utils.py\", line 258, in run_dummy_agent\n",
            "    raise Exception(test_dict[\"errorMsg\"] % car_agent.errors)\n",
            "Exception: Particle filter observe test: 50 inference errors.\n",
            "\n",
            "--------------------------------------------------------------------------------\n",
            "test_3: dict_items([((8, 8), 0.0744), ((2, 4), 0.0686), ((9, 3), 0.0692), ((9, 9), 0.0746), ((1, 8), 0.0682), ((1, 4), 0.068), ((2, 3), 0.0732), ((2, 9), 0.0718), ((8, 9), 0.0708), ((5, 6), 0.0682), ((9, 8), 0.0768), ((1, 3), 0.0782), ((1, 9), 0.0662), ((2, 8), 0.0718), ((1, 1), 0.0)])\n",
            "dict_items([((1, 3), 0.208469055375), ((2, 9), 0.0260586319218), ((5, 6), 0.0), ((2, 8), 0.00325732899023), ((9, 8), 0.0260586319218), ((9, 3), 0.208469055375), ((9, 9), 0.208469055375), ((1, 4), 0.0260586319218), ((2, 4), 0.00325732899023), ((8, 9), 0.0260586319218), ((1, 8), 0.0260586319218), ((8, 8), 0.00325732899023), ((2, 3), 0.0260586319218), ((1, 9), 0.208469055375), ((1, 1), 0.0)])\n",
            "Distribution deviated at move 5 by 0.1056 (squared norm) from the correct answer.\n",
            "      key:     student                  reference                \n",
            "   (8, 8):     0.0744                   0.00325732899023         \n",
            "   (2, 4):     0.0686                   0.00325732899023         \n",
            "   (9, 3):     0.0692                   0.208469055375           \n",
            "   (9, 9):     0.0746                   0.208469055375           \n",
            "   (1, 1):     0.0                      0.0                      \n",
            "   (1, 8):     0.0682                   0.0260586319218          \n",
            "   (1, 4):     0.068                    0.0260586319218          \n",
            "   (2, 3):     0.0732                   0.0260586319218          \n",
            "   (2, 9):     0.0718                   0.0260586319218          \n",
            "   (8, 9):     0.0708                   0.0260586319218          \n",
            "   (5, 6):     0.0682                   0.0                      \n",
            "   (9, 8):     0.0768                   0.0260586319218          \n",
            "   (1, 3):     0.0782                   0.208469055375           \n",
            "   (1, 9):     0.0662                   0.208469055375           \n",
            "   (2, 8):     0.0718                   0.00325732899023         \n",
            "\u001b[31mFailed!\u001b[0m\n",
            "details:\n",
            "Particle filter observe test: 83 inference errors.\n",
            "Traceback (most recent call last):\n",
            "  File \"/content/tests/utils.py\", line 28, in wrapper\n",
            "    function(*args, **kwargs)\n",
            "  File \"/content/tests/q9.py\", line 17, in test_3\n",
            "    run_dummy_agent(ParticleFilter, *parse_dicts(\"q9-3\"), draw=draw)\n",
            "  File \"/content/tests/game_utils.py\", line 258, in run_dummy_agent\n",
            "    raise Exception(test_dict[\"errorMsg\"] % car_agent.errors)\n",
            "Exception: Particle filter observe test: 83 inference errors.\n",
            "\n",
            "--------------------------------------------------------------------------------\n",
            "test_4: dict_items([((4, 6), 0.0438), ((5, 7), 0.0504), ((8, 9), 0.0454), ((9, 8), 0.043), ((1, 3), 0.0528), ((1, 9), 0.049), ((2, 8), 0.0434), ((6, 5), 0.0506), ((4, 5), 0.0462), ((5, 6), 0.0418), ((8, 8), 0.0428), ((2, 4), 0.0428), ((1, 8), 0.0392), ((6, 7), 0.0436), ((4, 7), 0.0452), ((5, 5), 0.0442), ((9, 3), 0.0482), ((9, 9), 0.051), ((1, 4), 0.0452), ((2, 3), 0.0446), ((2, 9), 0.0442), ((6, 6), 0.0426), ((1, 1), 0.0)])\n",
            "dict_items([((4, 7), 0.000152973182823), ((1, 3), 0.0783222696052), ((6, 6), 0.0), ((5, 6), 0.0), ((2, 8), 0.0195805674013), ((9, 8), 0.0391611348026), ((8, 9), 0.0391611348026), ((6, 7), 3.5853089724e-06), ((5, 5), 0.0), ((2, 9), 0.00979028370064), ((1, 1), 0.0), ((4, 5), 1.15775602234e-06), ((9, 3), 0.313289078421), ((1, 4), 0.15664453921), ((2, 3), 0.15664453921), ((1, 9), 0.00122378546258), ((6, 5), 0.0), ((4, 6), 4.78041196321e-06), ((5, 7), 4.78041196321e-06), ((9, 9), 0.0783222696052), ((1, 8), 0.00979028370064), ((8, 8), 0.0195805674013), ((2, 4), 0.0783222696052)])\n",
            "Distribution deviated at move 7 by 0.1220 (squared norm) from the correct answer.\n",
            "      key:     student                  reference                \n",
            "   (4, 6):     0.0438                   4.78041196321e-06        \n",
            "   (5, 7):     0.0504                   4.78041196321e-06        \n",
            "   (8, 9):     0.0454                   0.0391611348026          \n",
            "   (9, 8):     0.043                    0.0391611348026          \n",
            "   (1, 3):     0.0528                   0.0783222696052          \n",
            "   (1, 9):     0.049                    0.00122378546258         \n",
            "   (2, 8):     0.0434                   0.0195805674013          \n",
            "   (6, 5):     0.0506                   0.0                      \n",
            "   (4, 5):     0.0462                   1.15775602234e-06        \n",
            "   (5, 6):     0.0418                   0.0                      \n",
            "   (8, 8):     0.0428                   0.0195805674013          \n",
            "   (2, 4):     0.0428                   0.0783222696052          \n",
            "   (1, 8):     0.0392                   0.00979028370064         \n",
            "   (6, 7):     0.0436                   3.5853089724e-06         \n",
            "   (4, 7):     0.0452                   0.000152973182823        \n",
            "   (5, 5):     0.0442                   0.0                      \n",
            "   (9, 3):     0.0482                   0.313289078421           \n",
            "   (9, 9):     0.051                    0.0783222696052          \n",
            "   (1, 1):     0.0                      0.0                      \n",
            "   (1, 4):     0.0452                   0.15664453921            \n",
            "   (2, 3):     0.0446                   0.15664453921            \n",
            "   (2, 9):     0.0442                   0.00979028370064         \n",
            "   (6, 6):     0.0426                   0.0                      \n",
            "\u001b[31mFailed!\u001b[0m\n",
            "details:\n",
            "Particle filter observe test: 94 inference errors.\n",
            "Traceback (most recent call last):\n",
            "  File \"/content/tests/utils.py\", line 28, in wrapper\n",
            "    function(*args, **kwargs)\n",
            "  File \"/content/tests/q9.py\", line 22, in test_4\n",
            "    run_dummy_agent(ParticleFilter, *parse_dicts(\"q9-4\"), draw=draw)\n",
            "  File \"/content/tests/game_utils.py\", line 258, in run_dummy_agent\n",
            "    raise Exception(test_dict[\"errorMsg\"] % car_agent.errors)\n",
            "Exception: Particle filter observe test: 94 inference errors.\n",
            "\n",
            "--------------------------------------------------------------------------------\n",
            "test_5: dict_items([((2, 3), 0.246), ((3, 3), 0.2466), ((1, 3), 0.2528), ((4, 3), 0.2546), ((1, 1), 0.0)])\n",
            "dict_items([((1, 3), 0.0), ((2, 3), 0.244094488189), ((3, 3), 0.251968503937), ((4, 3), 0.503937007874), ((1, 1), 0.0)])\n",
            "Distribution deviated at move 1 by 0.1261 (squared norm) from the correct answer.\n",
            "      key:     student                  reference                \n",
            "   (4, 3):     0.2546                   0.503937007874           \n",
            "   (1, 1):     0.0                      0.0                      \n",
            "   (2, 3):     0.246                    0.244094488189           \n",
            "   (3, 3):     0.2466                   0.251968503937           \n",
            "   (1, 3):     0.2528                   0.0                      \n",
            "\u001b[31mFailed!\u001b[0m\n",
            "details:\n",
            "Particle filter observe test: 5 inference errors.\n",
            "Traceback (most recent call last):\n",
            "  File \"/content/tests/utils.py\", line 28, in wrapper\n",
            "    function(*args, **kwargs)\n",
            "  File \"/content/tests/q9.py\", line 27, in test_5\n",
            "    run_dummy_agent(ParticleFilter, *parse_dicts(\"q9-5\"), draw=draw)\n",
            "  File \"/content/tests/game_utils.py\", line 258, in run_dummy_agent\n",
            "    raise Exception(test_dict[\"errorMsg\"] % car_agent.errors)\n",
            "Exception: Particle filter observe test: 5 inference errors.\n",
            "\n",
            "--------------------------------------------------------------------------------\n",
            "test_6: \u001b[31mFailed!\u001b[0m\n",
            "details:\n",
            "Error handling all weights = 0\n",
            "Traceback (most recent call last):\n",
            "  File \"/content/tests/utils.py\", line 28, in wrapper\n",
            "    function(*args, **kwargs)\n",
            "  File \"/content/tests/q9.py\", line 32, in test_6\n",
            "    run_zero_weight_agent(ParticleFilter, *parse_dicts(\"q9-6\"), draw=draw)\n",
            "  File \"/content/tests/game_utils.py\", line 280, in run_zero_weight_agent\n",
            "    raise Exception(\"Error handling all weights = 0\")\n",
            "Exception: Error handling all weights = 0\n",
            "\n",
            "--------------------------------------------------------------------------------\n",
            "test_7: \u001b[32mPassed!\u001b[0m\n",
            "--------------------------------------------------------------------------------\n"
          ]
        }
      ],
      "source": [
        "from tests import q9\n",
        "\n",
        "q9.test_1(ParticleFilter)\n",
        "q9.test_2(ParticleFilter)\n",
        "q9.test_3(ParticleFilter)\n",
        "q9.test_4(ParticleFilter)\n",
        "q9.test_5(ParticleFilter)\n",
        "q9.test_6(ParticleFilter)\n",
        "q9.test_7(GreedyCarAgent, ParticleFilter)"
      ]
    }
  ],
  "metadata": {
    "colab": {
      "provenance": [],
      "include_colab_link": true
    },
    "gpuClass": "standard",
    "kernelspec": {
      "display_name": "Python 3 (ipykernel)",
      "language": "python",
      "name": "python3"
    },
    "language_info": {
      "codemirror_mode": {
        "name": "ipython",
        "version": 3
      },
      "file_extension": ".py",
      "mimetype": "text/x-python",
      "name": "python",
      "nbconvert_exporter": "python",
      "pygments_lexer": "ipython3",
      "version": "3.7.9"
    }
  },
  "nbformat": 4,
  "nbformat_minor": 0
}