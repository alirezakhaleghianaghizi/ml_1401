{
  "cells": [
    {
      "cell_type": "markdown",
      "metadata": {
        "id": "view-in-github",
        "colab_type": "text"
      },
      "source": [
        "<a href=\"https://colab.research.google.com/github/alirezakhaleghianaghizi/ml_1401/blob/main/Simulated_Annealing.ipynb\" target=\"_parent\"><img src=\"https://colab.research.google.com/assets/colab-badge.svg\" alt=\"Open In Colab\"/></a>"
      ]
    },
    {
      "cell_type": "markdown",
      "metadata": {
        "id": "2zsOddcOIbLU"
      },
      "source": [
        "<img src='http://www-scf.usc.edu/~ghasemig/images/sharif.png' alt=\"SUT logo\" width=300 height=300 align=left class=\"saturate\" >\n",
        "\n",
        "<br>\n",
        "<font>\n",
        "<div dir=ltr align=center>\n",
        "<font color=0F5298 size=7>\n",
        "    Artificial Intelligence <br>\n",
        "<font color=2565AE size=5>\n",
        "    Computer Engineering Department <br>\n",
        "    Spring 2023<br>\n",
        "<font color=3C99D size=5>\n",
        "    Practical Assignment 1 - Search <br>\n",
        "<font color=696880 size=4>\n",
        "    Mohammad Mahdi Abootorabi and Roozbeh Pirayadi \n",
        "\n",
        "____"
      ]
    },
    {
      "cell_type": "markdown",
      "metadata": {
        "id": "i16pqETuIbLX"
      },
      "source": [
        "# Personal Data"
      ]
    },
    {
      "cell_type": "code",
      "execution_count": 21,
      "metadata": {
        "collectable": true,
        "execution": {
          "iopub.execute_input": "2021-10-01T16:01:36.762477Z",
          "iopub.status.busy": "2021-10-01T16:01:36.762155Z",
          "iopub.status.idle": "2021-10-01T16:01:36.764025Z",
          "shell.execute_reply": "2021-10-01T16:01:36.763754Z"
        },
        "id": "KHIgzisPIbLX"
      },
      "outputs": [],
      "source": [
        "# Set your student number\n",
        "student_number = '99101462'\n",
        "Name = 'Alireza'\n",
        "Last_Name = 'Khaleghi_Anaghizi'"
      ]
    },
    {
      "cell_type": "markdown",
      "metadata": {
        "id": "gkTqs03EIbLY"
      },
      "source": [
        "# Rules\n",
        "- Make sure that all of your cells can be run perfectly. \n",
        "- You are not allowed to add or remove cells. You **must use the provided space to write your code**. If you don't follow this rule, **your Practical Assignment won't be graded**. \n",
        "- There is one cell for your custom functions (if you need any) at the beginning of each question. Please note that this jupyter file might be broken down into 3 or 4 jupyter notebooks for easier grading, so you **must write your custom functions in the correct cell**."
      ]
    },
    {
      "cell_type": "markdown",
      "metadata": {
        "id": "TFqz5OsbIbLY"
      },
      "source": [
        "# Q2: Simulated Annealing (100 Points)"
      ]
    },
    {
      "cell_type": "markdown",
      "metadata": {
        "id": "aHNruvVRIbLY"
      },
      "source": [
        "<font size=4>\n",
        "Author: Mohammad Mahdi Abootorabi\n",
        "\t\t\t<br/>\n",
        "                <font color=red>\n",
        "Please run all the cells.\n",
        "     </font>\n",
        "</font>\n",
        "                <br/>\n",
        "    </div>"
      ]
    },
    {
      "cell_type": "markdown",
      "metadata": {
        "id": "Q0w65q74IbLY"
      },
      "source": [
        "## Libraries"
      ]
    },
    {
      "cell_type": "code",
      "execution_count": 22,
      "metadata": {
        "id": "oXGttrYTIbLZ"
      },
      "outputs": [],
      "source": [
        "import numpy as np\n",
        "import random\n",
        "import matplotlib.pyplot as plt\n",
        "from tqdm import tqdm"
      ]
    },
    {
      "cell_type": "code",
      "execution_count": 23,
      "metadata": {
        "collectable": true,
        "id": "cTWjo8eSIbLZ"
      },
      "outputs": [],
      "source": [
        "# place for your custom functions here"
      ]
    },
    {
      "cell_type": "markdown",
      "metadata": {
        "id": "vCgsbtoVIbLZ"
      },
      "source": [
        "## Knapsack Problem"
      ]
    },
    {
      "cell_type": "markdown",
      "metadata": {
        "id": "FuLYsx6gIbLZ"
      },
      "source": [
        "In this problem, we will tackle the knapsack problem with using simulated annealing algorithm. You can find more detail about this problem [here](https://www.geeksforgeeks.org/0-1-knapsack-problem-dp-10/).\n"
      ]
    },
    {
      "cell_type": "markdown",
      "metadata": {
        "id": "RbS8I-6HIbLZ"
      },
      "source": [
        "To use local search algorithms, we must define our state-space. As the problem is about choosing a object or not, we define each state as a vector $S$ of size $n$ ( $n$ is total number of objects). \n",
        "\n",
        "$$\n",
        "S_i=   \\left\\{\n",
        "\\begin{array}{ll}\n",
        "      1 & \\text{object $i$ is selected} \\\\\n",
        "      0 & \\text{object $i$ is not selected}\n",
        "\\end{array} \n",
        "\\right.\n",
        "$$"
      ]
    },
    {
      "cell_type": "markdown",
      "metadata": {
        "id": "R2HWG1-wIbLZ"
      },
      "source": [
        "Write a function that generates a random state. i.e., it must return a boolean vector of size n. p is probablity of selecting an object. For example, if p=0.5, then the function must return a vector of size n in which each element is selected with 50% probability."
      ]
    },
    {
      "cell_type": "code",
      "execution_count": 24,
      "metadata": {
        "id": "aQjitEkkIbLa"
      },
      "outputs": [],
      "source": [
        "def random_state_generator(n, p=0.5):\n",
        "    ##################################################################\n",
        "    # (5 Points)                                                     #\n",
        "    # This function get input n (length) and probability of True for #\n",
        "    # each element of the vector (p) and generates and returns a     #\n",
        "    # random boolean vector (list) with length n.                    #\n",
        "    ##################################################################\n",
        "    vector1=[]\n",
        "    for i in range(n):\n",
        "      vector1.append(int((np.random.uniform(0, 1))>=0.5))\n",
        "    # YOUR CODE #\n",
        "    return vector1"
      ]
    },
    {
      "cell_type": "markdown",
      "metadata": {
        "id": "Ohl_Of0mIbLa"
      },
      "source": [
        "## "
      ]
    },
    {
      "cell_type": "markdown",
      "metadata": {
        "id": "NIrvbfjZIbLa"
      },
      "source": [
        "## Value Function\n",
        "\n",
        "Our Proposed Value function is:\n",
        "\n",
        "$$\n",
        "f(S) =   \\left\\{\n",
        "\\begin{array}{ll}\n",
        "      \\sum_{i=1}^{n} s_{i} v_{i} & \\text{if  $\\sum_{i=1}^{n} s_{i} w_{i} \\leq W $ } \\\\\n",
        "      0 & \\text{Otherwise}\n",
        "\\end{array} \n",
        "\\right.\n",
        "$$\n",
        "\n",
        "Note that: \n",
        "\n",
        "n = length of items\n",
        "\n",
        "$s_i$ = ith item of state S\n",
        "\n",
        "$v_i$ = ith value \n",
        "\n",
        "$w_i$ = ith weight \n",
        "\n",
        "$W$ = knapsack weight \n",
        "\n"
      ]
    },
    {
      "cell_type": "code",
      "execution_count": 25,
      "metadata": {
        "collectable": true,
        "id": "tQOWLG9FIbLb"
      },
      "outputs": [],
      "source": [
        "def value_function(W, weights, values, state):\n",
        "    ##################################################################\n",
        "    # (10 Points)                                                    #\n",
        "    # This function gets a state and values and weights and W,       #\n",
        "    # and calculates the value of this state                         #\n",
        "    ##################################################################\n",
        "    if (np.sum(np.multiply(weights,state))<=W):\n",
        "      return np.sum(np.multiply(values,state))\n",
        "    else:\n",
        "      return 0\n",
        "    # YOUR CODE #\n",
        "    pass"
      ]
    },
    {
      "cell_type": "markdown",
      "metadata": {
        "id": "UJP0g8uAIbLb"
      },
      "source": [
        "## Acceptance probability function\n",
        "\n",
        "the acceptance probability function calculates the probability of accepting a worse solution. It is defined as:\n",
        "$$\n",
        "P = e^{- \\frac{(f(S_{old}) - f(S_{new}))^{1.5}}{T} }\n",
        "$$"
      ]
    },
    {
      "cell_type": "code",
      "execution_count": 27,
      "metadata": {
        "id": "QRMCMgJGIbLb"
      },
      "outputs": [],
      "source": [
        "def prob_accept(state_value, next_state_value, temperature):\n",
        "    ##################################################################\n",
        "    # (15 Points)                                                    #\n",
        "    # This function gets a state value, a next state value,          #\n",
        "    # and the temperature and calculates the probability             #\n",
        "    # of accepting the next state based on the formula               #\n",
        "    # given in the assignment                                        #\n",
        "    # NOTE: Feel free to change the formula if you want to.          #\n",
        "    ##################################################################\n",
        "    P=np.exp(-1*np.power(np.sum(state_value)-np.sum(next_state_value),1.5)/temperature)\n",
        "    #here becuse we dont have the W and weights to calculate the function state so I put the sum of \n",
        "    # YOUR CODE #\n",
        "    return P"
      ]
    },
    {
      "cell_type": "markdown",
      "metadata": {
        "id": "HQVCC52MIbLb"
      },
      "source": [
        "## Neighbor state generator\n",
        "\n",
        "The neighbor state generator generates a neighbor state of the current state. Our neighbor state generator is defined as:\n",
        "\n",
        "1- Select a random index $i$ from $[1, n]$.\n",
        "\n",
        "2- Flip the value of $S_i$.\n",
        "\n",
        "3- With probablity of 'prob' flip the value of another random index $j$ from $[1, n]$.\n",
        "\n",
        "4- If this state is feasible(the sum of weights of selected objects is less than or equal to the knapsack weight), return this state. Otherwise, Continue from step 1.\n"
      ]
    },
    {
      "cell_type": "code",
      "execution_count": 28,
      "metadata": {
        "id": "Nnz9L6FzIbLc"
      },
      "outputs": [],
      "source": [
        "def neighbor_state_generator(state, W, weights, values, prob=0.5):\n",
        "    ############################################################################\n",
        "    # (15 Points)                                                              #\n",
        "    # This function gets a state, W, weights, values, and probability of       #\n",
        "    # flipping the second bit and generates a neighbor state                   #\n",
        "    # NOTE: You can use the value_function to check if the neighbor state is   #\n",
        "    # feasible or not.                                                         #\n",
        "    ############################################################################\n",
        "\n",
        "    # YOUR CODE #\n",
        "    pass"
      ]
    },
    {
      "cell_type": "markdown",
      "metadata": {
        "id": "kaBIFuoyIbLc"
      },
      "source": [
        "## Main function\n",
        "\n",
        "Now Implement the main 'anneal' function that performs the algorithm. Try to experiment with different initial T and $alpha$ values to get the best result. Also, your function must implement these two stop criteria:\n",
        "\n",
        "- If the number of iterations exceeded 'stopping_iter', stop.\n",
        "- If the temperature drops below 'stopping_temprature', stop."
      ]
    },
    {
      "cell_type": "code",
      "execution_count": null,
      "metadata": {
        "id": "tbCUAlMlIbLc"
      },
      "outputs": [],
      "source": [
        "def simulated_annealing(W, weights, values, stopping_temperature=1e-8, stopping_iter=2000, alpha=0.99, T=50, neighbour_prob=0.5, initial_state_true_prob=0.5):\n",
        "    ###########################################################################\n",
        "    # (30 Points)                                                             #\n",
        "    # Inputs:                                                                 #\n",
        "    # - W: maximum weight                                                     #\n",
        "    # - weights: list of weights                                              #\n",
        "    # - values: list of values                                                #\n",
        "    # - stopping_temperature: stopping temperature                            #\n",
        "    # - stopping_iter: stopping iteration                                     #\n",
        "    # - alpha: decay rate                                                     #\n",
        "    # - T: initial temperature                                                #\n",
        "    # - neighbour_prob: probability of flipping the second bit in neighbor    #\n",
        "    #                   state generator                                       #\n",
        "    # - initial_state_true_prob: probability of True for each element of the  #\n",
        "    #                           vector in random state generator              #\n",
        "    #                                                                         #\n",
        "    # Implement the simulated annealing algorithm in the following way:       #\n",
        "    # - Generate the initial state and set the best state to the initial      #\n",
        "    #   state and the best value to the value of the initial state            #\n",
        "    # - For each iteration:                                                   #\n",
        "    # -   Generate the neighbor state                                         #\n",
        "    # -   Calculate the value of the current state and the neighbor state     #\n",
        "    # -   If the value of the neighbor state is greater than the value of     #\n",
        "    #       the current state:                                                #\n",
        "    #       set the current state to the neighbor state                       #\n",
        "    # -   Else with use of prob_accept function set the current state to the  #\n",
        "    #      neighbor state with probability of accepting the next state        #\n",
        "    # -   Decrease the temperature by its decay rate (multiply in alpha)      #                          \n",
        "    # -   Update best values and best solutions if it is necessary            #\n",
        "    # -   Append the current value and current solution to the records        #\n",
        "    # - Return the best value, the best solution, and the records             #\n",
        "    ###########################################################################\n",
        "\n",
        "    \n",
        "    best_value = float('-inf')\n",
        "    best_solution = None\n",
        "    records = []\n",
        "\n",
        "    # YOUR CODE #\n",
        "\n",
        "    return best_value, best_solution, records"
      ]
    },
    {
      "cell_type": "markdown",
      "metadata": {
        "id": "UERdeON-IbLc"
      },
      "source": [
        "Now lets run it one a sample problem. You can change the parameters of the function to get better results."
      ]
    },
    {
      "cell_type": "code",
      "execution_count": null,
      "metadata": {
        "id": "vweQmTNTIbLc"
      },
      "outputs": [],
      "source": [
        "weights = [random.randint(0, 50) for _ in range(100)]\n",
        "values = [random.randint(0, 70) for _ in range(100)]\n",
        "W = 1000\n",
        "\n",
        "best_value , best_sol, records = simulated_annealing(W, weights, values, alpha=0.99, neighbour_prob=0.2, initial_state_true_prob=0.2)\n",
        "print(f'best value: {best_value}')\n",
        "print(f'weight used: {np.dot(best_sol, weights)}')\n",
        "\n",
        "# Note that at least you must reach 2400 values used in almost runs if your implementation is good enough."
      ]
    },
    {
      "cell_type": "code",
      "execution_count": null,
      "metadata": {
        "id": "XbVIMjGEIbLd"
      },
      "outputs": [],
      "source": [
        "########################################################\n",
        "# (10 Points)                                          #\n",
        "# Plot the value of states changes over iterations.    #\n",
        "########################################################\n",
        "\n",
        "# YOUR CODE #"
      ]
    },
    {
      "cell_type": "markdown",
      "metadata": {
        "id": "Tq16rIsIIbLd"
      },
      "source": [
        "For better evaluation now just test your algorithm on more examples and see the average value of the best solutions."
      ]
    },
    {
      "cell_type": "code",
      "execution_count": null,
      "metadata": {
        "id": "9Kt9djrFIbLd"
      },
      "outputs": [],
      "source": [
        "def test_algorithm(number_of_tests):\n",
        "    sum_best_values = 0\n",
        "    for i in range(number_of_tests):\n",
        "        weights = [random.randint(1, 50) for _ in range(100)]\n",
        "        values = [random.randint(0, 75) for _ in range(100)]\n",
        "        W = 1000\n",
        "        best_value, best_solution, _ = simulated_annealing(W, weights, values, alpha=0.99, neighbour_prob=0.2, initial_state_true_prob=0.2)\n",
        "        print(f'best value sample {i + 1}: {best_value}')\n",
        "        print(f'weight used sample {i + 1}: {np.dot(best_solution, weights)}')\n",
        "        sum_best_values += best_value\n",
        "    return sum_best_values / number_of_tests\n"
      ]
    },
    {
      "cell_type": "code",
      "execution_count": null,
      "metadata": {
        "id": "Mhba4wBHIbLd"
      },
      "outputs": [],
      "source": [
        "# (15 Points)\n",
        "# Reaching 2400 is good enough.\n",
        "\n",
        "print(f\"Average of best values that algorithm reached is {test_algorithm(20)}\")"
      ]
    }
  ],
  "metadata": {
    "kernelspec": {
      "display_name": "Python 3",
      "language": "python",
      "name": "python3"
    },
    "language_info": {
      "codemirror_mode": {
        "name": "ipython",
        "version": 3
      },
      "file_extension": ".py",
      "mimetype": "text/x-python",
      "name": "python",
      "nbconvert_exporter": "python",
      "pygments_lexer": "ipython3",
      "version": "3.11.1"
    },
    "vscode": {
      "interpreter": {
        "hash": "f72c34bb2e2aa76acaec51e5a386e2497fab8a5e682a38cfc0469e5a4ec35b0f"
      }
    },
    "colab": {
      "provenance": [],
      "include_colab_link": true
    }
  },
  "nbformat": 4,
  "nbformat_minor": 0
}