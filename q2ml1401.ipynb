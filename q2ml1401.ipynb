{
  "cells": [
    {
      "cell_type": "markdown",
      "metadata": {
        "id": "view-in-github",
        "colab_type": "text"
      },
      "source": [
        "<a href=\"https://colab.research.google.com/github/alirezakhaleghianaghizi/ml_1401/blob/main/q2ml1401.ipynb\" target=\"_parent\"><img src=\"https://colab.research.google.com/assets/colab-badge.svg\" alt=\"Open In Colab\"/></a>"
      ]
    },
    {
      "cell_type": "markdown",
      "source": [
        "علیرضا خالقی آناقیزی \n",
        "99101462\n",
        "\n",
        "سوال 2\n",
        "\n",
        "در قسمت زیر فایل های مورد نظر را در گوگل درایو ذخیره کردیم و سپسفایل های مورد نظر را لود کرده و دیتا های \n",
        "موجود را به ترتیب در ماتریس های \n",
        "\n",
        "SVT \n",
        "\n",
        "ذخیره کردیم."
      ],
      "metadata": {
        "id": "dRoBqOu19WBF"
      }
    },
    {
      "cell_type": "code",
      "source": [
        "import csv \n",
        "import numpy as np\n",
        "from google.colab import drive\n",
        "drive.mount('/content/drive')\n",
        "filename1='/content/drive/MyDrive/ml/test_data.npy' \n",
        "filename2='/content/drive/MyDrive/ml/train_data.npy' \n",
        "filename3='/content/drive/MyDrive/ml/validation_data.npy' \n"
      ],
      "metadata": {
        "id": "nA3eU5Sw5LmS",
        "outputId": "753d5220-8002-4ede-c3ab-630a25a0a7d3",
        "colab": {
          "base_uri": "https://localhost:8080/"
        }
      },
      "execution_count": 2,
      "outputs": [
        {
          "output_type": "stream",
          "name": "stdout",
          "text": [
            "Mounted at /content/drive\n"
          ]
        }
      ]
    },
    {
      "cell_type": "code",
      "source": [
        "T = np.load(filename1, mmap_mode='r')\n",
        "S = np.load(filename2, mmap_mode='r')\n",
        "V = np.load(filename3, mmap_mode='r')\n",
        "#print(T)\n",
        "print(str(len(T))+'\\n')\n",
        "#print(S)\n",
        "print(str(len(S))+'\\n')\n",
        "#print(V)\n",
        "print(str(len(V))+'\\n')"
      ],
      "metadata": {
        "id": "xsfzEDUs9Duk",
        "outputId": "562d8ca5-f647-43f4-e27f-7970079eafff",
        "colab": {
          "base_uri": "https://localhost:8080/"
        }
      },
      "execution_count": 3,
      "outputs": [
        {
          "output_type": "stream",
          "name": "stdout",
          "text": [
            "40\n",
            "\n",
            "30\n",
            "\n",
            "40\n",
            "\n"
          ]
        }
      ]
    },
    {
      "cell_type": "markdown",
      "source": [
        "حال با توجه به این که در حالت کلی میخواهیم یک ترکیب غیر خطی برای هر یک از متغییر ها بر اساس ورودی هایش بچینیم باید در رابطه ماتریسی موجود برای رگرسیون خطی ما یک \n",
        "\n",
        "ψn(X)=[ψ1n(x),ψ2n(x), ...]  =>  \n",
        "ψ1n(x)=[x1,..,x1ⁿ]ᵀ  "
      ],
      "metadata": {
        "id": "xYn1JE01BmXX"
      }
    },
    {
      "cell_type": "code",
      "source": [
        "def spiFunctionN(n,dataset) :\n",
        "  tra= np.array(dataset).T\n",
        "  xi=tra[0]\n",
        "  xi=np.array(xi,dtype=float)\n",
        "  spi=[]\n",
        "  for i in xi:\n",
        "    xin=[]\n",
        "    for j in range(n):\n",
        "      xin.append(pow(i,j))\n",
        "    xin=np.array(xin).T\n",
        "    xin=np.array(xin,dtype=float)  \n",
        "    spi.append(xin)\n",
        "  spi=np.array(spi).T\n",
        "  spi=np.array(spi,dtype=float) \n",
        "  return spi\n"
      ],
      "metadata": {
        "id": "UhbDVVzJBl6G"
      },
      "execution_count": 4,
      "outputs": []
    },
    {
      "cell_type": "markdown",
      "source": [
        "در بالا تابعی نوشتیم که با گرفتن عدد n  ماتریس سای مورد نظر را در خروجی میدهی.\n",
        "\n",
        "داده های مساله را داخل یک لیست قرار میدهیم تا با استفاده از رابطه ماتریسی ضرایب مورد نظر را به دست آوریم\n",
        "\n",
        "A=ψ*ψT\n",
        "B=ψ*y\n",
        "w*=invers(A)*B"
      ],
      "metadata": {
        "id": "zIxHCz74GX72"
      }
    },
    {
      "cell_type": "code",
      "source": [
        "tra= np.array(S).T\n",
        "yS=tra[1]\n",
        "yS=np.array(yS,dtype=float)\n",
        "\n",
        "def WofN(y,x):\n",
        "  xt=np.array(x).T\n",
        "  xt=np.array(xt,dtype=float)\n",
        "  A=np.dot(x,xt)\n",
        "  B=np.dot(x,y)\n",
        "  w=np.dot(np.linalg.inv(A),B)\n",
        "  print(\"w\"+str(len(x)))\n",
        "  print(w)\n",
        "  return(w)\n",
        "\n",
        "def calLsn(w,y,x):\n",
        "  M=(len(x[0]))\n",
        "  h=np.dot(w,x)\n",
        "  sum=0\n",
        "  max=0\n",
        "  for i in range(M):\n",
        "    sum=sum+pow((h[i]-y[i]),2)\n",
        "    if(pow((h[i]-y[i]),2)>max):\n",
        "      max=pow((h[i]-y[i]),2)\n",
        "  L=sum/M \n",
        "  print(\"L\"+str(len(x)))\n",
        "  print(L) \n",
        "  print(\"max\"+str(len(x)))\n",
        "  print(max)\n",
        "  return (L)\n",
        " "
      ],
      "metadata": {
        "id": "xs9bDXliGz5g"
      },
      "execution_count": 5,
      "outputs": []
    },
    {
      "cell_type": "markdown",
      "source": [
        "در باالا توابع مورد نظر برای محاسبه ضرایب و سپس با استفاده از ضرایب مقدار خطای محاسبه شده برای هر کدام از  درجه های مورد نظر به دست می آوریم"
      ],
      "metadata": {
        "id": "_5WiZTR-MB5q"
      }
    },
    {
      "cell_type": "code",
      "source": [
        "Ln=[]\n",
        "for i in range(15):\n",
        "  spi=spiFunctionN(i+1,S)\n",
        "  w=WofN(yS,spi)\n",
        "  li=calLsn(w,yS,spi)\n",
        "  Ln.append(li)\n",
        "print(Ln)  \n"
      ],
      "metadata": {
        "colab": {
          "base_uri": "https://localhost:8080/"
        },
        "id": "37h5g7CtMfoM",
        "outputId": "aed261fe-bad6-4af3-dfd7-84493504db06"
      },
      "execution_count": 6,
      "outputs": [
        {
          "output_type": "stream",
          "name": "stdout",
          "text": [
            "w1\n",
            "[0.29137662]\n",
            "L1\n",
            "0.7979479867850431\n",
            "max1\n",
            "7.733590754728554\n",
            "w2\n",
            "[ 0.3028272  -0.17115968]\n",
            "L2\n",
            "0.7618038655184619\n",
            "max2\n",
            "9.46172686931678\n",
            "w3\n",
            "[-0.47153391  0.02303306  0.61487693]\n",
            "L3\n",
            "0.25136046057337025\n",
            "max3\n",
            "2.3432089080028113\n",
            "w4\n",
            "[-0.44772657 -0.21431613  0.63302358  0.09907814]\n",
            "L4\n",
            "0.2405669239187683\n",
            "max4\n",
            "1.7025126525945165\n",
            "w5\n",
            "[-0.13999917 -0.28076096 -0.30608827  0.17859025  0.29402467]\n",
            "L5\n",
            "0.14807869905653698\n",
            "max5\n",
            "0.660694906977806\n",
            "w6\n",
            "[-0.14467118  0.28887691 -0.48285907 -0.52448461  0.37396026  0.17091315]\n",
            "L6\n",
            "0.12273473144420241\n",
            "max6\n",
            "0.8059519880494683\n",
            "w7\n",
            "[-0.32165221  0.21470849  0.79148165 -0.65529921 -0.67297717  0.23686129\n",
            "  0.20954853]\n",
            "L7\n",
            "0.08872308853571916\n",
            "max7\n",
            "0.43934321926410524\n",
            "w8\n",
            "[-0.32123719  0.20067219  0.79125773 -0.61887301 -0.67492274  0.21489276\n",
            "  0.21033192  0.00370995]\n",
            "L8\n",
            "0.08871246906527389\n",
            "max8\n",
            "0.4434734590429635\n",
            "w9\n",
            "[-0.57681491  0.45232021  3.65340331 -1.78466323 -4.91506455  1.06287354\n",
            "  2.19631879 -0.15970799 -0.29020886]\n",
            "L9\n",
            "0.044821130927609615\n",
            "max9\n",
            "0.23356368820533963\n",
            "w10\n",
            "[-0.57892105  0.54257662  3.63311701 -2.21789034 -4.80246025  1.55145311\n",
            "  2.11689584 -0.35701179 -0.27557899  0.02623102]\n",
            "L10\n",
            "0.04460210917781135\n",
            "max10\n",
            "0.22627654740411435\n",
            "w11\n",
            "[-0.64409067  0.76160279  4.67315065 -3.39106496 -7.48992015  3.15216438\n",
            "  4.56611709 -1.10790278 -1.17443454  0.13852473  0.11387094]\n",
            "L11\n",
            "0.04074881480622429\n",
            "max11\n",
            "0.17580260977245918\n",
            "w12\n",
            "[-0.63856231  0.39815215  4.95996604 -1.02640222 -8.96073347 -0.80544743\n",
            "  6.28163608  1.65676686 -1.89369753 -0.72013557  0.21326887  0.09762355]\n",
            "L12\n",
            "0.0387059355045898\n",
            "max12\n",
            "0.1965289671292663\n",
            "w13\n",
            "[-0.64336164  0.41712333  5.07553765 -1.1694923  -9.41976253 -0.47575538\n",
            "  6.90833452  1.37220632 -2.27723395 -0.61861195  0.32161322  0.0849361\n",
            " -0.01149012]\n",
            "L13\n",
            "0.03868862526422231\n",
            "max13\n",
            "0.19930892719064724\n",
            "w14\n",
            "[-0.64625694  0.7612794   4.58828065 -4.35681213 -6.44739884  7.83500266\n",
            "  1.5680098  -7.87948918  1.65874831  4.38864517 -0.94496052 -1.21680094\n",
            "  0.13598348  0.13006569]\n",
            "L14\n",
            "0.036033016282883176\n",
            "max14\n",
            "0.18036695292356583\n",
            "w15\n",
            "[-5.55166136e-01  3.03602744e-01  2.08760459e+00 -1.80707006e-02\n",
            "  5.69266788e+00 -5.02239720e+00 -2.01056181e+01  7.70105464e+00\n",
            "  2.04959377e+01 -4.50758961e+00 -9.53877260e+00  1.17582104e+00\n",
            "  2.11221158e+00 -1.14185892e-01 -1.80381398e-01]\n",
            "L15\n",
            "0.03423679005810905\n",
            "max15\n",
            "0.24269567097962136\n",
            "[0.7979479867850431, 0.7618038655184619, 0.25136046057337025, 0.2405669239187683, 0.14807869905653698, 0.12273473144420241, 0.08872308853571916, 0.08871246906527389, 0.044821130927609615, 0.04460210917781135, 0.04074881480622429, 0.0387059355045898, 0.03868862526422231, 0.036033016282883176, 0.03423679005810905]\n"
          ]
        }
      ]
    },
    {
      "cell_type": "markdown",
      "source": [
        "رسم نمودار"
      ],
      "metadata": {
        "id": "UEBxGLJTSxM-"
      }
    },
    {
      "cell_type": "code",
      "source": [
        "import matplotlib.pyplot as plt\n",
        "xaxis=[]\n",
        "for i in range(15):\n",
        "  xaxis.append(i+1)\n",
        "xpoints = np.array(xaxis)\n",
        "ypoints = np.array(Ln)\n",
        "plt.xlabel(\"n\")\n",
        "plt.ylabel(\"Ln\")\n",
        "plt.plot(xpoints, ypoints)\n",
        "plt.show()"
      ],
      "metadata": {
        "colab": {
          "base_uri": "https://localhost:8080/",
          "height": 279
        },
        "id": "B-musf_TSwE-",
        "outputId": "b973b0a5-df15-40b7-b5d2-cdfbdd8581ba"
      },
      "execution_count": 14,
      "outputs": [
        {
          "output_type": "display_data",
          "data": {
            "text/plain": [
              "<Figure size 432x288 with 1 Axes>"
            ],
            "image/png": "[encoded data removed]"
          },
          "metadata": {
            "needs_background": "light"
          }
        }
      ]
    },
    {
      "cell_type": "markdown",
      "source": [],
      "metadata": {
        "id": "4xUsPoF_Sv1O"
      }
    }
  ],
  "metadata": {
    "colab": {
      "toc_visible": true,
      "provenance": [],
      "include_colab_link": true
    },
    "kernelspec": {
      "display_name": "Python 3",
      "name": "python3"
    }
  },
  "nbformat": 4,
  "nbformat_minor": 0
}