{
  "cells": [
    {
      "cell_type": "markdown",
      "metadata": {
        "id": "view-in-github",
        "colab_type": "text"
      },
      "source": [
        "<a href=\"https://colab.research.google.com/github/alirezakhaleghianaghizi/ml_1401/blob/main/q2ml1401.ipynb\" target=\"_parent\"><img src=\"https://colab.research.google.com/assets/colab-badge.svg\" alt=\"Open In Colab\"/></a>"
      ]
    },
    {
      "cell_type": "markdown",
      "source": [
        "علیرضا خالقی آناقیزی \n",
        "99101462\n",
        "\n",
        "سوال 2\n",
        "\n",
        "در قسمت زیر فایل های مورد نظر را در گوگل درایو ذخیره کردیم و سپسفایل های مورد نظر را لود کرده و دیتا های \n",
        "موجود را به ترتیب در ماتریس های \n",
        "\n",
        "SVT \n",
        "\n",
        "ذخیره کردیم."
      ],
      "metadata": {
        "id": "dRoBqOu19WBF"
      }
    },
    {
      "cell_type": "code",
      "source": [
        "import csv \n",
        "import numpy as np\n",
        "from google.colab import drive\n",
        "drive.mount('/content/drive')\n",
        "filename1='/content/drive/MyDrive/ml/test_data.npy' \n",
        "filename2='/content/drive/MyDrive/ml/train_data.npy' \n",
        "filename3='/content/drive/MyDrive/ml/validation_data.npy' \n"
      ],
      "metadata": {
        "id": "nA3eU5Sw5LmS",
        "outputId": "62c59c16-a9af-4da4-e66f-3b2323dedca0",
        "colab": {
          "base_uri": "https://localhost:8080/"
        }
      },
      "execution_count": 1,
      "outputs": [
        {
          "output_type": "stream",
          "name": "stdout",
          "text": [
            "Mounted at /content/drive\n"
          ]
        }
      ]
    },
    {
      "cell_type": "code",
      "source": [
        "T = np.load(filename1, mmap_mode='r')\n",
        "S = np.load(filename2, mmap_mode='r')\n",
        "V = np.load(filename3, mmap_mode='r')\n",
        "#print(T)\n",
        "print(str(len(T))+'\\n')\n",
        "#print(S)\n",
        "print(str(len(S))+'\\n')\n",
        "#print(V)\n",
        "print(str(len(V))+'\\n')"
      ],
      "metadata": {
        "id": "xsfzEDUs9Duk",
        "outputId": "53f44fc8-0706-47c9-a5db-ee053370d82b",
        "colab": {
          "base_uri": "https://localhost:8080/"
        }
      },
      "execution_count": 14,
      "outputs": [
        {
          "output_type": "stream",
          "name": "stdout",
          "text": [
            "40\n",
            "\n",
            "30\n",
            "\n",
            "40\n",
            "\n"
          ]
        }
      ]
    },
    {
      "cell_type": "markdown",
      "source": [
        "حال با توجه به این که در حالت کلی میخواهیم یک ترکیب غیر خطی برای هر یک از متغییر ها بر اساس ورودی هایش بچینیم باید در رابطه ماتریسی موجود برای رگرسیون خطی ما یک \n",
        "\n",
        "ψn(X)=[ψ1n(x),ψ2n(x), ...]  =>  \n",
        "ψ1n(x)=[x1,..,x1ⁿ]ᵀ  "
      ],
      "metadata": {
        "id": "xYn1JE01BmXX"
      }
    },
    {
      "cell_type": "code",
      "source": [
        "def spiFunctionN(n,dataset) :\n",
        "  tra= np.array(dataset).T\n",
        "  xi=tra[0]\n",
        "  xi=np.array(xi,dtype=float)\n",
        "  spi=[]\n",
        "  for i in xi:\n",
        "    xin=[]\n",
        "    for j in range(n):\n",
        "      xin.append(pow(i,j))\n",
        "    xin=np.array(xin).T\n",
        "    xin=np.array(xin,dtype=float)  \n",
        "    spi.append(xin)\n",
        "  spi=np.array(spi).T\n",
        "  spi=np.array(spi,dtype=float) \n",
        "  return spi\n"
      ],
      "metadata": {
        "id": "UhbDVVzJBl6G"
      },
      "execution_count": 3,
      "outputs": []
    },
    {
      "cell_type": "markdown",
      "source": [
        "در بالا تابعی نوشتیم که با گرفتن عدد n  ماتریس سای مورد نظر را در خروجی میدهی.\n",
        "\n",
        "داده های مساله را داخل یک لیست قرار میدهیم تا با استفاده از رابطه ماتریسی ضرایب مورد نظر را به دست آوریم\n",
        "\n",
        "A=ψ*ψT\n",
        "B=ψ*y\n",
        "w*=invers(A)*B"
      ],
      "metadata": {
        "id": "zIxHCz74GX72"
      }
    },
    {
      "cell_type": "code",
      "source": [
        "tra= np.array(S).T\n",
        "yS=tra[1]\n",
        "yS=np.array(yS,dtype=float)\n",
        "\n",
        "def WofN(y,x):\n",
        "  xt=np.array(x).T\n",
        "  xt=np.array(xt,dtype=float)\n",
        "  A=np.dot(x,xt)\n",
        "  B=np.dot(x,y)\n",
        "  w=np.dot(np.linalg.inv(A),B)\n",
        "  print(\"w\"+str(len(x)))\n",
        "  print(w)\n",
        "  return(w)\n",
        "\n",
        "def calLsn(w,y,x):\n",
        "  M=(len(x[0]))\n",
        "  h=np.dot(w,x)\n",
        "  sum=0\n",
        "  max=0\n",
        "  for i in range(M):\n",
        "    sum=sum+pow((h[i]-y[i]),2)\n",
        "    if(pow((h[i]-y[i]),2)>max):\n",
        "      max=pow((h[i]-y[i]),2)\n",
        "  L=sum/M \n",
        "  print(\"L\"+str(len(x)))\n",
        "  print(L) \n",
        "  print(\"max\"+str(len(x)))\n",
        "  print(max)\n",
        "  return (L)\n",
        " "
      ],
      "metadata": {
        "id": "xs9bDXliGz5g"
      },
      "execution_count": 4,
      "outputs": []
    },
    {
      "cell_type": "markdown",
      "source": [
        "در باالا توابع مورد نظر برای محاسبه ضرایب و سپس با استفاده از ضرایب مقدار خطای محاسبه شده برای هر کدام از  درجه های مورد نظر به دست می آوریم"
      ],
      "metadata": {
        "id": "_5WiZTR-MB5q"
      }
    },
    {
      "cell_type": "code",
      "source": [
        "Ln=[]\n",
        "for i in range(15):\n",
        "  spi=spiFunctionN(i+1,S)\n",
        "  w=WofN(yS,spi)\n",
        "  li=calLsn(w,yS,spi)\n",
        "  Ln.append(li)\n",
        "print(Ln)  \n"
      ],
      "metadata": {
        "colab": {
          "base_uri": "https://localhost:8080/"
        },
        "id": "37h5g7CtMfoM",
        "outputId": "67bce1ac-d03b-413f-ed5a-81e6ef326d52"
      },
      "execution_count": 5,
      "outputs": [
        {
          "output_type": "stream",
          "name": "stdout",
          "text": [
            "w1\n",
            "[0.29137662]\n",
            "L1\n",
            "0.7979479867850431\n",
            "max1\n",
            "7.733590754728554\n",
            "w2\n",
            "[ 0.3028272  -0.17115968]\n",
            "L2\n",
            "0.7618038655184619\n",
            "max2\n",
            "9.46172686931678\n",
            "w3\n",
            "[-0.47153391  0.02303306  0.61487693]\n",
            "L3\n",
            "0.25136046057337025\n",
            "max3\n",
            "2.3432089080028113\n",
            "w4\n",
            "[-0.44772657 -0.21431613  0.63302358  0.09907814]\n",
            "L4\n",
            "0.2405669239187683\n",
            "max4\n",
            "1.7025126525945165\n",
            "w5\n",
            "[-0.13999917 -0.28076096 -0.30608827  0.17859025  0.29402467]\n",
            "L5\n",
            "0.14807869905653698\n",
            "max5\n",
            "0.660694906977806\n",
            "w6\n",
            "[-0.14467118  0.28887691 -0.48285907 -0.52448461  0.37396026  0.17091315]\n",
            "L6\n",
            "0.12273473144420241\n",
            "max6\n",
            "0.8059519880494683\n",
            "w7\n",
            "[-0.32165221  0.21470849  0.79148165 -0.65529921 -0.67297717  0.23686129\n",
            "  0.20954853]\n",
            "L7\n",
            "0.08872308853571916\n",
            "max7\n",
            "0.43934321926410524\n",
            "w8\n",
            "[-0.32123719  0.20067219  0.79125773 -0.61887301 -0.67492274  0.21489276\n",
            "  0.21033192  0.00370995]\n",
            "L8\n",
            "0.08871246906527389\n",
            "max8\n",
            "0.4434734590429635\n",
            "w9\n",
            "[-0.57681491  0.45232021  3.65340331 -1.78466323 -4.91506455  1.06287354\n",
            "  2.19631879 -0.15970799 -0.29020886]\n",
            "L9\n",
            "0.044821130927609615\n",
            "max9\n",
            "0.23356368820533963\n",
            "w10\n",
            "[-0.57892105  0.54257662  3.63311701 -2.21789034 -4.80246025  1.55145311\n",
            "  2.11689584 -0.35701179 -0.27557899  0.02623102]\n",
            "L10\n",
            "0.04460210917781135\n",
            "max10\n",
            "0.22627654740411435\n",
            "w11\n",
            "[-0.64409067  0.76160279  4.67315065 -3.39106496 -7.48992015  3.15216438\n",
            "  4.56611709 -1.10790278 -1.17443454  0.13852473  0.11387094]\n",
            "L11\n",
            "0.04074881480622429\n",
            "max11\n",
            "0.17580260977245918\n",
            "w12\n",
            "[-0.63856231  0.39815215  4.95996604 -1.02640222 -8.96073347 -0.80544743\n",
            "  6.28163608  1.65676686 -1.89369753 -0.72013557  0.21326887  0.09762355]\n",
            "L12\n",
            "0.0387059355045898\n",
            "max12\n",
            "0.1965289671292663\n",
            "w13\n",
            "[-0.64336164  0.41712333  5.07553765 -1.1694923  -9.41976253 -0.47575538\n",
            "  6.90833452  1.37220632 -2.27723395 -0.61861195  0.32161322  0.0849361\n",
            " -0.01149012]\n",
            "L13\n",
            "0.03868862526422231\n",
            "max13\n",
            "0.19930892719064724\n",
            "w14\n",
            "[-0.64625694  0.7612794   4.58828065 -4.35681213 -6.44739884  7.83500266\n",
            "  1.5680098  -7.87948918  1.65874831  4.38864517 -0.94496052 -1.21680094\n",
            "  0.13598348  0.13006569]\n",
            "L14\n",
            "0.036033016282883176\n",
            "max14\n",
            "0.18036695292356583\n",
            "w15\n",
            "[-5.55166136e-01  3.03602744e-01  2.08760459e+00 -1.80707006e-02\n",
            "  5.69266788e+00 -5.02239720e+00 -2.01056181e+01  7.70105464e+00\n",
            "  2.04959377e+01 -4.50758961e+00 -9.53877260e+00  1.17582104e+00\n",
            "  2.11221158e+00 -1.14185892e-01 -1.80381398e-01]\n",
            "L15\n",
            "0.03423679005810905\n",
            "max15\n",
            "0.24269567097962136\n",
            "[0.7979479867850431, 0.7618038655184619, 0.25136046057337025, 0.2405669239187683, 0.14807869905653698, 0.12273473144420241, 0.08872308853571916, 0.08871246906527389, 0.044821130927609615, 0.04460210917781135, 0.04074881480622429, 0.0387059355045898, 0.03868862526422231, 0.036033016282883176, 0.03423679005810905]\n"
          ]
        }
      ]
    },
    {
      "cell_type": "markdown",
      "source": [
        "رسم نمودار"
      ],
      "metadata": {
        "id": "UEBxGLJTSxM-"
      }
    },
    {
      "cell_type": "code",
      "source": [
        "import matplotlib.pyplot as plt\n",
        "xaxis=[]\n",
        "for i in range(15):\n",
        "  xaxis.append(i+1)\n",
        "xpoints = np.array(xaxis)\n",
        "ypoints = np.array(Ln)\n",
        "plt.xlabel(\"n\")\n",
        "plt.ylabel(\"LnS\")\n",
        "plt.plot(xpoints, ypoints)\n",
        "plt.show()"
      ],
      "metadata": {
        "colab": {
          "base_uri": "https://localhost:8080/",
          "height": 279
        },
        "id": "B-musf_TSwE-",
        "outputId": "3a4eaf54-2321-4793-86b5-e676c809c6d2"
      },
      "execution_count": 6,
      "outputs": [
        {
          "output_type": "display_data",
          "data": {
            "text/plain": [
              "<Figure size 432x288 with 1 Axes>"
            ],
            "image/png": "[encoded data removed]"
          },
          "metadata": {
            "needs_background": "light"
          }
        }
      ]
    },
    {
      "cell_type": "markdown",
      "source": [
        "(ب\n",
        "\n",
        "دلیل اینکه ما مقایسه  \n",
        "\n",
        "n \n",
        "\n",
        "و \n",
        "\n",
        "Ls\n",
        "\n",
        "مقایسه خوبی برای چند جمله ای نیست به این خاطر است که ما با پدیده \n",
        "\n",
        "overfitting\n",
        "\n",
        "مواجه میشویم و در این صورت با زیاد کردن درجه های ما یادگیری به گونه ای میشود که برای داده های تمرینی خطا صفر میشود ولی خطای واقعی ما بسیار زیاد میشود."
      ],
      "metadata": {
        "id": "4vJeyS5WcS0X"
      }
    },
    {
      "cell_type": "markdown",
      "source": [
        "حال مقدار خطا یعنی همان مراحل قبل را برای دیتا های \n",
        "\n",
        "V \n",
        "\n",
        "به دست میآوریم\n",
        "\n"
      ],
      "metadata": {
        "id": "4xUsPoF_Sv1O"
      }
    },
    {
      "cell_type": "code",
      "source": [
        "tra= np.array(V).T\n",
        "yV=tra[1]\n",
        "yV=np.array(yV,dtype=float)\n",
        "Ln=[]\n",
        "for i in range(15):\n",
        "  spi=spiFunctionN(i+1,S)\n",
        "  w=WofN(yS,spi)\n",
        "  li=calLsn(w,yV,spi)\n",
        "  Ln.append(li)\n",
        "print(Ln)\n",
        "import matplotlib.pyplot as plt\n",
        "xaxis=[]\n",
        "for i in range(15):\n",
        "  xaxis.append(i+1)\n",
        "xpoints = np.array(xaxis)\n",
        "ypoints = np.array(Ln)\n",
        "plt.xlabel(\"n\")\n",
        "plt.ylabel(\"LnV\")\n",
        "plt.plot(xpoints, ypoints)\n",
        "plt.show()"
      ],
      "metadata": {
        "colab": {
          "base_uri": "https://localhost:8080/",
          "height": 1000
        },
        "id": "8sKTECoUdEDW",
        "outputId": "f72508b9-1d02-4fa0-fedb-b7cd9d89a059"
      },
      "execution_count": 7,
      "outputs": [
        {
          "output_type": "stream",
          "name": "stdout",
          "text": [
            "w1\n",
            "[0.29137662]\n",
            "L1\n",
            "1.0467047096161974\n",
            "max1\n",
            "9.541411197081137\n",
            "w2\n",
            "[ 0.3028272  -0.17115968]\n",
            "L2\n",
            "1.0313946726766463\n",
            "max2\n",
            "7.648637443324376\n",
            "w3\n",
            "[-0.47153391  0.02303306  0.61487693]\n",
            "L3\n",
            "1.0559164941954282\n",
            "max3\n",
            "6.830606966773695\n",
            "w4\n",
            "[-0.44772657 -0.21431613  0.63302358  0.09907814]\n",
            "L4\n",
            "1.111351493995335\n",
            "max4\n",
            "6.8343179533913085\n",
            "w5\n",
            "[-0.13999917 -0.28076096 -0.30608827  0.17859025  0.29402467]\n",
            "L5\n",
            "0.9294967500766025\n",
            "max5\n",
            "6.117189161301345\n",
            "w6\n",
            "[-0.14467118  0.28887691 -0.48285907 -0.52448461  0.37396026  0.17091315]\n",
            "L6\n",
            "0.9248730663655251\n",
            "max6\n",
            "5.412199233662642\n",
            "w7\n",
            "[-0.32165221  0.21470849  0.79148165 -0.65529921 -0.67297717  0.23686129\n",
            "  0.20954853]\n",
            "L7\n",
            "1.0613130032079585\n",
            "max7\n",
            "6.07595949602515\n",
            "w8\n",
            "[-0.32123719  0.20067219  0.79125773 -0.61887301 -0.67492274  0.21489276\n",
            "  0.21033192  0.00370995]\n",
            "L8\n",
            "1.0605992955308186\n",
            "max8\n",
            "6.065529023281621\n",
            "w9\n",
            "[-0.57681491  0.45232021  3.65340331 -1.78466323 -4.91506455  1.06287354\n",
            "  2.19631879 -0.15970799 -0.29020886]\n",
            "L9\n",
            "1.0587298510326255\n",
            "max9\n",
            "6.986928710167147\n",
            "w10\n",
            "[-0.57892105  0.54257662  3.63311701 -2.21789034 -4.80246025  1.55145311\n",
            "  2.11689584 -0.35701179 -0.27557899  0.02623102]\n",
            "L10\n",
            "1.0543676847341816\n",
            "max10\n",
            "6.951885093096432\n",
            "w11\n",
            "[-0.64409067  0.76160279  4.67315065 -3.39106496 -7.48992015  3.15216438\n",
            "  4.56611709 -1.10790278 -1.17443454  0.13852473  0.11387094]\n",
            "L11\n",
            "1.0559132019245963\n",
            "max11\n",
            "7.124416401300074\n",
            "w12\n",
            "[-0.63856231  0.39815215  4.95996604 -1.02640222 -8.96073347 -0.80544743\n",
            "  6.28163608  1.65676686 -1.89369753 -0.72013557  0.21326887  0.09762355]\n",
            "L12\n",
            "1.0644986475403313\n",
            "max12\n",
            "7.268577563297618\n",
            "w13\n",
            "[-0.64336164  0.41712333  5.07553765 -1.1694923  -9.41976253 -0.47575538\n",
            "  6.90833452  1.37220632 -2.27723395 -0.61861195  0.32161322  0.0849361\n",
            " -0.01149012]\n",
            "L13\n",
            "1.063334825179678\n",
            "max13\n",
            "7.278091600574865\n",
            "w14\n",
            "[-0.64625694  0.7612794   4.58828065 -4.35681213 -6.44739884  7.83500266\n",
            "  1.5680098  -7.87948918  1.65874831  4.38864517 -0.94496052 -1.21680094\n",
            "  0.13598348  0.13006569]\n",
            "L14\n",
            "1.0689308714262018\n",
            "max14\n",
            "7.146083644193603\n",
            "w15\n",
            "[-5.55166136e-01  3.03602744e-01  2.08760459e+00 -1.80707006e-02\n",
            "  5.69266788e+00 -5.02239720e+00 -2.01056181e+01  7.70105464e+00\n",
            "  2.04959377e+01 -4.50758961e+00 -9.53877260e+00  1.17582104e+00\n",
            "  2.11221158e+00 -1.14185892e-01 -1.80381398e-01]\n",
            "L15\n",
            "1.0797755107773925\n",
            "max15\n",
            "7.028516764518741\n",
            "[1.0467047096161974, 1.0313946726766463, 1.0559164941954282, 1.111351493995335, 0.9294967500766025, 0.9248730663655251, 1.0613130032079585, 1.0605992955308186, 1.0587298510326255, 1.0543676847341816, 1.0559132019245963, 1.0644986475403313, 1.063334825179678, 1.0689308714262018, 1.0797755107773925]\n"
          ]
        },
        {
          "output_type": "display_data",
          "data": {
            "text/plain": [
              "<Figure size 432x288 with 1 Axes>"
            ],
            "image/png": "[encoded data removed]"
          },
          "metadata": {
            "needs_background": "light"
          }
        }
      ]
    },
    {
      "cell_type": "markdown",
      "source": [
        "(ج\n",
        "\n",
        "با توجه به نمودار های بالا که در هردو ابتدا با بیشتر شدن درجه چند جمله ای ها مقدار خطا کمتر شده است ولی در یک درجه وسطی مقدار داده های ولیدیشن کمینه شده و از آن جا به بعد مقدار خطای ما بسیار زیاد شده است و این همان دلیل اور فیتینگ میباشد یعنی در درجه های بیشتر لزوما مقدار خطای ما زیاد تر نشده است."
      ],
      "metadata": {
        "id": "tzabqWpdew0L"
      }
    },
    {
      "cell_type": "markdown",
      "source": [
        "(د\n",
        "\n",
        "با توجه به این که مقدار خطا در هر دو نمودار به ازای درجه 6  در کمترین مقدار میباشد پس درجه 6 انتخاب میکنیم .\n",
        "هردو نمودار میتوانند مورد بررسی قرار بگیرند چون در نمودار اولی نیز از درجه 6 به بعد خطای ما تقریبا ثابت مانده است ولی در نمودار \n",
        "\n",
        "VT\n",
        "\n",
        "به صورت کاملا واضح میبینیم که در درجه 6 کمینه خطا را داریم در و در درجه های دیگر خطای ما بیشتر میباشد.\n",
        "\n",
        "پس ما نمودار \n",
        "\n",
        "V\n",
        "\n",
        "را مورد قیاس برای درجه بندی مان در نظر میگیریم.\n",
        "\n"
      ],
      "metadata": {
        "id": "vBeX_YCzgOSS"
      }
    },
    {
      "cell_type": "markdown",
      "source": [
        "(ه\n",
        "\n",
        "حالا باید همان مراحل را برای دیتا تست انجام دهیم فقط درجه 6 ام را مورد بررسی قرار میدهیم."
      ],
      "metadata": {
        "id": "XCHs9_ZpxNzz"
      }
    },
    {
      "cell_type": "code",
      "source": [
        "tra= np.array(T).T\n",
        "yT=tra[1]\n",
        "yT=np.array(yT,dtype=float)\n",
        "print(len(yT))\n",
        "spi=spiFunctionN(6,T)\n",
        "w=WofN(yT,spi)\n",
        "LnT=calLsn(w,yT,spi)\n",
        "print(LnT)\n"
      ],
      "metadata": {
        "colab": {
          "base_uri": "https://localhost:8080/"
        },
        "id": "Jt8YCpz3xNXc",
        "outputId": "86f4836b-33c3-42f0-a23a-23392ca0d54e"
      },
      "execution_count": 17,
      "outputs": [
        {
          "output_type": "stream",
          "name": "stdout",
          "text": [
            "40\n",
            "w6\n",
            "[ 0.32770484 -0.32982267 -0.66022727 -0.12102316  0.33512011  0.10992922]\n",
            "L6\n",
            "0.18942841610204814\n",
            "max6\n",
            "1.0642724299884108\n",
            "0.18942841610204814\n"
          ]
        }
      ]
    },
    {
      "cell_type": "markdown",
      "source": [
        "در بالا دیدیم مقدار خطا برابر 0.18 میباشد که این همان تخمین با استفاده از دیتا های تست است"
      ],
      "metadata": {
        "id": "Kr_926aj3HGv"
      }
    },
    {
      "cell_type": "code",
      "source": [
        "Ln=[]\n",
        "for i in range(15):\n",
        "  spi=spiFunctionN(i+1,T)\n",
        "  w=WofN(yT,spi)\n",
        "  li=calLsn(w,yT,spi)\n",
        "  Ln.append(li)\n",
        "print(Ln)\n",
        "import matplotlib.pyplot as plt\n",
        "xaxis=[]\n",
        "for i in range(15):\n",
        "  xaxis.append(i+1)\n",
        "xpoints = np.array(xaxis)\n",
        "ypoints = np.array(Ln)\n",
        "plt.xlabel(\"n\")\n",
        "plt.ylabel(\"LnT\")\n",
        "plt.plot(xpoints, ypoints)\n",
        "plt.show()"
      ],
      "metadata": {
        "colab": {
          "base_uri": "https://localhost:8080/",
          "height": 1000
        },
        "id": "AiewXYc7zPAz",
        "outputId": "39164345-e4c0-442d-abdf-c4e079c1d0e8"
      },
      "execution_count": 18,
      "outputs": [
        {
          "output_type": "stream",
          "name": "stdout",
          "text": [
            "w1\n",
            "[0.41888897]\n",
            "L1\n",
            "0.631713153414178\n",
            "max1\n",
            "8.183726305405353\n",
            "w2\n",
            "[0.42002376 0.01315719]\n",
            "L2\n",
            "0.63148961314412\n",
            "max2\n",
            "8.035217242423128\n",
            "w3\n",
            "[-0.12802012  0.06096709  0.42515415]\n",
            "L3\n",
            "0.4177051986878938\n",
            "max3\n",
            "3.299091312334785\n",
            "w4\n",
            "[-0.12605028 -0.51464805  0.43693874  0.26016376]\n",
            "L4\n",
            "0.325904636371392\n",
            "max4\n",
            "2.769732953581116\n",
            "w5\n",
            "[ 0.36062636 -0.70708619 -0.66473119  0.34399504  0.32887967]\n",
            "L5\n",
            "0.20416089452414724\n",
            "max5\n",
            "1.353432679251108\n",
            "w6\n",
            "[ 0.32770484 -0.32982267 -0.66022727 -0.12102316  0.33512011  0.10992922]\n",
            "L6\n",
            "0.18942841610204814\n",
            "max6\n",
            "1.0642724299884108\n",
            "w7\n",
            "[ 0.09007779 -0.21945441  0.36341219 -0.2314291  -0.43367059  0.1362009\n",
            "  0.14488508]\n",
            "L7\n",
            "0.16657993694842568\n",
            "max7\n",
            "1.0458802328343153\n",
            "w8\n",
            "[ 0.01766753  0.61637119  0.34657668 -2.14231555 -0.37407357  1.22481031\n",
            "  0.12872011 -0.17515366]\n",
            "L8\n",
            "0.1353626118285562\n",
            "max8\n",
            "0.7198299280699364\n",
            "w9\n",
            "[-0.41945578  0.68892434  3.59854792 -2.34406753 -4.91099513  1.35380129\n",
            "  2.17256493 -0.19884311 -0.28581653]\n",
            "L9\n",
            "0.071427894499552\n",
            "max9\n",
            "0.48765997487313995\n",
            "w10\n",
            "[-4.21292528e-01  7.08685909e-01  3.60203096e+00 -2.41909256e+00\n",
            " -4.91392537e+00  1.43206589e+00  2.17355835e+00 -2.28817411e-01\n",
            " -2.85918241e-01  3.78027366e-03]\n",
            "L10\n",
            "0.07141952862266761\n",
            "max10\n",
            "0.4906556226424544\n",
            "w11\n",
            "[-4.82991966e-01  6.76160199e-01  4.35818590e+00 -2.33596114e+00\n",
            " -6.66398331e+00  1.34384210e+00  3.61207901e+00 -1.93193880e-01\n",
            " -7.65228134e-01 -7.99805349e-04  5.52478358e-02]\n",
            "L11\n",
            "0.0700843847722916\n",
            "max11\n",
            "0.5225084665823021\n",
            "w12\n",
            "[-0.46893407  0.42963457  4.34038588 -0.94232305 -6.6652552  -0.95741349\n",
            "  3.60921314  1.36550238 -0.76099073 -0.4599739   0.05445449  0.04870144]\n",
            "L12\n",
            "0.06925196841238235\n",
            "max12\n",
            "0.5075657005111206\n",
            "w13\n",
            "[-0.39563934  0.47607975  3.04236422 -0.98424656 -2.29746661 -0.99666853\n",
            " -1.899638    1.41423537  2.38925742 -0.47564105 -0.7726379   0.0503626\n",
            "  0.08083951]\n",
            "L13\n",
            "0.06710838463069613\n",
            "max13\n",
            "0.4593299034158895\n",
            "w14\n",
            "[-0.39841716  0.62070326  2.99424164 -2.06519406 -2.07030205  1.47574462\n",
            " -2.21270722 -1.05425092  2.57522405  0.72762823 -0.82251293 -0.23093772\n",
            "  0.08579225  0.02520094]\n",
            "L14\n",
            "0.06690509909818522\n",
            "max14\n",
            "0.4569704046622517\n",
            "w15\n",
            "[ -0.318286     0.49659131   1.20071801  -0.58169785   5.92513638\n",
            "  -2.46113945 -16.07515918   3.18283549  14.11835632  -1.44394732\n",
            "  -5.75985904   0.29663556   1.1308557   -0.02357272  -0.08661161]\n",
            "L15\n",
            "0.06499970008133645\n",
            "max15\n",
            "0.41552775213438853\n",
            "[0.631713153414178, 0.63148961314412, 0.4177051986878938, 0.325904636371392, 0.20416089452414724, 0.18942841610204814, 0.16657993694842568, 0.1353626118285562, 0.071427894499552, 0.07141952862266761, 0.0700843847722916, 0.06925196841238235, 0.06710838463069613, 0.06690509909818522, 0.06499970008133645]\n"
          ]
        },
        {
          "output_type": "display_data",
          "data": {
            "text/plain": [
              "<Figure size 432x288 with 1 Axes>"
            ],
            "image/png": "[encoded data removed]"
          },
          "metadata": {
            "needs_background": "light"
          }
        }
      ]
    },
    {
      "cell_type": "markdown",
      "source": [
        "(و\n",
        "\n",
        "در حالت کلی ما بعد از استفاده از داده های تمرین نیاز داریم تا ببینیم چه ضرایبی مورد پسند میباشند و عملکرد مناسب تری دارند در نتیجه یک سری دیتا هایی را میگیریم و آن ها را استفاده میکنیم تا بتوانیم ببینیم عملکرد مدل های به دست آمده روی دیتا های جدید به چه گونه است .\n",
        "سپس با توجه به عمل کرد مدل ها روی دیتا ها یک مدل را به عنوان بهترین مدل به دست می آوریم .\n",
        "سپس برای مدلی که به دست آوردیم باید یک سری دیتا های جدید به دست آوریم و روی آن خطای مدل را اندازه گیری میکنیم \n",
        "در واقع دیتا های ولیدیشن برای به دست آوردن بهترین مدل استفاده میشود ولی نمیتوان دیگر از آن برای حساب خطای مدل استفاده کنیم."
      ],
      "metadata": {
        "id": "yOidheli0fY2"
      }
    }
  ],
  "metadata": {
    "colab": {
      "provenance": [],
      "include_colab_link": true
    },
    "kernelspec": {
      "display_name": "Python 3",
      "name": "python3"
    }
  },
  "nbformat": 4,
  "nbformat_minor": 0
}