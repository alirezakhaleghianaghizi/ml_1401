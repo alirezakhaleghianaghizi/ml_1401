{
  "cells": [
    {
      "cell_type": "markdown",
      "metadata": {
        "id": "view-in-github",
        "colab_type": "text"
      },
      "source": [
        "<a href=\"https://colab.research.google.com/github/alirezakhaleghianaghizi/ml_1401/blob/main/q2ml1401.ipynb\" target=\"_parent\"><img src=\"https://colab.research.google.com/assets/colab-badge.svg\" alt=\"Open In Colab\"/></a>"
      ]
    },
    {
      "cell_type": "markdown",
      "source": [
        "علیرضا خالقی آناقیزی \n",
        "99101462\n",
        "\n",
        "سوال 2\n",
        "\n",
        "در قسمت زیر فایل های مورد نظر را در گوگل درایو ذخیره کردیم و سپسفایل های مورد نظر را لود کرده و دیتا های \n",
        "موجود را به ترتیب در ماتریس های \n",
        "\n",
        "SVT \n",
        "\n",
        "ذخیره کردیم."
      ],
      "metadata": {
        "id": "dRoBqOu19WBF"
      }
    },
    {
      "cell_type": "code",
      "source": [
        "import csv \n",
        "import numpy as np\n",
        "from google.colab import drive\n",
        "drive.mount('/content/drive')\n",
        "filename1='/content/drive/MyDrive/ml/test_data.npy' \n",
        "filename2='/content/drive/MyDrive/ml/train_data.npy' \n",
        "filename3='/content/drive/MyDrive/ml/validation_data.npy' \n"
      ],
      "metadata": {
        "id": "nA3eU5Sw5LmS",
        "outputId": "62c59c16-a9af-4da4-e66f-3b2323dedca0",
        "colab": {
          "base_uri": "https://localhost:8080/"
        }
      },
      "execution_count": 1,
      "outputs": [
        {
          "output_type": "stream",
          "name": "stdout",
          "text": [
            "Mounted at /content/drive\n"
          ]
        }
      ]
    },
    {
      "cell_type": "code",
      "source": [
        "T = np.load(filename1, mmap_mode='r')\n",
        "S = np.load(filename2, mmap_mode='r')\n",
        "V = np.load(filename3, mmap_mode='r')\n",
        "#print(T)\n",
        "print(str(len(T))+'\\n')\n",
        "#print(S)\n",
        "print(str(len(S))+'\\n')\n",
        "#print(V)\n",
        "print(str(len(V))+'\\n')"
      ],
      "metadata": {
        "id": "xsfzEDUs9Duk",
        "outputId": "53f44fc8-0706-47c9-a5db-ee053370d82b",
        "colab": {
          "base_uri": "https://localhost:8080/"
        }
      },
      "execution_count": 14,
      "outputs": [
        {
          "output_type": "stream",
          "name": "stdout",
          "text": [
            "40\n",
            "\n",
            "30\n",
            "\n",
            "40\n",
            "\n"
          ]
        }
      ]
    },
    {
      "cell_type": "markdown",
      "source": [
        "حال با توجه به این که در حالت کلی میخواهیم یک ترکیب غیر خطی برای هر یک از متغییر ها بر اساس ورودی هایش بچینیم باید در رابطه ماتریسی موجود برای رگرسیون خطی ما یک \n",
        "\n",
        "ψn(X)=[ψ1n(x),ψ2n(x), ...]  =>  \n",
        "ψ1n(x)=[x1,..,x1ⁿ]ᵀ  "
      ],
      "metadata": {
        "id": "xYn1JE01BmXX"
      }
    },
    {
      "cell_type": "code",
      "source": [
        "def spiFunctionN(n,dataset) :\n",
        "  tra= np.array(dataset).T\n",
        "  xi=tra[0]\n",
        "  xi=np.array(xi,dtype=float)\n",
        "  spi=[]\n",
        "  for i in xi:\n",
        "    xin=[]\n",
        "    for j in range(n):\n",
        "      xin.append(pow(i,j))\n",
        "    xin=np.array(xin).T\n",
        "    xin=np.array(xin,dtype=float)  \n",
        "    spi.append(xin)\n",
        "  spi=np.array(spi).T\n",
        "  spi=np.array(spi,dtype=float) \n",
        "  return spi\n"
      ],
      "metadata": {
        "id": "UhbDVVzJBl6G"
      },
      "execution_count": 3,
      "outputs": []
    },
    {
      "cell_type": "markdown",
      "source": [
        "در بالا تابعی نوشتیم که با گرفتن عدد n  ماتریس سای مورد نظر را در خروجی میدهی.\n",
        "\n",
        "داده های مساله را داخل یک لیست قرار میدهیم تا با استفاده از رابطه ماتریسی ضرایب مورد نظر را به دست آوریم\n",
        "\n",
        "A=ψ*ψT\n",
        "B=ψ*y\n",
        "w*=invers(A)*B"
      ],
      "metadata": {
        "id": "zIxHCz74GX72"
      }
    },
    {
      "cell_type": "code",
      "source": [
        "tra= np.array(S).T\n",
        "yS=tra[1]\n",
        "yS=np.array(yS,dtype=float)\n",
        "\n",
        "def WofN(y,x):\n",
        "  xt=np.array(x).T\n",
        "  xt=np.array(xt,dtype=float)\n",
        "  A=np.dot(x,xt)\n",
        "  B=np.dot(x,y)\n",
        "  w=np.dot(np.linalg.inv(A),B)\n",
        "  print(\"w\"+str(len(x)))\n",
        "  print(w)\n",
        "  return(w)\n",
        "\n",
        "def calLsn(w,y,x):\n",
        "  M=(len(x[0]))\n",
        "  h=np.dot(w,x)\n",
        "  sum=0\n",
        "  max=0\n",
        "  for i in range(M):\n",
        "    sum=sum+pow((h[i]-y[i]),2)\n",
        "    if(pow((h[i]-y[i]),2)>max):\n",
        "      max=pow((h[i]-y[i]),2)\n",
        "  L=sum/M \n",
        "  print(\"L\"+str(len(x)))\n",
        "  print(L) \n",
        "  print(\"max\"+str(len(x)))\n",
        "  print(max)\n",
        "  return (L)\n",
        " "
      ],
      "metadata": {
        "id": "xs9bDXliGz5g"
      },
      "execution_count": 4,
      "outputs": []
    },
    {
      "cell_type": "markdown",
      "source": [
        "در باالا توابع مورد نظر برای محاسبه ضرایب و سپس با استفاده از ضرایب مقدار خطای محاسبه شده برای هر کدام از  درجه های مورد نظر به دست می آوریم"
      ],
      "metadata": {
        "id": "_5WiZTR-MB5q"
      }
    },
    {
      "cell_type": "code",
      "source": [
        "Ln=[]\n",
        "for i in range(15):\n",
        "  spi=spiFunctionN(i+1,S)\n",
        "  w=WofN(yS,spi)\n",
        "  li=calLsn(w,yS,spi)\n",
        "  Ln.append(li)\n",
        "print(Ln)  \n"
      ],
      "metadata": {
        "colab": {
          "base_uri": "https://localhost:8080/"
        },
        "id": "37h5g7CtMfoM",
        "outputId": "67bce1ac-d03b-413f-ed5a-81e6ef326d52"
      },
      "execution_count": 5,
      "outputs": [
        {
          "output_type": "stream",
          "name": "stdout",
          "text": [
            "w1\n",
            "[0.29137662]\n",
            "L1\n",
            "0.7979479867850431\n",
            "max1\n",
            "7.733590754728554\n",
            "w2\n",
            "[ 0.3028272  -0.17115968]\n",
            "L2\n",
            "0.7618038655184619\n",
            "max2\n",
            "9.46172686931678\n",
            "w3\n",
            "[-0.47153391  0.02303306  0.61487693]\n",
            "L3\n",
            "0.25136046057337025\n",
            "max3\n",
            "2.3432089080028113\n",
            "w4\n",
            "[-0.44772657 -0.21431613  0.63302358  0.09907814]\n",
            "L4\n",
            "0.2405669239187683\n",
            "max4\n",
            "1.7025126525945165\n",
            "w5\n",
            "[-0.13999917 -0.28076096 -0.30608827  0.17859025  0.29402467]\n",
            "L5\n",
            "0.14807869905653698\n",
            "max5\n",
            "0.660694906977806\n",
            "w6\n",
            "[-0.14467118  0.28887691 -0.48285907 -0.52448461  0.37396026  0.17091315]\n",
            "L6\n",
            "0.12273473144420241\n",
            "max6\n",
            "0.8059519880494683\n",
            "w7\n",
            "[-0.32165221  0.21470849  0.79148165 -0.65529921 -0.67297717  0.23686129\n",
            "  0.20954853]\n",
            "L7\n",
            "0.08872308853571916\n",
            "max7\n",
            "0.43934321926410524\n",
            "w8\n",
            "[-0.32123719  0.20067219  0.79125773 -0.61887301 -0.67492274  0.21489276\n",
            "  0.21033192  0.00370995]\n",
            "L8\n",
            "0.08871246906527389\n",
            "max8\n",
            "0.4434734590429635\n",
            "w9\n",
            "[-0.57681491  0.45232021  3.65340331 -1.78466323 -4.91506455  1.06287354\n",
            "  2.19631879 -0.15970799 -0.29020886]\n",
            "L9\n",
            "0.044821130927609615\n",
            "max9\n",
            "0.23356368820533963\n",
            "w10\n",
            "[-0.57892105  0.54257662  3.63311701 -2.21789034 -4.80246025  1.55145311\n",
            "  2.11689584 -0.35701179 -0.27557899  0.02623102]\n",
            "L10\n",
            "0.04460210917781135\n",
            "max10\n",
            "0.22627654740411435\n",
            "w11\n",
            "[-0.64409067  0.76160279  4.67315065 -3.39106496 -7.48992015  3.15216438\n",
            "  4.56611709 -1.10790278 -1.17443454  0.13852473  0.11387094]\n",
            "L11\n",
            "0.04074881480622429\n",
            "max11\n",
            "0.17580260977245918\n",
            "w12\n",
            "[-0.63856231  0.39815215  4.95996604 -1.02640222 -8.96073347 -0.80544743\n",
            "  6.28163608  1.65676686 -1.89369753 -0.72013557  0.21326887  0.09762355]\n",
            "L12\n",
            "0.0387059355045898\n",
            "max12\n",
            "0.1965289671292663\n",
            "w13\n",
            "[-0.64336164  0.41712333  5.07553765 -1.1694923  -9.41976253 -0.47575538\n",
            "  6.90833452  1.37220632 -2.27723395 -0.61861195  0.32161322  0.0849361\n",
            " -0.01149012]\n",
            "L13\n",
            "0.03868862526422231\n",
            "max13\n",
            "0.19930892719064724\n",
            "w14\n",
            "[-0.64625694  0.7612794   4.58828065 -4.35681213 -6.44739884  7.83500266\n",
            "  1.5680098  -7.87948918  1.65874831  4.38864517 -0.94496052 -1.21680094\n",
            "  0.13598348  0.13006569]\n",
            "L14\n",
            "0.036033016282883176\n",
            "max14\n",
            "0.18036695292356583\n",
            "w15\n",
            "[-5.55166136e-01  3.03602744e-01  2.08760459e+00 -1.80707006e-02\n",
            "  5.69266788e+00 -5.02239720e+00 -2.01056181e+01  7.70105464e+00\n",
            "  2.04959377e+01 -4.50758961e+00 -9.53877260e+00  1.17582104e+00\n",
            "  2.11221158e+00 -1.14185892e-01 -1.80381398e-01]\n",
            "L15\n",
            "0.03423679005810905\n",
            "max15\n",
            "0.24269567097962136\n",
            "[0.7979479867850431, 0.7618038655184619, 0.25136046057337025, 0.2405669239187683, 0.14807869905653698, 0.12273473144420241, 0.08872308853571916, 0.08871246906527389, 0.044821130927609615, 0.04460210917781135, 0.04074881480622429, 0.0387059355045898, 0.03868862526422231, 0.036033016282883176, 0.03423679005810905]\n"
          ]
        }
      ]
    },
    {
      "cell_type": "markdown",
      "source": [
        "رسم نمودار"
      ],
      "metadata": {
        "id": "UEBxGLJTSxM-"
      }
    },
    {
      "cell_type": "code",
      "source": [
        "import matplotlib.pyplot as plt\n",
        "xaxis=[]\n",
        "for i in range(15):\n",
        "  xaxis.append(i+1)\n",
        "xpoints = np.array(xaxis)\n",
        "ypoints = np.array(Ln)\n",
        "plt.xlabel(\"n\")\n",
        "plt.ylabel(\"LnS\")\n",
        "plt.plot(xpoints, ypoints)\n",
        "plt.show()"
      ],
      "metadata": {
        "colab": {
          "base_uri": "https://localhost:8080/",
          "height": 279
        },
        "id": "B-musf_TSwE-",
        "outputId": "3a4eaf54-2321-4793-86b5-e676c809c6d2"
      },
      "execution_count": 6,
      "outputs": [
        {
          "output_type": "display_data",
          "data": {
            "text/plain": [
              "<Figure size 432x288 with 1 Axes>"
            ],
            "image/png": "[encoded data removed]"
          },
          "metadata": {
            "needs_background": "light"
          }
        }
      ]
    },
    {
      "cell_type": "markdown",
      "source": [
        "(ب\n",
        "\n",
        "دلیل اینکه ما مقایسه  \n",
        "\n",
        "n \n",
        "\n",
        "و \n",
        "\n",
        "Ls\n",
        "\n",
        "مقایسه خوبی برای چند جمله ای نیست به این خاطر است که ما با پدیده \n",
        "\n",
        "overfitting\n",
        "\n",
        "مواجه میشویم و در این صورت با زیاد کردن درجه های ما یادگیری به گونه ای میشود که برای داده های تمرینی خطا صفر میشود ولی خطای واقعی ما بسیار زیاد میشود."
      ],
      "metadata": {
        "id": "4vJeyS5WcS0X"
      }
    },
    {
      "cell_type": "markdown",
      "source": [
        "حال مقدار خطا یعنی همان مراحل قبل را برای دیتا های \n",
        "\n",
        "V \n",
        "\n",
        "به دست میآوریم\n",
        "\n"
      ],
      "metadata": {
        "id": "4xUsPoF_Sv1O"
      }
    },
    {
      "cell_type": "code",
      "source": [
        "tra= np.array(V).T\n",
        "yV=tra[1]\n",
        "yV=np.array(yV,dtype=float)\n",
        "Ln=[]\n",
        "for i in range(15):\n",
        "  spi=spiFunctionN(i+1,S)\n",
        "  w=WofN(yS,spi)\n",
        "  spi2=spiFunctionN(i+1,V)\n",
        "  li=calLsn(w,yV,spi2)\n",
        "  Ln.append(li)\n",
        "print(Ln)\n",
        "import matplotlib.pyplot as plt\n",
        "xaxis=[]\n",
        "for i in range(15):\n",
        "  xaxis.append(i+1)\n",
        "xpoints = np.array(xaxis)\n",
        "ypoints = np.array(Ln)\n",
        "plt.xlabel(\"n\")\n",
        "plt.ylabel(\"LnV\")\n",
        "plt.plot(xpoints, ypoints)\n",
        "plt.show()"
      ],
      "metadata": {
        "colab": {
          "base_uri": "https://localhost:8080/",
          "height": 1000
        },
        "id": "8sKTECoUdEDW",
        "outputId": "ed9e2a94-d53a-4522-d2e1-1d18875d920a"
      },
      "execution_count": 19,
      "outputs": [
        {
          "output_type": "stream",
          "name": "stdout",
          "text": [
            "w1\n",
            "[0.29137662]\n",
            "L1\n",
            "1.006534268952748\n",
            "max1\n",
            "9.541411197081137\n",
            "w2\n",
            "[ 0.3028272  -0.17115968]\n",
            "L2\n",
            "1.1011413142097335\n",
            "max2\n",
            "11.524164371207252\n",
            "w3\n",
            "[-0.47153391  0.02303306  0.61487693]\n",
            "L3\n",
            "0.5175189063457092\n",
            "max3\n",
            "2.878292882919742\n",
            "w4\n",
            "[-0.44772657 -0.21431613  0.63302358  0.09907814]\n",
            "L4\n",
            "0.43354163915594957\n",
            "max4\n",
            "2.212061255439961\n",
            "w5\n",
            "[-0.13999917 -0.28076096 -0.30608827  0.17859025  0.29402467]\n",
            "L5\n",
            "0.3726737456923642\n",
            "max5\n",
            "2.3932518386872546\n",
            "w6\n",
            "[-0.14467118  0.28887691 -0.48285907 -0.52448461  0.37396026  0.17091315]\n",
            "L6\n",
            "0.5034182124315996\n",
            "max6\n",
            "7.4204516371118725\n",
            "w7\n",
            "[-0.32165221  0.21470849  0.79148165 -0.65529921 -0.67297717  0.23686129\n",
            "  0.20954853]\n",
            "L7\n",
            "0.6973543705870306\n",
            "max7\n",
            "20.123236196188188\n",
            "w8\n",
            "[-0.32123719  0.20067219  0.79125773 -0.61887301 -0.67492274  0.21489276\n",
            "  0.21033192  0.00370995]\n",
            "L8\n",
            "0.7067265534631364\n",
            "max8\n",
            "20.435744608012108\n",
            "w9\n",
            "[-0.57681491  0.45232021  3.65340331 -1.78466323 -4.91506455  1.06287354\n",
            "  2.19631879 -0.15970799 -0.29020886]\n",
            "L9\n",
            "0.11129319168843814\n",
            "max9\n",
            "0.8459479054242776\n",
            "w10\n",
            "[-0.57892105  0.54257662  3.63311701 -2.21789034 -4.80246025  1.55145311\n",
            "  2.11689584 -0.35701179 -0.27557899  0.02623102]\n",
            "L10\n",
            "0.13428689765236387\n",
            "max10\n",
            "1.4730139287262178\n",
            "w11\n",
            "[-0.64409067  0.76160279  4.67315065 -3.39106496 -7.48992015  3.15216438\n",
            "  4.56611709 -1.10790278 -1.17443454  0.13852473  0.11387094]\n",
            "L11\n",
            "0.9009469047231276\n",
            "max11\n",
            "30.115194668235112\n",
            "w12\n",
            "[-0.63856231  0.39815215  4.95996604 -1.02640222 -8.96073347 -0.80544743\n",
            "  6.28163608  1.65676686 -1.89369753 -0.72013557  0.21326887  0.09762355]\n",
            "L12\n",
            "3.271515509894182\n",
            "max12\n",
            "120.83345990305703\n",
            "w13\n",
            "[-0.64336164  0.41712333  5.07553765 -1.1694923  -9.41976253 -0.47575538\n",
            "  6.90833452  1.37220632 -2.27723395 -0.61861195  0.32161322  0.0849361\n",
            " -0.01149012]\n",
            "L13\n",
            "2.7246471242943815\n",
            "max13\n",
            "99.72419767847113\n",
            "w14\n",
            "[-0.64625694  0.7612794   4.58828065 -4.35681213 -6.44739884  7.83500266\n",
            "  1.5680098  -7.87948918  1.65874831  4.38864517 -0.94496052 -1.21680094\n",
            "  0.13598348  0.13006569]\n",
            "L14\n",
            "20.3862613565756\n",
            "max14\n",
            "784.9406474307729\n",
            "w15\n",
            "[-5.55166136e-01  3.03602744e-01  2.08760459e+00 -1.80707006e-02\n",
            "  5.69266788e+00 -5.02239720e+00 -2.01056181e+01  7.70105464e+00\n",
            "  2.04959377e+01 -4.50758961e+00 -9.53877260e+00  1.17582104e+00\n",
            "  2.11221158e+00 -1.14185892e-01 -1.80381398e-01]\n",
            "L15\n",
            "1.4552015308046573\n",
            "max15\n",
            "52.83988906290791\n",
            "[1.006534268952748, 1.1011413142097335, 0.5175189063457092, 0.43354163915594957, 0.3726737456923642, 0.5034182124315996, 0.6973543705870306, 0.7067265534631364, 0.11129319168843814, 0.13428689765236387, 0.9009469047231276, 3.271515509894182, 2.7246471242943815, 20.3862613565756, 1.4552015308046573]\n"
          ]
        },
        {
          "output_type": "display_data",
          "data": {
            "text/plain": [
              "<Figure size 432x288 with 1 Axes>"
            ],
            "image/png": "[encoded data removed]"
          },
          "metadata": {
            "needs_background": "light"
          }
        }
      ]
    },
    {
      "cell_type": "markdown",
      "source": [
        "(ج\n",
        "\n",
        "با توجه به نمودار های بالا که در هردو ابتدا با بیشتر شدن درجه چند جمله ای ها مقدار خطا کمتر شده است ولی در یک درجه وسطی مقدار داده های ولیدیشن کمینه شده و از آن جا به بعد مقدار خطای ما بسیار زیاد شده است و این همان دلیل اور فیتینگ میباشد یعنی در درجه های بیشتر لزوما مقدار خطای ما زیاد تر نشده است."
      ],
      "metadata": {
        "id": "tzabqWpdew0L"
      }
    },
    {
      "cell_type": "markdown",
      "source": [
        "(د\n",
        "\n",
        "با توجه به این که مقدار خطا در هر دو نمودار به ازای درجه 9  در کمترین مقدار میباشد پس درجه 9 انتخاب میکنیم .\n",
        "هردو نمودار میتوانند مورد بررسی قرار بگیرند چون در نمودار اولی نیز از درجه 9 به بعد خطای ما تقریبا ثابت مانده است ولی در نمودار \n",
        "\n",
        "VT\n",
        "\n",
        "به صورت کاملا واضح میبینیم که در درجه 9 کمینه خطا را داریم در و در درجه های دیگر خطای ما بیشتر میباشد.\n",
        "\n",
        "پس ما نمودار \n",
        "\n",
        "V\n",
        "\n",
        "را مورد قیاس برای درجه بندی مان در نظر میگیریم.\n",
        "\n"
      ],
      "metadata": {
        "id": "vBeX_YCzgOSS"
      }
    },
    {
      "cell_type": "markdown",
      "source": [
        "(ه\n",
        "\n",
        "حالا باید همان مراحل را برای دیتا تست انجام دهیم فقط درجه 9 ام را مورد بررسی قرار میدهیم."
      ],
      "metadata": {
        "id": "XCHs9_ZpxNzz"
      }
    },
    {
      "cell_type": "code",
      "source": [
        "tra= np.array(T).T\n",
        "yT=tra[1]\n",
        "yT=np.array(yT,dtype=float)\n",
        "print(len(yT))\n",
        "spi=spiFunctionN(9,S)\n",
        "w=WofN(yS,spi)\n",
        "spi2=spiFunctionN(9,T)\n",
        "LnT=calLsn(w,yT,spi2)\n",
        "print(\"LNT=\"+str(LnT))\n"
      ],
      "metadata": {
        "colab": {
          "base_uri": "https://localhost:8080/"
        },
        "id": "Jt8YCpz3xNXc",
        "outputId": "2bd447cc-33e4-4975-dc17-d3fcd8f4dd94"
      },
      "execution_count": 23,
      "outputs": [
        {
          "output_type": "stream",
          "name": "stdout",
          "text": [
            "40\n",
            "w9\n",
            "[-0.57681491  0.45232021  3.65340331 -1.78466323 -4.91506455  1.06287354\n",
            "  2.19631879 -0.15970799 -0.29020886]\n",
            "L9\n",
            "0.11791424797228751\n",
            "max9\n",
            "0.4893690666504728\n",
            "LNT=0.11791424797228751\n"
          ]
        }
      ]
    },
    {
      "cell_type": "markdown",
      "source": [
        "در بالا دیدیم مقدار خطا برابر 0.35 میباشد که این همان تخمین با استفاده از دیتا های تست است"
      ],
      "metadata": {
        "id": "Kr_926aj3HGv"
      }
    },
    {
      "cell_type": "code",
      "source": [
        "Ln=[]\n",
        "for i in range(15):\n",
        "  spi=spiFunctionN(i+1,S)\n",
        "  w=WofN(yS,spi)\n",
        "  spi2=spiFunctionN(i+1,T)\n",
        "  li=calLsn(w,yT,spi2)\n",
        "  Ln.append(li)\n",
        "print(Ln)\n",
        "import matplotlib.pyplot as plt\n",
        "xaxis=[]\n",
        "for i in range(15):\n",
        "  xaxis.append(i+1)\n",
        "xpoints = np.array(xaxis)\n",
        "ypoints = np.array(Ln)\n",
        "plt.xlabel(\"n\")\n",
        "plt.ylabel(\"LnT\")\n",
        "plt.plot(xpoints, ypoints)\n",
        "plt.show()"
      ],
      "metadata": {
        "colab": {
          "base_uri": "https://localhost:8080/",
          "height": 1000
        },
        "id": "AiewXYc7zPAz",
        "outputId": "41ed1be1-a6dc-4184-9d07-9c63b6e4815e"
      },
      "execution_count": 24,
      "outputs": [
        {
          "output_type": "stream",
          "name": "stdout",
          "text": [
            "w1\n",
            "[0.29137662]\n",
            "L1\n",
            "0.6479725528453107\n",
            "max1\n",
            "8.929540294527085\n",
            "w2\n",
            "[ 0.3028272  -0.17115968]\n",
            "L2\n",
            "0.6856204094212919\n",
            "max2\n",
            "10.898129752354453\n",
            "w3\n",
            "[-0.47153391  0.02303306  0.61487693]\n",
            "L3\n",
            "0.47361912092035335\n",
            "max3\n",
            "3.047655057362335\n",
            "w4\n",
            "[-0.44772657 -0.21431613  0.63302358  0.09907814]\n",
            "L4\n",
            "0.42071807556775853\n",
            "max4\n",
            "2.925661134266275\n",
            "w5\n",
            "[-0.13999917 -0.28076096 -0.30608827  0.17859025  0.29402467]\n",
            "L5\n",
            "0.33017199670572595\n",
            "max5\n",
            "1.8519902565075634\n",
            "w6\n",
            "[-0.14467118  0.28887691 -0.48285907 -0.52448461  0.37396026  0.17091315]\n",
            "L6\n",
            "0.3533737119564516\n",
            "max6\n",
            "1.4484390401429184\n",
            "w7\n",
            "[-0.32165221  0.21470849  0.79148165 -0.65529921 -0.67297717  0.23686129\n",
            "  0.20954853]\n",
            "L7\n",
            "0.30390750247196574\n",
            "max7\n",
            "4.064902372393891\n",
            "w8\n",
            "[-0.32123719  0.20067219  0.79125773 -0.61887301 -0.67492274  0.21489276\n",
            "  0.21033192  0.00370995]\n",
            "L8\n",
            "0.3071902244605096\n",
            "max8\n",
            "4.149745524175987\n",
            "w9\n",
            "[-0.57681491  0.45232021  3.65340331 -1.78466323 -4.91506455  1.06287354\n",
            "  2.19631879 -0.15970799 -0.29020886]\n",
            "L9\n",
            "0.11791424797228751\n",
            "max9\n",
            "0.4893690666504728\n",
            "w10\n",
            "[-0.57892105  0.54257662  3.63311701 -2.21789034 -4.80246025  1.55145311\n",
            "  2.11689584 -0.35701179 -0.27557899  0.02623102]\n",
            "L10\n",
            "0.11814494602127767\n",
            "max10\n",
            "0.494108011718777\n",
            "w11\n",
            "[-0.64409067  0.76160279  4.67315065 -3.39106496 -7.48992015  3.15216438\n",
            "  4.56611709 -1.10790278 -1.17443454  0.13852473  0.11387094]\n",
            "L11\n",
            "0.25434779109232586\n",
            "max11\n",
            "5.12806053844424\n",
            "w12\n",
            "[-0.63856231  0.39815215  4.95996604 -1.02640222 -8.96073347 -0.80544743\n",
            "  6.28163608  1.65676686 -1.89369753 -0.72013557  0.21326887  0.09762355]\n",
            "L12\n",
            "0.7063080167109901\n",
            "max12\n",
            "22.4414915046402\n",
            "w13\n",
            "[-0.64336164  0.41712333  5.07553765 -1.1694923  -9.41976253 -0.47575538\n",
            "  6.90833452  1.37220632 -2.27723395 -0.61861195  0.32161322  0.0849361\n",
            " -0.01149012]\n",
            "L13\n",
            "0.6092695949328558\n",
            "max13\n",
            "18.5542923032795\n",
            "w14\n",
            "[-0.64625694  0.7612794   4.58828065 -4.35681213 -6.44739884  7.83500266\n",
            "  1.5680098  -7.87948918  1.65874831  4.38864517 -0.94496052 -1.21680094\n",
            "  0.13598348  0.13006569]\n",
            "L14\n",
            "3.5813251726955144\n",
            "max14\n",
            "135.92034389577475\n",
            "w15\n",
            "[-5.55166136e-01  3.03602744e-01  2.08760459e+00 -1.80707006e-02\n",
            "  5.69266788e+00 -5.02239720e+00 -2.01056181e+01  7.70105464e+00\n",
            "  2.04959377e+01 -4.50758961e+00 -9.53877260e+00  1.17582104e+00\n",
            "  2.11221158e+00 -1.14185892e-01 -1.80381398e-01]\n",
            "L15\n",
            "0.2371379647751882\n",
            "max15\n",
            "3.3639323723105092\n",
            "[0.6479725528453107, 0.6856204094212919, 0.47361912092035335, 0.42071807556775853, 0.33017199670572595, 0.3533737119564516, 0.30390750247196574, 0.3071902244605096, 0.11791424797228751, 0.11814494602127767, 0.25434779109232586, 0.7063080167109901, 0.6092695949328558, 3.5813251726955144, 0.2371379647751882]\n"
          ]
        },
        {
          "output_type": "display_data",
          "data": {
            "text/plain": [
              "<Figure size 432x288 with 1 Axes>"
            ],
            "image/png": "[encoded data removed]"
          },
          "metadata": {
            "needs_background": "light"
          }
        }
      ]
    },
    {
      "cell_type": "markdown",
      "source": [
        "در بالا نیز باز هم برای مقادیر مختلف درجات مقدار خطای تست را اندازه گیری کردیم که خطای واقعی برای درجه 9 کمینه مقدارش را دارد"
      ],
      "metadata": {
        "id": "OO8TxvHjBJKv"
      }
    },
    {
      "cell_type": "markdown",
      "source": [
        "(و\n",
        "\n",
        "در حالت کلی ما بعد از استفاده از داده های تمرین نیاز داریم تا ببینیم چه ضرایبی مورد پسند میباشند و عملکرد مناسب تری دارند در نتیجه یک سری دیتا هایی را میگیریم و آن ها را استفاده میکنیم تا بتوانیم ببینیم عملکرد مدل های به دست آمده روی دیتا های جدید به چه گونه است .\n",
        "سپس با توجه به عمل کرد مدل ها روی دیتا ها یک مدل را به عنوان بهترین مدل به دست می آوریم .\n",
        "سپس برای مدلی که به دست آوردیم باید یک سری دیتا های جدید به دست آوریم و روی آن خطای مدل را اندازه گیری میکنیم \n",
        "در واقع دیتا های ولیدیشن برای به دست آوردن بهترین مدل استفاده میشود ولی نمیتوان دیگر از آن برای حساب خطای مدل استفاده کنیم."
      ],
      "metadata": {
        "id": "yOidheli0fY2"
      }
    }
  ],
  "metadata": {
    "colab": {
      "provenance": [],
      "include_colab_link": true
    },
    "kernelspec": {
      "display_name": "Python 3",
      "name": "python3"
    }
  },
  "nbformat": 4,
  "nbformat_minor": 0
}